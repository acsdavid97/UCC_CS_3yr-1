{
 "cells": [
  {
   "cell_type": "markdown",
   "metadata": {
    "slideshow": {
     "slide_type": "slide"
    }
   },
   "source": [
    "<h1>CS4618: Artificial Intelligence I</h1>\n",
    "<h1>Introduction</h1>\n",
    "<h2>\n",
    "    Derek Bridge<br />\n",
    "    School of Computer Science and Information Technology<br />\n",
    "    University College Cork\n",
    "</h2>"
   ]
  },
  {
   "cell_type": "markdown",
   "metadata": {
    "slideshow": {
     "slide_type": "skip"
    }
   },
   "source": [
    "<h1>Initialization</h1>\n",
    "$\\newcommand{\\Set}[1]{\\{#1\\}}$ \n",
    "$\\newcommand{\\Tuple}[1]{\\langle#1\\rangle}$ \n",
    "$\\newcommand{\\v}[1]{\\pmb{#1}}$ \n",
    "$\\newcommand{\\cv}[1]{\\begin{bmatrix}#1\\end{bmatrix}}$ \n",
    "$\\newcommand{\\rv}[1]{[#1]}$ \n",
    "$\\DeclareMathOperator{\\argmax}{arg\\,max}$ \n",
    "$\\DeclareMathOperator{\\argmin}{arg\\,min}$ \n",
    "$\\DeclareMathOperator{\\dist}{dist}$"
   ]
  },
  {
   "cell_type": "code",
   "execution_count": 1,
   "metadata": {
    "collapsed": false,
    "slideshow": {
     "slide_type": "skip"
    }
   },
   "outputs": [],
   "source": [
    "%reload_ext autoreload\n",
    "%autoreload 2\n",
    "%matplotlib inline"
   ]
  },
  {
   "cell_type": "code",
   "execution_count": 2,
   "metadata": {
    "collapsed": false,
    "slideshow": {
     "slide_type": "skip"
    }
   },
   "outputs": [],
   "source": [
    "import pandas as pd\n",
    "import numpy as np\n",
    "import matplotlib.pyplot as plt"
   ]
  },
  {
   "cell_type": "markdown",
   "metadata": {
    "slideshow": {
     "slide_type": "slide"
    }
   },
   "source": [
    "<h1>About CS4618 &amp; CS4619</h1>\n",
    "<table>\n",
    "    <tr>\n",
    "        <th>Lecturer:</th>\n",
    "        <td>Derek Bridge, Room G-61, Western Gateway Building<br />\n",
    "            d stop bridge amphora cs plip ucc plop ie<br />\n",
    "            <a href=\"http://www.cs.ucc.ie/dbridge.html\">www.cs.ucc.ie/dbridge.html</a>\n",
    "        </td>\n",
    "    </tr>\n",
    "    <tr>\n",
    "        <th>Credit weighting:</th>\n",
    "        <td>Both modules are 5-credit electives</td>\n",
    "    </tr>\n",
    "    <tr>\n",
    "        <th>Prerequisites:</th>\n",
    "        <td>CS2515, CS2516 (Algorithms &amp; Data Structures)<br />\n",
    "            Lots of notation and formulae, especially vectors and matrices<br />\n",
    "            Python programming\n",
    "        </td>\n",
    "    </tr>\n",
    "    <tr>\n",
    "        <th>Course web site:</th>\n",
    "        <td><a href=\"http://www.cs.ucc.ie/~dgb/courses/ai1.html\">www.cs.ucc.ie/~dgb/courses/ai1.html</a></td>\n",
    "    <tr>\n",
    "</table>"
   ]
  },
  {
   "cell_type": "markdown",
   "metadata": {
    "slideshow": {
     "slide_type": "slide"
    }
   },
   "source": [
    "<h1>About CS4618 &amp; CS4619</h1>\n",
    "<table>\n",
    "    <tr>\n",
    "        <th>Lectures:</th>\n",
    "        <td>2 &times; 1 hr per week</td>\n",
    "    </tr>\n",
    "    <tr>\n",
    "        <th>Labs:</th>\n",
    "        <td>1 &times; 2 hr per week</td>\n",
    "    </tr>\n",
    "    <tr>\n",
    "        <th>Private study:</th>\n",
    "        <td>At least 2 hrs per week</td>\n",
    "    </tr>\n",
    "</table>"
   ]
  },
  {
   "cell_type": "markdown",
   "metadata": {
    "slideshow": {
     "slide_type": "slide"
    }
   },
   "source": [
    "<h1>About CS4618 &amp; CS4619</h1>\n",
    "<table>\n",
    "    <tr>\n",
    "        <th>Examination:</th>\n",
    "        <td>1.5 hr written exam (80% of the marks)</td>\n",
    "    </tr>\n",
    "    <tr>\n",
    "        <th>Continuous assessment:</th>\n",
    "        <td>Short programming assignment(s) (20% of the marks)</td>\n",
    "    </tr>\n",
    "    <tr>\n",
    "        <th>How to fail:</th>\n",
    "        <td>Skip lectures &amp; labs; avoid private study; cram just before; expect the exam to be a memory test</td>\n",
    "    </tr>\n",
    "    <tr>\n",
    "        <th>How to pass:</th>\n",
    "        <td>Attend lectures &amp; labs; summarize the notes; tackle the lab activities properly; expect a problem-solving exam</td>\n",
    "    </tr>\n",
    "</table>"
   ]
  },
  {
   "cell_type": "markdown",
   "metadata": {
    "slideshow": {
     "slide_type": "slide"
    }
   },
   "source": [
    "<h1>Plagiarism</h1>\n",
    "<ol>\n",
    "    <li>\n",
    "        Plagiarism is presenting someone else’s work as your own. It is a violation of UCC Policy and there are \n",
    "        strict and severe penalties.\n",
    "    </li>\n",
    "    <li>\n",
    "        You must read and comply with the UCC Policy on Plagiarism <a href=\"http://www.ucc.ie/en/exams/procedures-regulations/\">www.ucc.ie/en/exams/procedures-regulations/</a>\n",
    "    </li>\n",
    "    <li>\n",
    "        The Policy applies to all work submitted, including software.\n",
    "    </li>\n",
    "    <li>\n",
    "        You can expect that your work will be checked for evidence of plagiarism or collusion.\n",
    "    </li>\n",
    "    <li>\n",
    "        In some circumstances it may be acceptable to reuse a small amount of work by others, but only if you \n",
    "        provide explicit acknowledgement and justification.\n",
    "    </li>\n",
    "    <li>\n",
    "        If in doubt ask your module lecturer prior to submission. Better safe than sorry!\n",
    "    </li>\n",
    "</ol>"
   ]
  },
  {
   "cell_type": "markdown",
   "metadata": {
    "slideshow": {
     "slide_type": "slide"
    }
   },
   "source": [
    "<h1>AI in the news</h1>\n",
    "<table>\n",
    "    <tr>\n",
    "        <td style=\"border-right-width: 0\">1997</td><td style=\"border-left-width: 0\"><img src=\"images/01_deepblue.jpg\" /></td>\n",
    "        <td style=\"border-right-width: 0\">2016</td><td style=\"border-left-width: 0\"><img src=\"images/01_alphago.jpg\" /></td>\n",
    "    </tr>\n",
    "    <tr>\n",
    "        <td style=\"border-right-width: 0\">2011</td><td style=\"border-left-width: 0\"><img src=\"images/01_watson.jpg\" /></td>\n",
    "        <td style=\"border-right-width: 0\">2017</td><td style=\"border-left-width: 0\"><img src=\"images/01_libratus.jpg\" /></td>\n",
    "    </tr>\n",
    "</table>\n",
    "<ul>\n",
    "    <li>What makes chess difficult?</li>\n",
    "    <li>Quiz shows? Go? Poker?</li>\n",
    "</ul>"
   ]
  },
  {
   "cell_type": "markdown",
   "metadata": {
    "slideshow": {
     "slide_type": "slide"
    }
   },
   "source": [
    "<h1>But AI is much more pervasive</h1>\n",
    "<div style=\"display: flex\">\n",
    "    <img src=\"images/01_google.jpg\" />\n",
    "    <img src=\"images/01_facebook.jpg\" />\n",
    "    <img src=\"images/01_spotify.jpg\" />\n",
    "    <img src=\"images/01_amazon.jpg\" />\n",
    "</div>"
   ]
  },
  {
   "cell_type": "markdown",
   "metadata": {
    "slideshow": {
     "slide_type": "slide"
    }
   },
   "source": [
    "<h1>Why do we want to build intelligent systems?</h1>\n",
    "<ul>\n",
    "    <li>The main goal of AI is to build smarter tools</li>\n",
    "    <li>Some rough-and-ready definitions:\n",
    "        <ul>\n",
    "            <li>A <b>tool</b> is an object that a creature uses intentionally to transform another object \n",
    "                (possibly including the creature itself)\n",
    "            </li>\n",
    "            <li>A tool is only <b>useful</b> if it:\n",
    "                <ul>\n",
    "                    <li><b>increases throughput</b>: more output for the same or less input (better use of scarce \n",
    "                        resources, including time); and/or\n",
    "                    </li>\n",
    "                    <li><b>reduces externalities</b>: fewer undesirable side-effects (e.g. less pollution, lower \n",
    "                        risks to life and limb, etc.)\n",
    "                    </li>\n",
    "                </ul>\n",
    "            </li>\n",
    "        </ul>\n",
    "    </li>\n",
    "</ul>"
   ]
  },
  {
   "cell_type": "markdown",
   "metadata": {
    "slideshow": {
     "slide_type": "slide"
    }
   },
   "source": [
    "<h1>Examples</h1>\n",
    "<ul>\n",
    "    <li>So, based on the previous definitions, why do we want to build&hellip;</li>\n",
    "</ul>\n",
    "<table>\n",
    "    <tr>\n",
    "        <td>&hellip;self-driving vehicles?</td><td>&hellip;intelligent news filters?</td>\n",
    "        <td>&hellip;medical diagnosis tools?</td><td>&hellip;bomb disposal robots?</td>\n",
    "    </tr>\n",
    "    <tr>\n",
    "        <td><img src=\"images/01_car.jpg\" /></td>\n",
    "        <td><img src=\"images/01_news.jpg\" /></td>\n",
    "        <td><img src=\"images/01_medicine.jpg\" /></td>\n",
    "        <td><img src=\"images/01_bomb.jpg\" /></td>\n",
    "    </tr>\n",
    "</table>"
   ]
  },
  {
   "cell_type": "markdown",
   "metadata": {
    "slideshow": {
     "slide_type": "slide"
    }
   },
   "source": [
    "<h1>Is AI even possible?</h1>\n",
    "<table>\n",
    "    <tr>\n",
    "        <td><b>No</b>: there's a special and essential ingredient that can't be replicated, e.g. soul, spirit, consciousness, free will, creativity, humour, &hellip;\n",
    "        </td>\n",
    "        <td>Kind of, yes: we can <b>simulate</b> intelligence\n",
    "            <ul>\n",
    "                <li>Outwardly, systems may <em>behave as if</em> intelligent</li>\n",
    "                <li>But the way they achieve this behaviour (the internal process) doesn't qualify as true thinking</li>\n",
    "            </ul>\n",
    "        </td>\n",
    "        <td>Yes, we can build <b>true human-like</b> intelligence</td>\n",
    "        <td>Yes, we can build true intelligences but they won't necessarily be like us<br />\n",
    "            AI = <b>alien intelligence</b>\n",
    "        </td>\n",
    "    </tr>\n",
    "</table>\n",
    "<ul>\n",
    "    <li>Where do you sit in this table? Or, do you have a different view?</li>\n",
    "</ul>"
   ]
  },
  {
   "cell_type": "markdown",
   "metadata": {
    "slideshow": {
     "slide_type": "slide"
    }
   },
   "source": [
    "<h1>What are the risks?</h1>\n",
    "<table>\n",
    "    <tr>\n",
    "        <td style=\"border-right-width: 0\"><img style=\"width: 150px\" src=\"images/01_musk.jpg\" /></td>\n",
    "        <td style=\"border-left-width: 0\">\"the most serious threat to the survival of the human race\"</td>\n",
    "        <td style=\"border-right-width: 0\"><img style=\"width: 200px\" src=\"images/01_hawking.jpg\" /></td>\n",
    "        <td style=\"border-left-width: 0\">\"The development of full artificial intelligence could spell the \n",
    "            end of the human race&hellip;It would take off on its own, and re-design itself at an ever increasing rate\"\n",
    "        </td>\n",
    "    </tr>\n",
    "</table>"
   ]
  },
  {
   "cell_type": "markdown",
   "metadata": {
    "slideshow": {
     "slide_type": "slide"
    }
   },
   "source": [
    "<h1>A dose of realism</h1>\n",
    "<table>\n",
    "    <tr>\n",
    "        <td style=\"border-right-width: 0\"><img style=\"width: 200px\" src=\"images/01_ng.jpg\" /></td>\n",
    "        <td style=\"border-left-width: 0\">\n",
    "            \"I don’t work on not turning AI evil today for the same reason I don't worry about the problem of \n",
    "            overpopulation on the planet Mars.\"\n",
    "        </td>\n",
    "    </tr>\n",
    "    <tr>\n",
    "        <td style=\"border-right-width: 0\"><img style=\"width: 200px\" src=\"images/01_togelius.jpg\" /></td>\n",
    "        <td style=\"border-left-width: 0\">\n",
    "            <a href=\"http://togelius.blogspot.ie/2017/07/some-advice-for-journalists-writing.html\">\n",
    "                Some advice for journalists writing about AI\n",
    "            </a><br />\n",
    "            \"AI is a collection of methods &hellip; that can do something impressive, such as playing a game \n",
    "            or drawing pictures of cats. However, you can safely assume that the same system cannot both play \n",
    "            games and draw pictures of cats. &hellip; [Journalists can] make it seem like there are machines \n",
    "            with general intelligence out there. There are not.\"\n",
    "        </td>\n",
    "    </tr>\n",
    "</table>"
   ]
  },
  {
   "cell_type": "markdown",
   "metadata": {
    "slideshow": {
     "slide_type": "slide"
    }
   },
   "source": [
    "<h1>Is AI currently overhyped?</h1>\n",
    "<figure>\n",
    "    <img src=\"images/01_hype.png\" />\n",
    "</figure>"
   ]
  },
  {
   "cell_type": "markdown",
   "metadata": {
    "slideshow": {
     "slide_type": "slide"
    }
   },
   "source": [
    "<h1>So what are the real risks?</h1>\n",
    "<ul>\n",
    "    <li>We can analyse the dangers in terms of:\n",
    "        <ul>\n",
    "            <li>malevolent goals, and</li>\n",
    "            <li>destructive methods for achieving benevolent or malevolent goals (e.g. methods that have\n",
    "                unacceptable externalities)\n",
    "            </li>\n",
    "        </ul>\n",
    "    </li>\n",
    "    <li>In the near to medium term, we should worry much less about super-intelligences that develop their own\n",
    "        malevolent goals (e.g. to kill, enslave or displace us)\n",
    "    </li>\n",
    "    <li>Rather, we should worry about governments, corporations and individuals intentionally or \n",
    "        unintentionally building AI systems that try to achieve their goals using destructive methods<br />\n",
    "        E.g.\n",
    "        <ul>\n",
    "            <li>so-called 'collateral damage' from autonomous weapons</li>\n",
    "            <li>displacement of employment</li>\n",
    "            <li>reduction in the economic, military or social value of some classes of human beings</li>\n",
    "            <li>invasions of privacy</li>\n",
    "            <li>'filter bubbles' or 'echo chambers'</li>\n",
    "            <li>adoption or perpetuation of bias and prejudice</li>\n",
    "            <li>data-intensive AI restricted to a handful of hardware-rich and data-rich corporations</li>\n",
    "        </ul>\n",
    "    </li>\n",
    "</ul>"
   ]
  },
  {
   "cell_type": "markdown",
   "metadata": {
    "collapsed": false,
    "slideshow": {
     "slide_type": "slide"
    }
   },
   "source": [
    "<h1>But what is intelligence?</h1>\n",
    "<ul>\n",
    "    <li>Some people define it in terms of outward behaviours, e.g. the <i>Turing Test</i></li>\n",
    "    <li>Some people define it in terms of various skills, e.g. reasoning, planning, learning, &hellip;\n",
    "        or playing chess, composing poetry, &hellip;\n",
    "    </li>\n",
    "    <li>Think about  my far-from-perfect definition before the next lecture:\n",
    "        <p style=\"font-style: italic\">\n",
    "            A system's degree of intelligence is defined in terms of its capacity to act autonomously and rationally \n",
    "            when faced with disorder, uncertainty, imprecision and intractability.\n",
    "        </p>\n",
    "    </li>\n",
    "</ul>"
   ]
  }
 ],
 "metadata": {
  "celltoolbar": "Slideshow",
  "kernelspec": {
   "display_name": "Python 3",
   "language": "python",
   "name": "python3"
  },
  "language_info": {
   "codemirror_mode": {
    "name": "ipython",
    "version": 3
   },
   "file_extension": ".py",
   "mimetype": "text/x-python",
   "name": "python",
   "nbconvert_exporter": "python",
   "pygments_lexer": "ipython3",
   "version": "3.5.1"
  }
 },
 "nbformat": 4,
 "nbformat_minor": 0
}
