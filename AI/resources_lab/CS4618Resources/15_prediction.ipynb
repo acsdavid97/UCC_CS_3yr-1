{
 "cells": [
  {
   "cell_type": "markdown",
   "metadata": {
    "slideshow": {
     "slide_type": "slide"
    }
   },
   "source": [
    "<h1>CS4618: Artificial Intelligence I</h1>\n",
    "<h1>Prediction</h1>\n",
    "<h2>\n",
    "    Derek Bridge<br>\n",
    "    School of Computer Science and Information Technology<br>\n",
    "    University College Cork\n",
    "</h2>"
   ]
  },
  {
   "cell_type": "markdown",
   "metadata": {
    "slideshow": {
     "slide_type": "skip"
    }
   },
   "source": [
    "<h1>Initialization</h1>\n",
    "$\\newcommand{\\Set}[1]{\\{#1\\}}$ \n",
    "$\\newcommand{\\Tuple}[1]{\\langle#1\\rangle}$ \n",
    "$\\newcommand{\\v}[1]{\\pmb{#1}}$ \n",
    "$\\newcommand{\\cv}[1]{\\begin{bmatrix}#1\\end{bmatrix}}$ \n",
    "$\\newcommand{\\rv}[1]{[#1]}$ \n",
    "$\\DeclareMathOperator{\\argmax}{arg\\,max}$ \n",
    "$\\DeclareMathOperator{\\argmin}{arg\\,min}$ \n",
    "$\\DeclareMathOperator{\\dist}{dist}$\n",
    "$\\DeclareMathOperator{\\abs}{abs}$"
   ]
  },
  {
   "cell_type": "code",
   "execution_count": 1,
   "metadata": {
    "collapsed": false,
    "slideshow": {
     "slide_type": "skip"
    }
   },
   "outputs": [],
   "source": [
    "%reload_ext autoreload\n",
    "%autoreload 2\n",
    "%matplotlib inline"
   ]
  },
  {
   "cell_type": "code",
   "execution_count": 2,
   "metadata": {
    "collapsed": false,
    "slideshow": {
     "slide_type": "skip"
    }
   },
   "outputs": [],
   "source": [
    "import pandas as pd\n",
    "import numpy as np\n",
    "import matplotlib.pyplot as plt"
   ]
  },
  {
   "cell_type": "markdown",
   "metadata": {
    "slideshow": {
     "slide_type": "slide"
    }
   },
   "source": [
    "<h1>Prediction</h1>\n",
    "<ul>\n",
    "    <li>We want to create programs that make <b>predictions</b>\n",
    "        <ul>\n",
    "            <li>(In everyday use, prediction is about the future; we use the word more generally in AI)</li>\n",
    "        </ul>\n",
    "    </li>\n",
    "    <li>Generically, we refer to such programs as <b>estimators</b></li>\n",
    "    <li>There are two main types of prediction, and hence two types of estimator:\n",
    "        <figure>\n",
    "        <img src=\"images/15_prediction.png\" />\n",
    "        </figure>\n",
    "        In both, we are given a vector $\\v{x}$ of feature values that describes some object:\n",
    "        <ul>\n",
    "            <li>\n",
    "                <b>Regression</b> means predicting a <b>target value</b>, which is numeric (real-valued)\n",
    "                <ul>\n",
    "                    <li>e.g. given a vector of feature values that describe a house, predict the selling price of the house</li>\n",
    "                </ul>\n",
    "            </li>\n",
    "            <li>\n",
    "                <b>Classification</b> means predicting the object's <b>class</b> from a finite (and usually small) \n",
    "                   set of classes\n",
    "                   <ul>\n",
    "                       <li>e.g. given a vector of feature values that describe an email, predict whether the email is spam or ham</li>\n",
    "                   </ul>\n",
    "            </li>\n",
    "        </ul>\n",
    "    </li>\n",
    "</ul>"
   ]
  },
  {
   "cell_type": "markdown",
   "metadata": {
    "slideshow": {
     "slide_type": "slide"
    }
   },
   "source": [
    "<h1>Notation</h1>\n",
    "<ul>\n",
    "    <li>We continue to use $\\v{x}$ for an object</li>\n",
    "    <li>We will use $y$ for the target value (in regression) or class label (in classification)\n",
    "    </li>\n",
    "    <li>Actually, we will be even more precise:\n",
    "        <ul>\n",
    "            <li>We will use $y$ for the <em>actual</em> target value/class label</li>\n",
    "            <li>We will use $\\hat{y}$ for a <em>predicted</em> target value/class label</li>\n",
    "        </ul>\n",
    "    </li>\n",
    "</ul>"
   ]
  },
  {
   "cell_type": "markdown",
   "metadata": {
    "slideshow": {
     "slide_type": "slide"
    }
   },
   "source": [
    "<h1>There's more to say about classification</h1>\n",
    "<ul>\n",
    "    <li>Classification means predicting an object's class from a finite (and usually small) set of classes\n",
    "        <ul>\n",
    "            <li>\n",
    "                We assume we have a finite set of <b>labels</b>, $\\cal{C}$, one per class\n",
    "            </li>\n",
    "            <li>\n",
    "                Given an object $\\v{x}$, our task is to assign one of the labels $\\hat{y} \\in \\cal{C}$ to the object.\n",
    "            </li>\n",
    "        </ul>\n",
    "    <li>We will often use integers for the labels\n",
    "        <ul>\n",
    "            <li>E.g. given an email, a spam filter predicts $\\hat{y} \\in \\Set{0,1}$, where 0 means ham and  1 means spam\n",
    "            </li>\n",
    "            <li>\n",
    "                But a classifier should not treat these as continuous, e.g. it should never output 0.5\n",
    "            </li>\n",
    "            <li>\n",
    "                Furthermore, where there are more than two labels, we should not assume a relationship\n",
    "                between the labels\n",
    "                <ul>\n",
    "                    <li>Suppose there are three classes $\\Set{1,2,3}$</li>\n",
    "                    <li>Suppose we are classifying object $\\v{x}$ and we happen to know that its <em>actual</em> \n",
    "                        class label is $y = 3$\n",
    "                    </li>\n",
    "                    <li>One classifier predicts $\\hat{y} = 1$</li>\n",
    "                    <li>Another classifier predicts $\\hat{y} = 2$</li>\n",
    "                    <li>Which classifier has done better?</li>\n",
    "                </ul>\n",
    "             </li>\n",
    "         </ul>\n",
    "     </li>\n",
    "</ul>"
   ]
  },
  {
   "cell_type": "markdown",
   "metadata": {
    "slideshow": {
     "slide_type": "slide"
    }
   },
   "source": [
    "<h2>A variation of classification</h2>\n",
    "<ul>\n",
    "    <li>Given an object $\\v{x}$, a classifier outputs a label, $\\hat{y} \\in \\cal{C}$</li>\n",
    "    <li>Instead, a classifer could output a probability distribution over the labels $\\cal{C}$\n",
    "        <ul>\n",
    "            <li>\n",
    "                E.g. given an email $\\v{x}$, a spam filter might output $\\Tuple{0.2, 0.8}$ meaning \n",
    "                $P(y = \\mathit{ham}\\,|\\, \\v{x}) = 0.2$ and $P(y = \\mathit{spam}\\,|\\, \\v{x}) = 0.8$\n",
    "            </li>\n",
    "            <li>\n",
    "                The probabilities must sum to 1.\n",
    "            </li>\n",
    "        </ul>\n",
    "    </li>\n",
    "    <li>\n",
    "        We can convert such a classifier into a more traditional one by taking the probability distribution\n",
    "        and selecting the class with the highest probability:\n",
    "        $$\\arg \\max_{\\hat{y} \\in \\cal{C}} P(\\hat{y}\\,|\\, \\v{x})$$\n",
    "    </li>\n",
    "</ul>"
   ]
  },
  {
   "cell_type": "markdown",
   "metadata": {
    "slideshow": {
     "slide_type": "slide"
    }
   },
   "source": [
    "<h2>Types of Classification</h2>\n",
    "<ul>\n",
    "    <li>We distinguish two types of classification:\n",
    "        <ul>\n",
    "            <li>\n",
    "                <b>Binary classification</b>, in which there are just two classes, i.e. $|\\cal{C}| = 2$, e.g. fail/pass,\n",
    "                ham/spam, benign/malignant\n",
    "            </li>\n",
    "            <li>\n",
    "                <b>Multiclass classification</b>, where there are more than two classes, i.e. $|\\cal{C}| > 2$, e.g. \n",
    "                let's say that a post to a forum or discussion board \n",
    "                can be a question, an answer, a clarification or an irrelevance\n",
    "            </li>\n",
    "        </ul>\n",
    "    </li>\n",
    "    <li>In fact, there are even more types of classification, but we will not be studying them further:\n",
    "        <ul>\n",
    "            <li>In <b>multilabel classification</b>, the classifier can assign $\\v{x}$ to more than one class\n",
    "                <ul>\n",
    "                    <li>I.e. it outputs a <em>set</em> of labels, $\\hat{y} \\subseteq \\cal{C}$.\n",
    "                    </li>\n",
    "                    <li>E.g. consider a movie classifier where the classes are genres, e.g. $\\cal{C} = \\Set{\\mathit{comedy},\n",
    "                        \\mathit{action}, \\mathit{horror}, \\mathit{musical}, \\mathit{romance}}$. \n",
    "                    </li>\n",
    "                    <li>\n",
    "                        The classifier's output for <i>The Blues Brothers</i> should be $\\Set{\\mathit{comedy},\n",
    "                        \\mathit{action}, \\mathit{musical}}$.\n",
    "                    </li>\n",
    "                </ul>\n",
    "                Do <strong>not</strong> confuse this with <em>multiclass</em> classification\n",
    "            </li>\n",
    "            <li>In <b>ordered classification</b>, there is an <em>ordering</em> defined on the classes\n",
    "                <ul>\n",
    "                    <li>The ordering matters in measuring the performance of the classifier</li>\n",
    "                    <li>E.g. consider a classifier that predicts a student's degree class, i.e. \n",
    "                        $\\cal{C} = \\Set{\\mathit{Ordinary}, \\mathit{3rd}, \\mathit{2ii}, \\mathit{2i}, \\mathit{1st}}$\n",
    "                    </li>\n",
    "                    <li>Suppose for student $\\v{x}$, the actual class $y = \\mathit{1st}$</li>\n",
    "                    <li>One classifier predicts $\\hat{y} = \\mathit{2ii}$</li>\n",
    "                    <li>Another classifier predicts $\\hat{y} = \\mathit{2i}$</li>\n",
    "                    <li>Which classifier has done better?</li>\n",
    "                </ul>\n",
    "            </li>\n",
    "        <ul>\n",
    "    </li>\n",
    "</ul>"
   ]
  },
  {
   "cell_type": "markdown",
   "metadata": {
    "slideshow": {
     "slide_type": "slide"
    }
   },
   "source": [
    "<h2>We need to say more about binary classification</h2>\n",
    "<ul>\n",
    "    <li>In binary classification, there are two classes</li>\n",
    "    <li>It is common to refer to one class (the one labelled 0) as the <b>negative class</b>\n",
    "        and the other (the one labelled 1) as the <b>positive class</b>\n",
    "    </li>\n",
    "    <li>It doesn't really matter which is which\n",
    "        <ul>\n",
    "            <li>But, usually, we treat the class we're trying to identify, or the class that requires special action, \n",
    "                as the positive class\n",
    "            </li>\n",
    "            <li>E.g. in spam filtering, ham is the negative class; spam is the positive class\n",
    "            </li>\n",
    "            <li>\n",
    "                What about tumour classification?\n",
    "            </li>\n",
    "        </ul>\n",
    "    </li>\n",
    "    <li>(This terminology is extended to other things too, e.g. we can refer to <b>negative examples</b> and\n",
    "        <b>positive examples</b>)\n",
    "    </li>\n",
    "</ul>"
   ]
  },
  {
   "cell_type": "markdown",
   "metadata": {
    "slideshow": {
     "slide_type": "slide"
    }
   },
   "source": [
    "<h1>Class exercises</h1>\n",
    "<img style=\"float: right\" src=\"images/15_snow.jpg\" />\n",
    "<ul>\n",
    "    <li>Consider:\n",
    "        <ul>\n",
    "            <li>Predicting tomorrow's rainfall</li>\n",
    "            <li>Predicting whether we will have a white Christmas</li>\n",
    "            <li>Predicting the sentiment of a tweet (negative, neutral or positive)</li>\n",
    "            <li>Predicting a person's sexual orientation</li>\n",
    "            <li>Predicting a person's opinion of a movie on a rating scale of 1 star (rotten) to 5 stars (fab)</li>\n",
    "        </ul>\n",
    "    </li>\n",
    "    <li>Answer the following:\n",
    "        <ul>\n",
    "            <li>Which are regression and which classification?</li>\n",
    "            <li>If classification, which are binary and which are multiclass?</li>\n",
    "            <li>If binary, which is the positive class and which the negative?</li>\n",
    "        </ul>\n",
    "    </li>\n",
    "    <li>Clustering and classification are easily confused: in both, we 'assign objects to groups'<br />\n",
    "        What is the <em>key</em> difference between them?\n",
    "    </li>\n",
    "</ul>"
   ]
  },
  {
   "cell_type": "markdown",
   "metadata": {
    "slideshow": {
     "slide_type": "slide"
    }
   },
   "source": [
    "<h1>Building a model: ask an expert</h1>\n",
    "<ul>\n",
    "    <li>So how, for example, do we build a regression system that can predict the selling price of your house?</li>\n",
    "    <li>We ask Ann\n",
    "        <ul>\n",
    "            <li>She's an auctioneer &mdash; an expert at predicting Cork city house prices</li>\n",
    "            <li>But we don't ask her to predict your house price</li>\n",
    "            <li>We ask her for a <em>general</em> method for predicting Cork house prices</li>\n",
    "        </ul>\n",
    "    </li>\n",
    "    <li>She tells us that her rule-of-thumb is that prices start at 25k&euro; and increase by 1.5k&euro; for every \n",
    "        extra square metre of floor area:\n",
    "        $$y = 25 + 1.5\\mathit{flarea}$$\n",
    "        <ul>\n",
    "            <li>So, she predicts your house (floor area of 114 square metres) will sell for \n",
    "                $\\hat{y} = 25 + 1.5 \\times 114 = 196$k&euro;\n",
    "            </li>\n",
    "        </ul>\n",
    "    </li>\n",
    "</ul>"
   ]
  },
  {
   "cell_type": "markdown",
   "metadata": {
    "slideshow": {
     "slide_type": "slide"
    }
   },
   "source": [
    "<h2>Models</h2>\n",
    "<ul>\n",
    "    <li>Ann has given us a <b>model</b></li>\n",
    "    <li>\n",
    "        In very abstract terms, a model is an approximation of some part of reality that enables us to make \n",
    "        predictions about that reality\n",
    "    </li>\n",
    "    <li>\n",
    "        In very concrete terms for this module, a model is a formula (or function or procedure or set of rules&hellip;) \n",
    "        that expresses the relationship between the the thing being predicted (target value or class) and the features\n",
    "    </li>\n",
    "    <li>(It so happens that Ann's is a <b>linear model</b> &mdash; see future lecture)\n",
    "</ul>"
   ]
  },
  {
   "cell_type": "code",
   "execution_count": 3,
   "metadata": {
    "collapsed": true
   },
   "outputs": [],
   "source": [
    "# Ann's model\n",
    "def f_ann(flarea):\n",
    "    return 25 + 1.5 * flarea"
   ]
  },
  {
   "cell_type": "code",
   "execution_count": 4,
   "metadata": {
    "collapsed": false
   },
   "outputs": [
    {
     "data": {
      "text/plain": [
       "196.0"
      ]
     },
     "execution_count": 4,
     "metadata": {},
     "output_type": "execute_result"
    }
   ],
   "source": [
    "# Predicting the selling price of your house\n",
    "f_ann(114)"
   ]
  },
  {
   "cell_type": "code",
   "execution_count": 5,
   "metadata": {
    "collapsed": false
   },
   "outputs": [
    {
     "data": {
      "image/png": "[encoded data removed]",
      "text/plain": [
       "<matplotlib.figure.Figure at 0x7fc4c34daf28>"
      ]
     },
     "metadata": {},
     "output_type": "display_data"
    }
   ],
   "source": [
    "# Plotting the predictions made by Ann's model\n",
    "fig = plt.figure()\n",
    "plt.title(\"Ann's model\")\n",
    "xvals = np.linspace(0, 500, 2)\n",
    "plt.plot(xvals, f_ann(xvals))\n",
    "plt.xlabel(\"Floor area (sq metres)\")\n",
    "plt.xlim(0, 500)\n",
    "plt.ylabel(\"Price (000 euros)\")\n",
    "plt.ylim(0, 1000)\n",
    "plt.show()"
   ]
  },
  {
   "cell_type": "markdown",
   "metadata": {
    "slideshow": {
     "slide_type": "slide"
    }
   },
   "source": [
    "<h2>Ben's Model</h2>\n",
    "<ul>\n",
    "    <li>We might also ask Ben, another Cork auctioneer, and he might give us a different model, e.g. \n",
    "        $$y = 20 + 50\\mathit{bdrms} + 10\\mathit{bdrms}^2$$\n",
    "    </li>\n",
    "    <li>(Ben' model is not a linear model &mdash; see future lecture)\n",
    "</ul>"
   ]
  },
  {
   "cell_type": "code",
   "execution_count": 6,
   "metadata": {
    "collapsed": false
   },
   "outputs": [],
   "source": [
    "# Ben's model\n",
    "def f_ben(bdrms):\n",
    "    return 20 + 50 * bdrms + 10 * bdrms ** 2"
   ]
  },
  {
   "cell_type": "code",
   "execution_count": 7,
   "metadata": {
    "collapsed": false
   },
   "outputs": [
    {
     "data": {
      "text/plain": [
       "260"
      ]
     },
     "execution_count": 7,
     "metadata": {},
     "output_type": "execute_result"
    }
   ],
   "source": [
    "# Predicting the selling price of your house\n",
    "f_ben(3)"
   ]
  },
  {
   "cell_type": "code",
   "execution_count": 8,
   "metadata": {
    "collapsed": false
   },
   "outputs": [
    {
     "data": {
      "image/png": "[encoded data removed]",
      "text/plain": [
       "<matplotlib.figure.Figure at 0x7fc4c102c630>"
      ]
     },
     "metadata": {},
     "output_type": "display_data"
    }
   ],
   "source": [
    "# Plotting the predictions made by Ben's model\n",
    "fig = plt.figure()\n",
    "plt.title(\"Ben's model\")\n",
    "xvals = np.linspace(0, 10, 10)\n",
    "plt.plot(xvals, f_ben(xvals))\n",
    "plt.xlabel(\"Bdrms\")\n",
    "plt.xlim(0, 10)\n",
    "plt.ylabel(\"Price (000 euros)\")\n",
    "plt.ylim(0, 1500)\n",
    "plt.show()"
   ]
  },
  {
   "cell_type": "markdown",
   "metadata": {
    "slideshow": {
     "slide_type": "slide"
    }
   },
   "source": [
    "<h2>Which Model is Better?</h2>\n",
    "<ul>\n",
    "    <li>\n",
    "        Ann's and Ben's models make different predictions\n",
    "        <ul>\n",
    "            <li>\n",
    "                Ann predicts your house will sell for $y = 25 + 1.5 \\times 114 = 196$k&euro;\n",
    "            </li>\n",
    "            <li>\n",
    "                Ben predicts your house will sell for $y = 20 + 50 \\times 3 + 10 \\times 3^2 = 260$k&euro;\n",
    "            </li>\n",
    "        </ul>\n",
    "    </li>\n",
    "    <li>\n",
    "        So we might ask: which is better?\n",
    "        <ul>\n",
    "            <li>\n",
    "                A complicated question &mdash; to be explored in this module and the next module\n",
    "            </li>\n",
    "            <li>\n",
    "                For now, suppose your house sells for 210000&euro;. Ann's prediction (196000&euro;) is closer \n",
    "                than Ben's (260000&euro;), so we have some evidence that Ann's model is better\n",
    "            </li>\n",
    "        </ul>\n",
    "    </li>\n",
    "</ul>"
   ]
  },
  {
   "cell_type": "markdown",
   "metadata": {
    "slideshow": {
     "slide_type": "slide"
    }
   },
   "source": [
    "<h1>Building a model: learn from data</h1>\n",
    "<ul>\n",
    "    <li>Rather than ask an expert, we want to <b>learn</b> a model from data</li>\n",
    "    <li>Suppose we collect a dataset of <b>labeled examples</b>\n",
    "        <ul>\n",
    "            <li>\n",
    "                Each example describes a house by giving values for the various features\n",
    "            </li>\n",
    "            <li>\n",
    "                But now, also, each example gives the <em>actual</em> selling price of the house\n",
    "            </li>\n",
    "        </ul>\n",
    "    </li>\n",
    "    <li>\n",
    "        We take some or all of these examples, call them the <b>training set</b>, and give them to the learning \n",
    "        algorithm\n",
    "    </li>\n",
    "    <li>As best it can, the learning algorithm finds a model based on the labeled examples in the training set\n",
    "    </li>\n",
    "</ul>"
   ]
  },
  {
   "cell_type": "markdown",
   "metadata": {
    "slideshow": {
     "slide_type": "slide"
    }
   },
   "source": [
    "<h1>Datasets of labeled examples</h1>\n",
    "<ul>\n",
    "    <li>As before: $m$ examples, $n$ features</li>\n",
    "    <li>But a <b>labeled example</b> is a <em>pair</em>, comprising a vector of feature values and the value of \n",
    "        the target (regression) or the class label (classification)\n",
    "        $$\\Tuple{\\v{x}, y}$$\n",
    "    </li>\n",
    "    <li>So a <b>labeled dataset</b> looks like this: \n",
    "        $$\\Set{\\Tuple{\\v{x}^{(1)}, y^{(1)}}, \\Tuple{\\v{x}^{(2)}, y^{(2)}}, \\ldots, \n",
    "        \\Tuple{\\v{x}^{(m)}, y^{(m)}}}$$\n",
    "        <ul>\n",
    "            <li>E.g. regression: features are floor area, bedrooms and bathrooms; target is selling price\n",
    "                (thousands of &euro;)\n",
    "                $$\\Set{\\Tuple{\\cv{92.9\\\\3\\\\2}, 175},\\,\\, \\Tuple{\\cv{171.9\\\\4\\\\3}, 435},\\,\\, \\Tuple{\\cv{79\\\\3\\\\1}, 85}\\cdots}$$\n",
    "            </li>\n",
    "            <li>E.g. classification: features are lecture and lab attendance (%) and CAO points; class labels are 0 = pass, 1 = fail\n",
    "                $$\\Set{\\Tuple{\\cv{60\\\\45\\\\500}, 1},\\,\\, \\Tuple{\\cv{20\\\\80\\\\350}, 0},\\,\\, \\Tuple{\\cv{90\\\\70\\\\400}, 0}\\cdots}$$\n",
    "            </li>\n",
    "        </ul>\n",
    "    </li>\n",
    "    <li>From a labeled datset, we can construct a matrix $\\v{X}$ <em>and</em> a vector $\\v{y}$ as follows:\n",
    "        $$\\v{X} = \\begin{bmatrix}\n",
    "              \\v{x}_1^{(1)} & \\v{x}_2^{(1)} & \\ldots & \\v{x}_n^{(1)} \\\\\n",
    "              \\v{x}_1^{(2)} & \\v{x}_2^{(2)} & \\ldots & \\v{x}_n^{(2)} \\\\\n",
    "              \\vdots        & \\vdots        & \\vdots & \\vdots \\\\\n",
    "              \\v{x}_1^{(m)} & \\v{x}_2^{(m)} & \\ldots & \\v{x}_n^{(m)} \\\\\n",
    "              \\end{bmatrix}\\,\\,\\,\\,\\,\n",
    "          \\v{y} = \\cv{y^{(1)}\\\\ y^{(2)}\\\\ \\vdots\\\\ y^{(m)}}\n",
    "        $$\n",
    "        <ul>\n",
    "            <li>In the matrix rows are examples, columns are features</li>\n",
    "            <li>The vector gives corresponding target values/class labels</li>\n",
    "            <li>E.g\n",
    "                $$\\v{X} = \n",
    "                    \\begin{bmatrix}\n",
    "                        92.9 & 3 & 2 \\\\\n",
    "                        171.9 & 4 & 3 \\\\\n",
    "                        79 & 3 & 1\n",
    "                    \\end{bmatrix}\\,\\,\\,\\,\\,\n",
    "                  \\v{y} = \\cv{175\\\\ 435\\\\ 85}\n",
    "                $$\n",
    "            </li>\n",
    "            <li>E.g.\n",
    "                $$\\v{X} = \n",
    "                    \\begin{bmatrix}\n",
    "                        60 & 45 & 500 \\\\\n",
    "                        20 & 80 & 350 \\\\\n",
    "                        90 & 70 & 400\n",
    "                    \\end{bmatrix}\\,\\,\\,\\,\\,\n",
    "                  \\v{y} = \\cv{1\\\\ 0\\\\ 0}\n",
    "                $$\n",
    "            </li>\n",
    "        </ul>\n",
    "    </li>\n",
    "</ul>"
   ]
  },
  {
   "cell_type": "markdown",
   "metadata": {
    "slideshow": {
     "slide_type": "slide"
    }
   },
   "source": [
    "<h2>Learning from data</h2>\n",
    "<figure>\n",
    "    <img src=\"images/15_learning.png\" />\n",
    "</figure>"
   ]
  },
  {
   "cell_type": "markdown",
   "metadata": {
    "slideshow": {
     "slide_type": "slide"
    }
   },
   "source": [
    "<h3>Terminology</h3>\n",
    "<ul>\n",
    "    <li>\n",
    "        We will say that the algorithm <b>learns</b> a model\n",
    "    </li>\n",
    "    <li>\n",
    "        We could also say that we are <b>training</b> the algorithm on the data\n",
    "    <li>\n",
    "        We could also say that the algorithm <b>fits</b> a model to the training set\n",
    "    </li>\n",
    "    <li>\n",
    "        We could also call it <b>function approximation</b>\n",
    "    </li>\n",
    "</ul>"
   ]
  },
  {
   "cell_type": "markdown",
   "metadata": {
    "slideshow": {
     "slide_type": "slide"
    }
   },
   "source": [
    "<h1>Types of Learning in AI</h1>\n",
    "<ul>\n",
    "    <li><b>Reinforcement learning</b>:\n",
    "        <ul>\n",
    "            <li>The agent receives rewards (or punishments) after executing actions</li>\n",
    "            <li>The rewards (or punishments) act as positive (or negative) reinforcement</li>\n",
    "            <li>The agent learns a policy that defines which actions to perform in which situations to\n",
    "                maximize reward over time\n",
    "            </li>\n",
    "        </ul>\n",
    "    </li>\n",
    "    <li><b>Unsupervised learning</b>:\n",
    "        <ul>\n",
    "            <li>The agent learns from an unlabeled dataset</li>\n",
    "            <li>The goal is to find structure within the dataset</li>\n",
    "            <li>Clustering and most forms of dimensionality reduction are examples of unsupervised\n",
    "                learning but there are other examples of unsupervised learning (not covered) such as anomaly detection and\n",
    "                association rule mining\n",
    "            </li>\n",
    "        </ul>\n",
    "    </li>\n",
    "    <li><b>Supervised learning</b>:\n",
    "        <ul>\n",
    "            <li>The agent learns from a labeled dataset</li>\n",
    "            <li>The goal is to generalise from the labeled dataset to learn how to predict \n",
    "                target values/class labels when given feature values\n",
    "            </li>\n",
    "            <li>Learning models for regression and classification are examples of supervised learning</li>\n",
    "        </ul>\n",
    "    </li>\n",
    "    <li><b>Semisupervised learning</b>:\n",
    "        <ul>\n",
    "            <li>The agent learns from a dataset, only a (small) subset of which is labeled</li>\n",
    "            <li>The goal is usually the same as in supervised learning but making use of the\n",
    "                unlabeled data to compensate for the low volume of labeled data\n",
    "            </li>\n",
    "        </ul>\n",
    "    </li>\n",
    "</ul>"
   ]
  },
  {
   "cell_type": "code",
   "execution_count": null,
   "metadata": {
    "collapsed": true
   },
   "outputs": [],
   "source": []
  }
 ],
 "metadata": {
  "celltoolbar": "Slideshow",
  "kernelspec": {
   "display_name": "Python 3",
   "language": "python",
   "name": "python3"
  },
  "language_info": {
   "codemirror_mode": {
    "name": "ipython",
    "version": 3
   },
   "file_extension": ".py",
   "mimetype": "text/x-python",
   "name": "python",
   "nbconvert_exporter": "python",
   "pygments_lexer": "ipython3",
   "version": "3.5.1"
  }
 },
 "nbformat": 4,
 "nbformat_minor": 0
}
