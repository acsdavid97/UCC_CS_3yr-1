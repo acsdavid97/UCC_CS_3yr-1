{
 "cells": [
  {
   "cell_type": "markdown",
   "metadata": {
    "slideshow": {
     "slide_type": "slide"
    }
   },
   "source": [
    "<h1>CS4618: Artificial Intelligence I</h1>\n",
    "<h1>Clustering: Continued</h1>\n",
    "<h2>\n",
    "    Derek Bridge<br>\n",
    "    School of Computer Science and Information Technology<br>\n",
    "    University College Cork\n",
    "</h2>"
   ]
  },
  {
   "cell_type": "markdown",
   "metadata": {
    "slideshow": {
     "slide_type": "skip"
    }
   },
   "source": [
    "<h1>Initialization</h1>\n",
    "$\\newcommand{\\Set}[1]{\\{#1\\}}$ \n",
    "$\\newcommand{\\Tuple}[1]{\\langle#1\\rangle}$ \n",
    "$\\newcommand{\\v}[1]{\\pmb{#1}}$ \n",
    "$\\newcommand{\\cv}[1]{\\begin{bmatrix}#1\\end{bmatrix}}$ \n",
    "$\\newcommand{\\rv}[1]{[#1]}$ \n",
    "$\\DeclareMathOperator{\\argmax}{arg\\,max}$ \n",
    "$\\DeclareMathOperator{\\argmin}{arg\\,min}$ \n",
    "$\\DeclareMathOperator{\\dist}{dist}$\n",
    "$\\DeclareMathOperator{\\abs}{abs}$"
   ]
  },
  {
   "cell_type": "code",
   "execution_count": 1,
   "metadata": {
    "slideshow": {
     "slide_type": "skip"
    }
   },
   "outputs": [],
   "source": [
    "%reload_ext autoreload\n",
    "%autoreload 2\n",
    "%matplotlib inline"
   ]
  },
  {
   "cell_type": "code",
   "execution_count": 2,
   "metadata": {
    "slideshow": {
     "slide_type": "skip"
    }
   },
   "outputs": [],
   "source": [
    "import pandas as pd\n",
    "import numpy as np\n",
    "import matplotlib.pyplot as plt"
   ]
  },
  {
   "cell_type": "code",
   "execution_count": 3,
   "metadata": {
    "collapsed": true,
    "slideshow": {
     "slide_type": "skip"
    }
   },
   "outputs": [],
   "source": [
    "from sklearn.pipeline import Pipeline\n",
    "from sklearn.pipeline import FeatureUnion\n",
    "from sklearn.base import BaseEstimator, TransformerMixin\n",
    "\n",
    "from sklearn.preprocessing import LabelEncoder\n",
    "from sklearn.preprocessing import OneHotEncoder\n",
    "from sklearn.preprocessing import MinMaxScaler\n",
    "\n",
    "from sklearn.cluster import AgglomerativeClustering\n",
    "\n",
    "from sklearn.metrics import silhouette_score\n",
    "from sklearn.metrics import adjusted_rand_score\n",
    "\n",
    "from scipy.cluster.hierarchy import dendrogram\n",
    "\n",
    "# Class, for use in pipelines, to select certain columns from a DataFrame and convert to a numpy array\n",
    "# From A. Geron: Hands-On Machine Learning with Scikit-Learn & TensorFlow, O'Reilly, 2017\n",
    "# Modified by Derek Bridge to allow for casting in the same ways as pandas.DataFrame.astype\n",
    "class DataFrameSelector(BaseEstimator, TransformerMixin):\n",
    "    def __init__(self, attribute_names, dtype=None):\n",
    "        self.attribute_names = attribute_names\n",
    "        self.dtype = dtype\n",
    "    def fit(self, X, y=None):\n",
    "        return self\n",
    "    def transform(self, X):\n",
    "        X_selected = X[self.attribute_names]\n",
    "        if self.dtype:\n",
    "            return X_selected.astype(self.dtype).values\n",
    "        return X_selected.values\n",
    "    \n",
    "# Function to convert the output of scikit-learn's AgglomerativeClustering into the linkage matrix required by\n",
    "# scipy's dendrogram function\n",
    "# It takes in the model fit by AgglomerativeClustering, plus all the usual arguments of the dendrogram\n",
    "# function: https://docs.scipy.org/doc/scipy-0.14.0/reference/generated/scipy.cluster.hierarchy.dendrogram.html\n",
    "# Original by Mathew Kallada (BSD 3 licence), https://github.com/scikit-learn/scikit-learn/pull/3464/files\n",
    "# Original computes numbers of children incorrectly\n",
    "# Fixed by Derek Bridge 2017\n",
    "def plot_dendrogram(model, **kwargs):\n",
    "    tree_as_list = model.children_\n",
    "    sizes = {}\n",
    "    linkage_array = []\n",
    "    start_idx = len(tree_as_list) + 1\n",
    "    idx = start_idx\n",
    "    for children in tree_as_list:\n",
    "        linkage = []\n",
    "        size = 0\n",
    "        for child in children:\n",
    "            linkage += [child]\n",
    "            if child < start_idx:\n",
    "                size += 1\n",
    "            else:\n",
    "                size += sizes.get(child)\n",
    "        linkage += [idx - start_idx + 1, size] \n",
    "        sizes[idx] = size\n",
    "        idx += 1\n",
    "        linkage_array += [linkage]\n",
    "    dendrogram(np.array(linkage_array).astype(float), **kwargs)"
   ]
  },
  {
   "cell_type": "markdown",
   "metadata": {
    "slideshow": {
     "slide_type": "slide"
    }
   },
   "source": [
    "<h1>Hierarchical Clustering</h1>\n",
    "<ul>\n",
    "    <li>We'll look at a bottom-up, agglomerative algorithm, simply called <b>Agglomerative Clustering</b></li>\n",
    "</ul>"
   ]
  },
  {
   "cell_type": "markdown",
   "metadata": {
    "slideshow": {
     "slide_type": "slide"
    }
   },
   "source": [
    "<h1>Agglomerative Clustering</h1>\n",
    "<figure style=\"border: 1px solid black; background-color: #D0D0D0\">\n",
    "    <figcaption style=\"border-bottom: 1px solid black\">\n",
    "        AgglomerativeClustering($\\v{X}$)\n",
    "    </figcaption>\n",
    "    <ul>\n",
    "        <li>Create a cluster for each $\\v{x} \\in \\v{X}$;\n",
    "        </li>\n",
    "        <li>while there is more than one cluster \n",
    "            <ul>\n",
    "                <li>choose two clusters;\n",
    "                </li>\n",
    "                <li>merge the two clusters into one;\n",
    "                </li>\n",
    "            </ul>\n",
    "        </li>\n",
    "        <li>return the tree of clusters;\n",
    "        </li>\n",
    "    </ul>\n",
    "</figure>"
   ]
  },
  {
   "cell_type": "markdown",
   "metadata": {
    "slideshow": {
     "slide_type": "slide"
    }
   },
   "source": [
    "<h1>Toy Example</h1>\n",
    "<table>\n",
    "    <tr style=\"border-bottom: 0\">\n",
    "        <td style=\"border-bottom: 0\">Dataset $\\v{X}$</td><td style=\"border-bottom: 0\">Initial clusters</td>\n",
    "        <td style=\"border-bottom: 0\">Merge</td><td style=\"border-bottom: 0\">Merge</td>\n",
    "        <td style=\"border-bottom: 0\">Merge</td><td style=\"border-bottom: 0\">Merge</td>\n",
    "        <td style=\"border-bottom: 0\">Tree</td>\n",
    "    </tr>\n",
    "    <tr style=\"border-bottom: 0\">\n",
    "        <td style=\"border-top: 0\"><img src=\"images/14_ag1.png\" /></td>\n",
    "        <td style=\"border-top: 0\"><img src=\"images/14_ag2.png\" /></td>\n",
    "        <td style=\"border-top: 0\"><img src=\"images/14_ag3.png\" /></td>\n",
    "        <td style=\"border-top: 0\"><img src=\"images/14_ag4.png\" /></td>\n",
    "        <td style=\"border-top: 0\"><img src=\"images/14_ag5.png\" /></td>\n",
    "        <td style=\"border-top: 0\"><img src=\"images/14_ag6.png\" /></td>\n",
    "        <td style=\"border-top: 0\"><img src=\"images/14_ag7.png\" /></td>\n",
    "    </tr>\n",
    "</table>"
   ]
  },
  {
   "cell_type": "markdown",
   "metadata": {
    "slideshow": {
     "slide_type": "slide"
    }
   },
   "source": [
    "<h1>Agglomerative Clustering</h1>\n",
    "<ul>\n",
    "    <li>How do we choose which to merge?\n",
    "        <ul>\n",
    "            <li>\n",
    "                The pair of clusters for which the <b>linkage criterion</b> is <em>smallest</em>\n",
    "            </li>\n",
    "        </ul>\n",
    "    </li>\n",
    "    <li>Linkage criteria (for two clusters $\\v{A}$ and $\\v{B}$)\n",
    "        <table>\n",
    "            <tr><th>Name</th><th style=\"width:250px\">Definition</th></tr>\n",
    "            <tr><th>Complete-linkage clustering</th>\n",
    "                <td>$\\max \\,\\{\\,\\dist(a,b) : a\\in A,\\,b\\in B\\,\\}$</td></tr>\n",
    "            <tr><th>Average-linkage clustering</th>\n",
    "                <td>$\\frac{1}{|A||B|}\\sum _{a\\in A}\\sum _{b\\in B}\\dist(a,b)$</td></tr>\n",
    "        </table>\n",
    "        (scikit-learn offers one more, which is called Ward's method, based on minimum variance, but it \n",
    "        only works for Euclidean distance. We'll ignore it, and all the others that you can find in the \n",
    "        literature!)\n",
    "    </li>\n",
    "    <li>We'll do an example using complete-linkage clustering and Euclidean distance</li>\n",
    "</ul>"
   ]
  },
  {
   "cell_type": "markdown",
   "metadata": {
    "slideshow": {
     "slide_type": "slide"
    }
   },
   "source": [
    "<h1>Example of complete-linkage clustering</h1>\n",
    "<ul>\n",
    "    <li>In effect, complete-linkage chooses to merge the two clusters that have the smallest maximum distances</li>\n",
    "<table>\n",
    "    <tr style=\"border-bottom: 0\">\n",
    "        <td style=\"border-bottom: 0\">Which to merge?</td>\n",
    "        <td style=\"border-bottom: 0\">Distances</td>\n",
    "        <td style=\"border-bottom: 0\">Max</td>\n",
    "        <td style=\"border-bottom: 0\">Min</td>\n",
    "    </tr>\n",
    "    <tr style=\"border-bottom: 0\">\n",
    "        <td style=\"border-top: 0\"><img src=\"images/14_cl1.png\" /></td>\n",
    "        <td style=\"border-top: 0\"><img src=\"images/14_cl2.png\" /></td>\n",
    "        <td style=\"border-top: 0\"><img src=\"images/14_cl3.png\" /></td>\n",
    "        <td style=\"border-top: 0\"><img src=\"images/14_cl4.png\" /></td>\n",
    "    </tr>\n",
    "</table>"
   ]
  },
  {
   "cell_type": "markdown",
   "metadata": {
    "slideshow": {
     "slide_type": "slide"
    }
   },
   "source": [
    "<h1>Comparison</h1>\n",
    "<ul>\n",
    "    <li>They often produce the same clustering, especially when clusters are compact and quite separate</li>\n",
    "    <li>Complete-linkage (min of the maximum distances):\n",
    "        <ul>\n",
    "            <li>Sensitive to outliers</li>\n",
    "            <li>Some examples may be closer to other clusters than they are to the rest of their own cluster</li>\n",
    "        </ul>\n",
    "    </li>\n",
    "    <li>Average-linkage (min of the averages)\n",
    "        <ul>\n",
    "            <li>Since it calculates with the distances (instead of just comparing them), it is more\n",
    "                sensitive to the quality of your distance measure and your use of scaling\n",
    "            </li>\n",
    "        </ul>\n",
    "    </li>\n",
    "</ul>"
   ]
  },
  {
   "cell_type": "markdown",
   "metadata": {
    "slideshow": {
     "slide_type": "slide"
    }
   },
   "source": [
    "<h1>Agglomerative clustering in scikit-learn</h1>\n",
    "<ul>\n",
    "    <li>We'll cluster the zoo dataset: \n",
    "        <a href=\"http://archive.ics.uci.edu/ml/datasets/zoo\">http://archive.ics.uci.edu/ml/datasets/zoo</a>\n",
    "    </li>\n",
    "    <li>We explore the dataset using pandas and you'll see:\n",
    "        <ul>\n",
    "            <li>99 examples (I discarded 2)</li>\n",
    "            <li>18 columns but we only use 16\n",
    "                <ul>\n",
    "                    <li>the first column is the animal name (we don't use it)</li>\n",
    "                    <li>the last column is the result of manual clustering into 7 clusters (we don't use it\n",
    "                        for clustering!)\n",
    "                    </li>\n",
    "                    <li>15 of the rest are Boolean (already binarized), whether the animal has feathers,\n",
    "                        is a predator, etc.\n",
    "                    </li>\n",
    "                    <li>the remaining column is the number of legs (min 0, max 8 here): we min-max scale it\n",
    "                    </li>\n",
    "                </ul>\n",
    "            </li>\n",
    "        </ul>\n",
    "    </li>\n",
    "</ul>"
   ]
  },
  {
   "cell_type": "code",
   "execution_count": 4,
   "metadata": {},
   "outputs": [],
   "source": [
    "# Use pandas to read the CSV file into a DataFrame\n",
    "df = pd.read_csv(\"datasets/dataset_zoo.csv\")"
   ]
  },
  {
   "cell_type": "code",
   "execution_count": 5,
   "metadata": {},
   "outputs": [
    {
     "data": {
      "text/plain": [
       "(99, 18)"
      ]
     },
     "execution_count": 5,
     "metadata": {},
     "output_type": "execute_result"
    }
   ],
   "source": [
    "df.shape"
   ]
  },
  {
   "cell_type": "code",
   "execution_count": 6,
   "metadata": {},
   "outputs": [
    {
     "data": {
      "text/plain": [
       "Index(['name', 'hair', 'feathers', 'eggs', 'milk', 'airborne', 'aquatic',\n",
       "       'predator', 'toothed', 'backbone', 'breathes', 'venomous', 'fins',\n",
       "       'legs', 'tail', 'domestic', 'catsize', 'label'],\n",
       "      dtype='object')"
      ]
     },
     "execution_count": 6,
     "metadata": {},
     "output_type": "execute_result"
    }
   ],
   "source": [
    "df.columns"
   ]
  },
  {
   "cell_type": "code",
   "execution_count": 7,
   "metadata": {},
   "outputs": [
    {
     "data": {
      "text/plain": [
       "name        object\n",
       "hair         int64\n",
       "feathers     int64\n",
       "eggs         int64\n",
       "milk         int64\n",
       "airborne     int64\n",
       "aquatic      int64\n",
       "predator     int64\n",
       "toothed      int64\n",
       "backbone     int64\n",
       "breathes     int64\n",
       "venomous     int64\n",
       "fins         int64\n",
       "legs         int64\n",
       "tail         int64\n",
       "domestic     int64\n",
       "catsize      int64\n",
       "label        int64\n",
       "dtype: object"
      ]
     },
     "execution_count": 7,
     "metadata": {},
     "output_type": "execute_result"
    }
   ],
   "source": [
    "df.dtypes"
   ]
  },
  {
   "cell_type": "code",
   "execution_count": 8,
   "metadata": {},
   "outputs": [
    {
     "data": {
      "text/html": [
       "<div>\n",
       "<table border=\"1\" class=\"dataframe\">\n",
       "  <thead>\n",
       "    <tr style=\"text-align: right;\">\n",
       "      <th></th>\n",
       "      <th>name</th>\n",
       "      <th>hair</th>\n",
       "      <th>feathers</th>\n",
       "      <th>eggs</th>\n",
       "      <th>milk</th>\n",
       "      <th>airborne</th>\n",
       "      <th>aquatic</th>\n",
       "      <th>predator</th>\n",
       "      <th>toothed</th>\n",
       "      <th>backbone</th>\n",
       "      <th>breathes</th>\n",
       "      <th>venomous</th>\n",
       "      <th>fins</th>\n",
       "      <th>legs</th>\n",
       "      <th>tail</th>\n",
       "      <th>domestic</th>\n",
       "      <th>catsize</th>\n",
       "      <th>label</th>\n",
       "    </tr>\n",
       "  </thead>\n",
       "  <tbody>\n",
       "    <tr>\n",
       "      <th>0</th>\n",
       "      <td>aardvark</td>\n",
       "      <td>1</td>\n",
       "      <td>0</td>\n",
       "      <td>0</td>\n",
       "      <td>1</td>\n",
       "      <td>0</td>\n",
       "      <td>0</td>\n",
       "      <td>1</td>\n",
       "      <td>1</td>\n",
       "      <td>1</td>\n",
       "      <td>1</td>\n",
       "      <td>0</td>\n",
       "      <td>0</td>\n",
       "      <td>4</td>\n",
       "      <td>0</td>\n",
       "      <td>0</td>\n",
       "      <td>1</td>\n",
       "      <td>1</td>\n",
       "    </tr>\n",
       "    <tr>\n",
       "      <th>1</th>\n",
       "      <td>antelope</td>\n",
       "      <td>1</td>\n",
       "      <td>0</td>\n",
       "      <td>0</td>\n",
       "      <td>1</td>\n",
       "      <td>0</td>\n",
       "      <td>0</td>\n",
       "      <td>0</td>\n",
       "      <td>1</td>\n",
       "      <td>1</td>\n",
       "      <td>1</td>\n",
       "      <td>0</td>\n",
       "      <td>0</td>\n",
       "      <td>4</td>\n",
       "      <td>1</td>\n",
       "      <td>0</td>\n",
       "      <td>1</td>\n",
       "      <td>1</td>\n",
       "    </tr>\n",
       "    <tr>\n",
       "      <th>2</th>\n",
       "      <td>bass</td>\n",
       "      <td>0</td>\n",
       "      <td>0</td>\n",
       "      <td>1</td>\n",
       "      <td>0</td>\n",
       "      <td>0</td>\n",
       "      <td>1</td>\n",
       "      <td>1</td>\n",
       "      <td>1</td>\n",
       "      <td>1</td>\n",
       "      <td>0</td>\n",
       "      <td>0</td>\n",
       "      <td>1</td>\n",
       "      <td>0</td>\n",
       "      <td>1</td>\n",
       "      <td>0</td>\n",
       "      <td>0</td>\n",
       "      <td>4</td>\n",
       "    </tr>\n",
       "  </tbody>\n",
       "</table>\n",
       "</div>"
      ],
      "text/plain": [
       "       name  hair  feathers  eggs  milk  airborne  aquatic  predator  toothed  \\\n",
       "0  aardvark     1         0     0     1         0        0         1        1   \n",
       "1  antelope     1         0     0     1         0        0         0        1   \n",
       "2      bass     0         0     1     0         0        1         1        1   \n",
       "\n",
       "   backbone  breathes  venomous  fins  legs  tail  domestic  catsize  label  \n",
       "0         1         1         0     0     4     0         0        1      1  \n",
       "1         1         1         0     0     4     1         0        1      1  \n",
       "2         1         0         0     1     0     1         0        0      4  "
      ]
     },
     "execution_count": 8,
     "metadata": {},
     "output_type": "execute_result"
    }
   ],
   "source": [
    "df.head(3)"
   ]
  },
  {
   "cell_type": "code",
   "execution_count": 9,
   "metadata": {
    "collapsed": true
   },
   "outputs": [],
   "source": [
    "# The features we want to select\n",
    "numeric_features = [\"legs\"]\n",
    "nominal_features = [\"hair\", \"feathers\", \"eggs\", \"milk\", \"airborne\", \"aquatic\", \"predator\", \"toothed\", \n",
    "                    \"backbone\", \"breathes\", \"venomous\", \"fins\", \"tail\", \"domestic\", \"catsize\"]\n",
    "\n",
    "# Create the pipelines\n",
    "numeric_pipeline = Pipeline([\n",
    "        (\"selector\", DataFrameSelector(numeric_features, \"float64\")),\n",
    "        (\"scaler\", MinMaxScaler())\n",
    "    ])\n",
    "\n",
    "nominal_pipeline = Pipeline([\n",
    "        (\"selector\", DataFrameSelector(nominal_features))\n",
    "    ])\n",
    "\n",
    "pipeline = Pipeline([(\"union\", \n",
    "                FeatureUnion([(\"numeric_pipeline\", numeric_pipeline),\n",
    "                              (\"nominal_pipelines\", nominal_pipeline)]))])"
   ]
  },
  {
   "cell_type": "code",
   "execution_count": 10,
   "metadata": {},
   "outputs": [],
   "source": [
    "# Run the pipeline\n",
    "pipeline.fit(df)\n",
    "X = pipeline.transform(df)"
   ]
  },
  {
   "cell_type": "code",
   "execution_count": 11,
   "metadata": {
    "collapsed": true
   },
   "outputs": [],
   "source": [
    "# Create the clustering object\n",
    "agg_complete = AgglomerativeClustering(linkage=\"complete\") # The alternative is linkage=\"average\""
   ]
  },
  {
   "cell_type": "code",
   "execution_count": 12,
   "metadata": {},
   "outputs": [],
   "source": [
    "# Run it and store the result in a variable\n",
    "clustering_complete = agg_complete.fit(X)"
   ]
  },
  {
   "cell_type": "code",
   "execution_count": 13,
   "metadata": {},
   "outputs": [
    {
     "data": {
      "image/png": "[encoded data removed]",
      "text/plain": [
       "<matplotlib.figure.Figure at 0x7f87da549898>"
      ]
     },
     "metadata": {},
     "output_type": "display_data"
    }
   ],
   "source": [
    "# Draw the tree: not very informative!\n",
    "fig = plt.figure()\n",
    "plot_dendrogram(clustering_complete)\n",
    "plt.show()"
   ]
  },
  {
   "cell_type": "code",
   "execution_count": 14,
   "metadata": {},
   "outputs": [
    {
     "data": {
      "image/png": "[encoded data removed]",
      "text/plain": [
       "<matplotlib.figure.Figure at 0x7f87cb5a1860>"
      ]
     },
     "metadata": {},
     "output_type": "display_data"
    }
   ],
   "source": [
    "# Draw the tree but using some extra parameters\n",
    "# See https://docs.scipy.org/doc/scipy-0.14.0/reference/generated/scipy.cluster.hierarchy.dendrogram.html\n",
    "\n",
    "names = df[\"name\"] # the animal name from the original dataset\n",
    "\n",
    "def llf(id):\n",
    "    return names[id]\n",
    "    \n",
    "fig = plt.figure(figsize=(10,20))\n",
    "plot_dendrogram(clustering_complete, orientation=\"left\", leaf_label_func=llf, leaf_font_size=10)\n",
    "plt.show()"
   ]
  },
  {
   "cell_type": "markdown",
   "metadata": {
    "slideshow": {
     "slide_type": "slide"
    }
   },
   "source": [
    "<h1>Agglomerative Clustering: Discussion</h1>\n",
    "<ul>\n",
    "    <li>You don't have to run the algorithm to completion. You could exit early:\n",
    "        <ul>\n",
    "            <li>when you have a certain number of clusters, $k < m$</li>\n",
    "            <li>or when the next merge would result in a 'bad' cluster, using some measure such as max distance\n",
    "                within a cluster\n",
    "            </li>\n",
    "         </ul>\n",
    "     </li>\n",
    "    <li>This algorithm is only suitable for relatively small datasets\n",
    "        <ul>\n",
    "            <li>You would probably calculate the distance between every pair of objects in advance</li>\n",
    "            <li>But, in every iteration, it compares every cluster with every other</li>\n",
    "            <li>In the first iteration, that's $m^2$, then $(m-1)^2$, then $(m-2)^2$, &hellip; until we have\n",
    "                just one cluster\n",
    "            </li>\n",
    "            <li>That's $O(m^3)$</li>\n",
    "            <li>A smarter implementation only compares the new cluster with existing\n",
    "                ones at each step, keeping track of the linkage distances between pairs in a priority-ordered \n",
    "                queue, and taking $O(m^2\\log m)$\n",
    "            </li>\n",
    "        </ul>\n",
    "    </li>\n",
    "    <li>Advanced: You can define 'connectivity constraints' which forbid the merging of certain examples\n",
    "        with certain others\n",
    "        <ul>\n",
    "            <li>This allows you to incorporate domain-specific knowledge or preferences</li>\n",
    "            <li>E.g. only cluster together web pages that link to each other</li>\n",
    "             <li>It then often runs faster too</li>\n",
    "         </ul>\n",
    "    </li>\n",
    "</ul>"
   ]
  },
  {
   "cell_type": "markdown",
   "metadata": {
    "slideshow": {
     "slide_type": "slide"
    }
   },
   "source": [
    "<h1>Evaluating clustering, part 2</h1>\n",
    "<ul>\n",
    "    <li>We've seen one way to evaluate the quality of clustering\n",
    "        <ul>\n",
    "            <li>Using a score, such as Silhouette Score</li>\n",
    "        </ul>\n",
    "    </li>\n",
    "    <li>There is another way &mdash; if you have a 'ground truth':\n",
    "        <ul>\n",
    "            <li>I.e. if someone has already clustered the dataset manually</li>\n",
    "        </ul>\n",
    "        Then we can compare the algorithm's clustering with the manual one\n",
    "    </li>\n",
    "    <li>In many cases, this would be absurd: if we have clustered manually, then we don't need an algorithm!\n",
    "        <ul>\n",
    "            <li>But a researcher who develops a new algorithm might test it against manual clustering</li>\n",
    "            <li>And, even in industry, sometimes we will have manually clustered a subset of the dataset,\n",
    "                which we can use for evaluating the algorithm's clustering\n",
    "            </li>\n",
    "        </ul>\n",
    "    </li>\n",
    "    <li>E.g. the <b>Adjusted Rand Score</b> compares two clusterings\n",
    "        <ul>\n",
    "            <li>For each pair $\\v{x}, \\v{x}'$ in $\\v{X}$, it counts up whether the two clusterings agree\n",
    "                (they put $\\v{x}$ and $\\v{x}'$ into the same cluster) or not\n",
    "            </li>\n",
    "            <li>It divides by the number of pairs</li>\n",
    "            <li>There is then an adjustment to 'correct for chance'</li>\n",
    "            <li>The adjusted rand score lies in $[-1, 1]$</li>\n",
    "        </ul>\n",
    "    </li>  \n",
    "</ul>"
   ]
  },
  {
   "cell_type": "code",
   "execution_count": 15,
   "metadata": {},
   "outputs": [
    {
     "data": {
      "text/plain": [
       "0.21840801955460787"
      ]
     },
     "execution_count": 15,
     "metadata": {},
     "output_type": "execute_result"
    }
   ],
   "source": [
    "# Evaluate it\n",
    "silhouette_score(X, agg_complete.labels_, metric='euclidean')"
   ]
  },
  {
   "cell_type": "code",
   "execution_count": 16,
   "metadata": {},
   "outputs": [
    {
     "data": {
      "text/plain": [
       "0.32614762928188862"
      ]
     },
     "execution_count": 16,
     "metadata": {},
     "output_type": "execute_result"
    }
   ],
   "source": [
    "# Interestingly, average-linkage is better\n",
    "agg_average = AgglomerativeClustering(linkage=\"average\")\n",
    "clustering_average = agg_average.fit(X)\n",
    "silhouette_score(X, agg_average.labels_, metric='euclidean')"
   ]
  },
  {
   "cell_type": "code",
   "execution_count": 17,
   "metadata": {},
   "outputs": [],
   "source": [
    "# Manual labels\n",
    "ground_truth = df[\"label\"] "
   ]
  },
  {
   "cell_type": "markdown",
   "metadata": {},
   "source": [
    "<ul>\n",
    "    <li>The manual clustering has 7 clusters (1-7)</li>\n",
    "    <li>So, to be fair, we should get <code>AgglomerativeClustering</code> to do the same</li>\n",
    "</ul>"
   ]
  },
  {
   "cell_type": "code",
   "execution_count": 18,
   "metadata": {},
   "outputs": [
    {
     "data": {
      "text/plain": [
       "0.82704538827108443"
      ]
     },
     "execution_count": 18,
     "metadata": {},
     "output_type": "execute_result"
    }
   ],
   "source": [
    "agg_complete = AgglomerativeClustering(linkage=\"complete\", n_clusters=7)\n",
    "clustering_complete = agg_complete.fit(X)\n",
    "\n",
    "adjusted_rand_score(ground_truth, agg_complete.labels_)"
   ]
  },
  {
   "cell_type": "code",
   "execution_count": 19,
   "metadata": {},
   "outputs": [
    {
     "data": {
      "text/plain": [
       "0.94979253112033191"
      ]
     },
     "execution_count": 19,
     "metadata": {},
     "output_type": "execute_result"
    }
   ],
   "source": [
    "agg_average = AgglomerativeClustering(linkage=\"average\", n_clusters=7)\n",
    "clustering_average = agg_average.fit(X)\n",
    "\n",
    "adjusted_rand_score(ground_truth, agg_average.labels_)"
   ]
  },
  {
   "cell_type": "code",
   "execution_count": 20,
   "metadata": {},
   "outputs": [
    {
     "data": {
      "text/plain": [
       "0.87324976530623744"
      ]
     },
     "execution_count": 20,
     "metadata": {},
     "output_type": "execute_result"
    }
   ],
   "source": [
    "# And, for curiosity, how much do they agree with each other\n",
    "adjusted_rand_score(agg_complete.labels_, agg_average.labels_)"
   ]
  },
  {
   "cell_type": "markdown",
   "metadata": {
    "collapsed": true,
    "slideshow": {
     "slide_type": "slide"
    }
   },
   "source": [
    "<h1>Final Remarks on Clustering</h1>\n",
    "<ul>\n",
    "    <li>There are numerous other clustering algorithms</li>\n",
    "    <li>There are numerous other ways of scoring clusterings to evaluate them</li>\n",
    "    <li>But it's time for us to move on&hellip;</li>\n",
    "</ul>"
   ]
  },
  {
   "cell_type": "code",
   "execution_count": null,
   "metadata": {
    "collapsed": true
   },
   "outputs": [],
   "source": []
  }
 ],
 "metadata": {
  "celltoolbar": "Slideshow",
  "kernelspec": {
   "display_name": "Python 3",
   "language": "python",
   "name": "python3"
  },
  "language_info": {
   "codemirror_mode": {
    "name": "ipython",
    "version": 3
   },
   "file_extension": ".py",
   "mimetype": "text/x-python",
   "name": "python",
   "nbconvert_exporter": "python",
   "pygments_lexer": "ipython3",
   "version": "3.6.2"
  }
 },
 "nbformat": 4,
 "nbformat_minor": 1
}
