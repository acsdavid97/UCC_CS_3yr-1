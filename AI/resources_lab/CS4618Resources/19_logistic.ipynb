{
 "cells": [
  {
   "cell_type": "markdown",
   "metadata": {
    "slideshow": {
     "slide_type": "slide"
    }
   },
   "source": [
    "<h1>CS4618: Artificial Intelligence I</h1>\n",
    "<h1>Logistic Regression</h1>\n",
    "<h2>\n",
    "    Derek Bridge<br>\n",
    "    School of Computer Science and Information Technology<br>\n",
    "    University College Cork\n",
    "</h2>"
   ]
  },
  {
   "cell_type": "markdown",
   "metadata": {
    "slideshow": {
     "slide_type": "skip"
    }
   },
   "source": [
    "<h1>Initialization</h1>\n",
    "$\\newcommand{\\Set}[1]{\\{#1\\}}$ \n",
    "$\\newcommand{\\Tuple}[1]{\\langle#1\\rangle}$ \n",
    "$\\newcommand{\\v}[1]{\\pmb{#1}}$ \n",
    "$\\newcommand{\\cv}[1]{\\begin{bmatrix}#1\\end{bmatrix}}$ \n",
    "$\\newcommand{\\rv}[1]{[#1]}$ \n",
    "$\\DeclareMathOperator{\\argmax}{arg\\,max}$ \n",
    "$\\DeclareMathOperator{\\argmin}{arg\\,min}$ \n",
    "$\\DeclareMathOperator{\\dist}{dist}$\n",
    "$\\DeclareMathOperator{\\abs}{abs}$"
   ]
  },
  {
   "cell_type": "code",
   "execution_count": 1,
   "metadata": {
    "collapsed": false,
    "slideshow": {
     "slide_type": "skip"
    }
   },
   "outputs": [],
   "source": [
    "%reload_ext autoreload\n",
    "%autoreload 2\n",
    "%matplotlib inline"
   ]
  },
  {
   "cell_type": "code",
   "execution_count": 2,
   "metadata": {
    "collapsed": false,
    "slideshow": {
     "slide_type": "skip"
    }
   },
   "outputs": [],
   "source": [
    "import pandas as pd\n",
    "import numpy as np\n",
    "import matplotlib.pyplot as plt"
   ]
  },
  {
   "cell_type": "code",
   "execution_count": 3,
   "metadata": {
    "collapsed": true,
    "slideshow": {
     "slide_type": "skip"
    }
   },
   "outputs": [],
   "source": [
    "from math import exp, log\n",
    "\n",
    "from sklearn.linear_model import LinearRegression\n",
    "from sklearn.linear_model import LogisticRegression\n",
    "\n",
    "from sklearn.pipeline import Pipeline\n",
    "from sklearn.base import BaseEstimator, TransformerMixin\n",
    "\n",
    "from sklearn.preprocessing import StandardScaler\n",
    "\n",
    "# Class, for use in pipelines, to select certain columns from a DataFrame and convert to a numpy array\n",
    "# From A. Geron: Hands-On Machine Learning with Scikit-Learn & TensorFlow, O'Reilly, 2017\n",
    "# Modified by Derek Bridge to allow for casting in the same ways as pandas.DataFrame.astype\n",
    "class DataFrameSelector(BaseEstimator, TransformerMixin):\n",
    "    def __init__(self, attribute_names, dtype=None):\n",
    "        self.attribute_names = attribute_names\n",
    "        self.dtype = dtype\n",
    "    def fit(self, X, y=None):\n",
    "        return self\n",
    "    def transform(self, X):\n",
    "        X_selected = X[self.attribute_names]\n",
    "        if self.dtype:\n",
    "            return X_selected.astype(self.dtype).values\n",
    "        return X_selected.values"
   ]
  },
  {
   "cell_type": "markdown",
   "metadata": {
    "slideshow": {
     "slide_type": "slide"
    }
   },
   "source": [
    "<h1>Recap on Linear Models</h1>\n",
    "<ul>\n",
    "    <li>Let's continue with <em>linear models</em>:\n",
    "        <ul>\n",
    "            <li>For regression, we wanted to find the line/plane/hyperplane that best fits the \n",
    "                training examples\n",
    "            </li>\n",
    "            <li>For classification, we want to find the line/plane/hyperplane that best separates\n",
    "                training examples of different classes\n",
    "            </li>\n",
    "        </ul>\n",
    "    </li>\n",
    "    <li>We'll use the CS1109 dataset as an example of binary classification</li>\n",
    "</ul>"
   ]
  },
  {
   "cell_type": "code",
   "execution_count": 4,
   "metadata": {
    "collapsed": false
   },
   "outputs": [],
   "source": [
    "# Use pandas to read the CSV file into a DataFrame\n",
    "df = pd.read_csv(\"datasets/dataset_cs1109.csv\")\n",
    "\n",
    "# Get the feature-values (just lect and lab) and the target values \n",
    "lects = df[\"lect\"]\n",
    "labs = df[\"lab\"]\n",
    "y = df[\"outcome\"]"
   ]
  },
  {
   "cell_type": "code",
   "execution_count": 5,
   "metadata": {
    "collapsed": false
   },
   "outputs": [
    {
     "data": {
      "image/png": "[encoded data removed]",
      "text/plain": [
       "<matplotlib.figure.Figure at 0x7fbd0e764400>"
      ]
     },
     "metadata": {},
     "output_type": "display_data"
    }
   ],
   "source": [
    "# Plot the data\n",
    "fig = plt.figure(figsize=(10,8))\n",
    "plt.title(\"Training set\")\n",
    "plt.scatter(lects[y==0], labs[y==0], color = \"green\", marker=\"s\")\n",
    "plt.scatter(lects[y==1], labs[y==1], color = \"red\", marker=\"o\")\n",
    "plt.xlabel(\"Lecture attendance (%)\")\n",
    "plt.xlim(0, 100)\n",
    "plt.ylabel(\"Lab attendance (%)\")\n",
    "plt.ylim(0, 100)\n",
    "plt.show()"
   ]
  },
  {
   "cell_type": "markdown",
   "metadata": {},
   "source": [
    "<ul>\n",
    "    <li>A linear model will be a straight line through this data</li>\n",
    "    <li>If it is possible to find a line that separates the data (only positive examples on one side, only negative\n",
    "        examples on the other), we say the dataset is <b>linearly separable</b>\n",
    "        <ul>\n",
    "            <li>Is the CS1109 dataset linearly separable?</li>\n",
    "        </ul>\n",
    "    </li>\n",
    "    <li>This generalizes from straight lines to planes and hyperplanes in the case of more features</li>\n",
    "</ul>"
   ]
  },
  {
   "cell_type": "markdown",
   "metadata": {
    "slideshow": {
     "slide_type": "slide"
    }
   },
   "source": [
    "<h1>Logistic Regression</h1>\n",
    "<ul>\n",
    "    <li>Despite its name, <b>logistic regression</b> is used for <em>classification</em>\n",
    "        <ul>\n",
    "            <li>At heart, it predicts a number (and turns it into a probability), hence it is a form \n",
    "                of regression\n",
    "            </li>\n",
    "            <li>At heart, it build linear models</li>\n",
    "        </ul>\n",
    "    </li>\n",
    "    <li>Let's start with logistic regression for binary classification\n",
    "        <ul>\n",
    "            <li>In this case, logistic regression predicts the probability that $\\v{x}$ belongs to\n",
    "                the positive class\n",
    "            </li>\n",
    "        </ul>\n",
    "    </li>\n",
    "    <li>This is what logistic regression does:\n",
    "    $$\\hat{y} = \\left\\{ \\begin{array}{rl} \n",
    "        0 & \\mbox{if } Prob(\\hat{y} = 1\\, |\\, \\v{x}) <  0.5 \\\\\n",
    "        1 & \\mbox{if } Prob(\\hat{y} = 1\\, |\\, \\v{x}) \\geq 0.5\n",
    "                        \\end{array} \\right.\n",
    "    $$\n",
    "    where\n",
    "    $$Prob(\\hat{y} = 1\\, |\\, \\v{x}) = \\sigma(\\v{x}\\v{\\beta})$$\n",
    "    where\n",
    "    $$\\sigma(z) = \\frac{1}{1 + \\exp(-z)}$$\n",
    "    and \n",
    "    $\\v{x}\\v{\\beta}$\n",
    "    is familiar from linear regression (and assumes that $\\v{x}$ has an extra 'feature',\n",
    "    $x_0 = 1$)\n",
    "    </li>\n",
    "    <li>We'll study this bit by bit</li>\n",
    "</ul>"
   ]
  },
  {
   "cell_type": "markdown",
   "metadata": {
    "slideshow": {
     "slide_type": "slide"
    }
   },
   "source": [
    "<h1>Logistic Regression Explained</h1>\n",
    "<ul>\n",
    "    <li>In Linear Regression, each hypothesis $h_{\\v{\\beta}}$ was of the form \n",
    "        $$\\begin{array}{rl}\n",
    "            h_{\\v{x}}(\\v{\\beta}) & = \\v{\\beta}_0 + \\v{\\beta}_1\\v{x}_1 + \\v{\\beta}_2\\v{x}_2 + \\ldots + \\v{\\beta}_n\\v{x}_n \\\\\n",
    "                                 & = \\v{x}\\v{\\beta}\n",
    "          \\end{array}\n",
    "    $$\n",
    "        where $\\v{x}$ is a row vector with $n+1$ elements (with $x_0 = 1$), and $\\v{\\beta}$ is a (column)\n",
    "        vector of coefficients\n",
    "    </li>\n",
    "    <li>Why can't we just use this directly to predict probabilities?\n",
    "        <ul>\n",
    "            <li>To help you answer, here is one hypothesis $h_{\\v{\\beta}}$ for the CS1109 dataset\n",
    "                (using just one of its features, $\\mathit{lab}$, for easy visualization)\n",
    "            </li>\n",
    "        </ul>\n",
    "    </li>\n",
    "</ul>"
   ]
  },
  {
   "cell_type": "code",
   "execution_count": 6,
   "metadata": {
    "collapsed": false
   },
   "outputs": [
    {
     "data": {
      "image/png": "[encoded data removed]",
      "text/plain": [
       "<matplotlib.figure.Figure at 0x7fbd0c2a2780>"
      ]
     },
     "metadata": {},
     "output_type": "display_data"
    }
   ],
   "source": [
    "df = pd.read_csv(\"datasets/dataset_cs1109.csv\")\n",
    "\n",
    "X = df[[\"lab\"]].values\n",
    "y = df[\"outcome\"].values\n",
    "\n",
    "linreg = LinearRegression()\n",
    "linreg.fit(X, y)\n",
    "\n",
    "xvals = np.array([[0], [100]])\n",
    "yvals = linreg.predict(xvals)\n",
    "\n",
    "fig = plt.figure()\n",
    "plt.title(\"Training set and learned model\")\n",
    "plt.scatter(X, y, color = \"green\")\n",
    "plt.plot(xvals, yvals, color = \"blue\")\n",
    "plt.xlabel(\"Lab attendance (%)\")\n",
    "plt.xlim(0, 100)\n",
    "plt.ylabel(\"Probability\")\n",
    "plt.ylim(-0.5, 1.5)\n",
    "plt.show()"
   ]
  },
  {
   "cell_type": "markdown",
   "metadata": {},
   "source": [
    "<h1>The Logistic Function</h1>\n",
    "<ul>\n",
    "    <li>To 'squash' the values of $\\v{x}{\\v{\\beta}}$ to $[0,1]$ so we can treat them as\n",
    "        probabilities:\n",
    "        $$h_{\\v{\\beta}} = \\sigma(\\v{x}{\\v{\\beta}})$$\n",
    "        where $\\sigma$ is the <b>logistic function</b> (also called the 'logit'):\n",
    "        $$\\sigma(z) = \\frac{1}{1 + \\exp(-z)}$$\n",
    "    </li>\n",
    "    <li>The logistic function is a <b>sigmoid function</b> (i.e. S-shaped):\n",
    "    </li>\n",
    "</ul>"
   ]
  },
  {
   "cell_type": "code",
   "execution_count": 7,
   "metadata": {
    "collapsed": false
   },
   "outputs": [
    {
     "data": {
      "image/png": "[encoded data removed]",
      "text/plain": [
       "<matplotlib.figure.Figure at 0x7fbd0e7642b0>"
      ]
     },
     "metadata": {},
     "output_type": "display_data"
    }
   ],
   "source": [
    "def sigma(z):\n",
    "    return 1 / (1 + exp(-z))\n",
    "\n",
    "fig = plt.figure()\n",
    "plt.title(\"Sigmoid function\")\n",
    "xvals = np.linspace(-10, 10, 21)\n",
    "plt.plot(xvals, [sigma(xval) for xval in xvals], color = \"red\")\n",
    "plt.xlabel(\"z\")\n",
    "plt.xlim(-10, 10)\n",
    "plt.ylabel(\"$\\sigma(z)$\")\n",
    "plt.ylim(0.0, 1.0)\n",
    "plt.show()"
   ]
  },
  {
   "cell_type": "markdown",
   "metadata": {},
   "source": [
    "<ul>\n",
    "    <li>A minor point: the logistic function asymptotically approaches 0 and 1\n",
    "        <ul>\n",
    "            <li>So, in fact it values are in $(0,1)$ and not $[0,1]$</li>\n",
    "        </ul>\n",
    "    </li>\n",
    "</ul>"
   ]
  },
  {
   "cell_type": "markdown",
   "metadata": {
    "slideshow": {
     "slide_type": "slide"
    }
   },
   "source": [
    "<h1>Logistic Regression Explained</h1>\n",
    "<ul>\n",
    "    <li>The hypotheses that logistic regression learns, \n",
    "        $h_{\\v{\\beta}} = \\sigma(\\v{x}\\v{\\beta})$, output numbers between 0 and 1\n",
    "    </li>\n",
    "    <li>We interpret these numbers as probabilities: the probability that $\\v{x}$ belongs to the positive class\n",
    "        $$Prob(\\hat{y} = 1\\, |\\, \\v{x}) = \\sigma(\\v{x}\\v{\\beta})$$\n",
    "    </li>\n",
    "    <li>Then, to make this a classifier (so it outputs one of the two class labels), we threshold:\n",
    "        $$\\hat{y} = \\left\\{\n",
    "           \\begin{array}{rl}\n",
    "           0 & \\mbox{if } Prob(\\hat{y} = 1\\, |\\, \\v{x}) < 0.5 \\\\\n",
    "           1 & \\mbox{if } Prob(\\hat{y} = 1\\, |\\, \\v{x}) \\geq 0.5\n",
    "           \\end{array} \\right.\n",
    "        $$\n",
    "    </li>\n",
    "</ul>"
   ]
  },
  {
   "cell_type": "markdown",
   "metadata": {},
   "source": [
    "<h1>Decision Boundary</h1>\n",
    "<ul>\n",
    "    <li>The examples for which logistic regression predicts probabilities of 0.5,\n",
    "        $Prob(\\hat{y} = 1\\, |\\, \\v{x}) = 0.5)$, lie on what is called the <b>decision boundary</b>\n",
    "    </li>\n",
    "    <li>Look back at the graph of the logistic function (sigmoid)\n",
    "        <ul>\n",
    "            <li>When does the logistic function produce an output of 0.5?</li>\n",
    "        </ul>\n",
    "    </li>\n",
    "    <li>It follows that the decision boundary are examples where\n",
    "        $$\\v{x}{\\v{\\beta}} = 0$$\n",
    "    </li>\n",
    "    <li>Hence, the decision boundary is linear (straight line/plane/hyperplane)</li>\n",
    "    <li>Examples on or above the boundary are predicted to be in the positive class</li>\n",
    "</ul>"
   ]
  },
  {
   "cell_type": "markdown",
   "metadata": {},
   "source": [
    "<h1>Example</h1>\n",
    "<ul>\n",
    "    <li>Again, we could ask an expert for a model, e.g. Derek's model might be $\\beta = \\cv{3200\\\\-40\\\\-40\\\\0}$\n",
    "    </li>\n",
    "    <li>I.e. $Prob(\\hat{\\v{y}} = 1\\, |\\, \\v{x}) = \n",
    "        \\sigma(3200 - 40\\times\\mathit{lect} - 40\\times\\mathit{lab} + 0 \\times\\mathit{cao})$\n",
    "    </li>\n",
    "    <li>So what does Derek's model predict for Craig, who attended 60% of lectures, 25% of labs and has 500 CAO points, $\\v{x} = \\rv{1, 60, 25, 500}$?\n",
    "        <ul>\n",
    "            <li>Compute $\\v{x}\\v{\\beta}$: $\\rv{1, 60, 25, 500}\\cv{3200\\\\-40\\\\-40\\\\0} = -200$</li>\n",
    "            <li>Compute its logistic: $\\sigma(-200) = \\frac{1}{1 + \\exp(\\,-\\,-200)} = 1.38 \\times 10^{-87}$\n",
    "                <ul>\n",
    "                    <li>What does this mean?</li>\n",
    "                </ul>\n",
    "            </li>\n",
    "            <li>Threshold: Since $1.38 \\times 10^{-87} < 0.5$, Derek's model predicts that Craig passes</li>\n",
    "        </ul>\n",
    "    </li>\n",
    "    <li>And we can plot the decision boundary for Derek's model $3200 - 40\\times\\mathit{lect} - 40\\times\\mathit{lab} + 0 \\times\\mathit{cao} = 0$ (but we won't plot CAO):\n",
    "    </li>\n",
    "</ul>"
   ]
  },
  {
   "cell_type": "code",
   "execution_count": 8,
   "metadata": {
    "collapsed": false
   },
   "outputs": [
    {
     "data": {
      "image/png": "[encoded data removed]",
      "text/plain": [
       "<matplotlib.figure.Figure at 0x7fbd0c07ab00>"
      ]
     },
     "metadata": {},
     "output_type": "display_data"
    }
   ],
   "source": [
    "def boundary_Derek(lect):\n",
    "    return 80 - lect\n",
    "\n",
    "# Plot the data\n",
    "fig = plt.figure(figsize=(10,8))\n",
    "plt.title(\"Training set, and the\\n decision boundary for Derek's\\n model, and Craig (gold star)\")\n",
    "plt.scatter(lects[y==0], labs[y==0], color = \"green\", marker=\"s\")\n",
    "plt.scatter(lects[y==1], labs[y==1], color = \"red\", marker=\"o\")\n",
    "xvals = np.linspace(0, 100, 2)\n",
    "plt.plot(xvals, boundary_Derek(xvals))\n",
    "plt.plot([60], [25], color=\"gold\", marker=\"*\")\n",
    "plt.annotate(\"Craig\", xy = (60, 25), xytext = (0, 0), textcoords = \"offset points\")\n",
    "plt.xlabel(\"Lecture attendance (%)\")\n",
    "plt.xlim(0, 100)\n",
    "plt.ylabel(\"Lab attendance (%)\")\n",
    "plt.ylim(0, 100)\n",
    "plt.show()"
   ]
  },
  {
   "cell_type": "markdown",
   "metadata": {},
   "source": [
    "<ul>\n",
    "    <li>What's your opinion of Derek's model?</li>\n",
    "</ul>"
   ]
  },
  {
   "cell_type": "markdown",
   "metadata": {},
   "source": [
    "<h1>The Loss Function</h1>\n",
    "<ul>\n",
    "    <li>The logistic regression learning algorithm will take a labeled dataset and try to find good values\n",
    "        for $\\v{\\beta}$\n",
    "    </li>\n",
    "    <li>It needs a loss function, which penalizes $h_{\\v{\\beta}}$ if \n",
    "        <ul>\n",
    "            <li>it outputs high probabilities for negative examples</li>\n",
    "            <li>it outputs low probabilities for positive examples</li>\n",
    "        </ul>\n",
    "    </li>\n",
    "    <li>The negative of the logarithm of a number grows large when the number approaches zero:\n",
    "    </li>\n",
    "</ul>"
   ]
  },
  {
   "cell_type": "code",
   "execution_count": 9,
   "metadata": {
    "collapsed": false
   },
   "outputs": [
    {
     "data": {
      "image/png": "[encoded data removed]",
      "text/plain": [
       "<matplotlib.figure.Figure at 0x7fbd0bf01b00>"
      ]
     },
     "metadata": {},
     "output_type": "display_data"
    }
   ],
   "source": [
    "fig = plt.figure()\n",
    "plt.title(\"Log function\")\n",
    "xvals = np.linspace(0.01, 1, 99)\n",
    "plt.plot(xvals, [-log(xval) for xval in xvals], color = \"red\")\n",
    "plt.xlim(0, 1)\n",
    "plt.xlabel(\"x\")\n",
    "plt.ylabel(\"$\\log x$\")\n",
    "plt.show()"
   ]
  },
  {
   "cell_type": "markdown",
   "metadata": {},
   "source": [
    "<ul>\n",
    "    <li>We can use this in a loss function</li>\n",
    "</ul>"
   ]
  },
  {
   "cell_type": "markdown",
   "metadata": {
    "slideshow": {
     "slide_type": "slide"
    }
   },
   "source": [
    "<h1>The Loss Function, continued</h1>\n",
    "<ul>\n",
    "    <li>Consider a single training example $\\v{x}$ whose actual class $y = 1$\n",
    "    <li>We want $h_{\\v{\\beta}}(\\v{x})$ to be high\n",
    "        <ul>\n",
    "            <li>Why?</li>\n",
    "        </ul>\n",
    "    </li>\n",
    "    <li>So $-\\log(h_{\\v{\\beta}}(\\v{x}))$ is a useful loss function\n",
    "        <ul>\n",
    "            <li>Why?</li>\n",
    "        </ul>\n",
    "    </li>\n",
    "</ul>   "
   ]
  },
  {
   "cell_type": "code",
   "execution_count": 10,
   "metadata": {
    "collapsed": false
   },
   "outputs": [
    {
     "data": {
      "image/png": "[encoded data removed]",
      "text/plain": [
       "<matplotlib.figure.Figure at 0x7fbd0bf80cf8>"
      ]
     },
     "metadata": {},
     "output_type": "display_data"
    }
   ],
   "source": [
    "fig = plt.figure()\n",
    "plt.title(\"if $y = 1$\")\n",
    "xvals = np.linspace(0.01, 1, 99)\n",
    "plt.plot(xvals, [-log(xval) for xval in xvals], color = \"red\")\n",
    "plt.xlabel(\"$h$\")\n",
    "plt.xlim(0, 1)\n",
    "plt.ylabel(\"$J$\")\n",
    "plt.show()"
   ]
  },
  {
   "cell_type": "markdown",
   "metadata": {
    "slideshow": {
     "slide_type": "slide"
    }
   },
   "source": [
    "<h1>The Loss Function, continued</h1>\n",
    "<ul>\n",
    "    <li>Consider a single training example $\\v{x}$ whose actual class $y = 0$\n",
    "    <li>We want $h_{\\v{\\beta}}(\\v{x})$ to be low\n",
    "        <ul>\n",
    "            <li>Why?</li>\n",
    "        </ul>\n",
    "    </li>\n",
    "    <li>So $-\\log(1- (h_{\\v{\\beta}}(\\v{x})))$ is a useful loss function\n",
    "        <ul>\n",
    "            <li>Why?</li>\n",
    "        </ul>\n",
    "    </li>\n",
    "</ul>   "
   ]
  },
  {
   "cell_type": "code",
   "execution_count": 11,
   "metadata": {
    "collapsed": false
   },
   "outputs": [
    {
     "data": {
      "image/png": "[encoded data removed]",
      "text/plain": [
       "<matplotlib.figure.Figure at 0x7fbd0be9f4a8>"
      ]
     },
     "metadata": {},
     "output_type": "display_data"
    }
   ],
   "source": [
    "fig = plt.figure()\n",
    "plt.title(\"if $y = 0$\")\n",
    "plt.xlabel(\"$h$\")\n",
    "plt.xlim(0, 1)\n",
    "plt.ylabel(\"$J$\")\n",
    "xvals = np.linspace(0, 0.99, 99)\n",
    "plt.plot(xvals, [-log(1 - xval) for xval in xvals], color = \"red\")\n",
    "plt.show()"
   ]
  },
  {
   "cell_type": "markdown",
   "metadata": {
    "slideshow": {
     "slide_type": "slide"
    }
   },
   "source": [
    "<h1>The Loss Function, continued</h1>\n",
    "<ul>\n",
    "    <li>In summary, for a given example $\\v{x}$, we propose the following as the loss function\n",
    "        $$\\left\\{ \\begin{array}{rl}\n",
    "                  -\\log(h_{\\v{\\beta}}(\\v{x})) & \\mbox{if } y = 1 \\\\\n",
    "                  -\\log(1-h_{\\v{\\beta}}(\\v{x})) & \\mbox{if } y = 0\n",
    "                  \\end{array}\n",
    "          \\right.\n",
    "        $$\n",
    "        Or, equivalently:\n",
    "        $$-\\v{y}^{(i)}\\log(h_{\\v{\\beta}}(\\v{x})) + -(1 - \\v{y}^{(i)})\\log(1-h_{\\v{\\beta}}(\\v{x}))$$\n",
    "        Or\n",
    "        $$-[\\v{y}^{(i)}\\log(h_{\\v{\\beta}}(\\v{x})) + (1 - \\v{y}^{(i)})\\log(1-h_{\\v{\\beta}}(\\v{x}))]$$\n",
    "    </li>\n",
    "    <li>The overall loss function, $J$, is simply the average of this over all the training examples:\n",
    "        $$J(\\v{X}, \\v{y}, \\v{\\beta}) = - \\frac{1}{m}\\sum_{i=1}^m[\\v{y}^{(i)}\\log(h_{\\v{\\beta}}(\\v{x}^{(i)})) +\n",
    "                                                (1 - \\v{y}^{(i)})\\log(1 - h_{\\v{\\beta}}(\\v{x}^{(i)}))]$$\n",
    "    </li>\n",
    "</ul>"
   ]
  },
  {
   "cell_type": "markdown",
   "metadata": {
    "slideshow": {
     "slide_type": "slide"
    }
   },
   "source": [
    "<h1>Example</h1>"
   ]
  },
  {
   "cell_type": "code",
   "execution_count": 12,
   "metadata": {
    "collapsed": true
   },
   "outputs": [],
   "source": [
    "df = pd.read_csv(\"datasets/dataset_cs1109.csv\")\n",
    "\n",
    "y = df[\"outcome\"].values"
   ]
  },
  {
   "cell_type": "code",
   "execution_count": 13,
   "metadata": {
    "collapsed": false
   },
   "outputs": [],
   "source": [
    "# The features we want to select\n",
    "features = [\"lect\", \"lab\", \"cao\"]\n",
    "\n",
    "# Create the pipeline\n",
    "pipeline = Pipeline([\n",
    "        (\"selector\", DataFrameSelector(features, \"float64\")),\n",
    "        (\"scaler\", StandardScaler()),\n",
    "        (\"estimator\", LogisticRegression())\n",
    "    ])"
   ]
  },
  {
   "cell_type": "code",
   "execution_count": 14,
   "metadata": {
    "collapsed": false
   },
   "outputs": [
    {
     "data": {
      "text/plain": [
       "Pipeline(steps=[('selector', DataFrameSelector(attribute_names=['lect', 'lab', 'cao'], dtype='float64')), ('scaler', StandardScaler(copy=True, with_mean=True, with_std=True)), ('estimator', LogisticRegression(C=1.0, class_weight=None, dual=False, fit_intercept=True,\n",
       "          intercept_scaling=1, max_iter=100, multi_class='ovr', n_jobs=1,\n",
       "          penalty='l2', random_state=None, solver='liblinear', tol=0.0001,\n",
       "          verbose=0, warm_start=False))])"
      ]
     },
     "execution_count": 14,
     "metadata": {},
     "output_type": "execute_result"
    }
   ],
   "source": [
    "# Fit the linear model\n",
    "pipeline.fit(df, y)"
   ]
  },
  {
   "cell_type": "markdown",
   "metadata": {},
   "source": [
    "<ul>\n",
    "    <li>Warning! I trained on the whole dataset &mdash; not our normal practice!</li>\n",
    "</ul>"
   ]
  },
  {
   "cell_type": "code",
   "execution_count": 15,
   "metadata": {
    "collapsed": false
   },
   "outputs": [
    {
     "data": {
      "text/plain": [
       "array([1])"
      ]
     },
     "execution_count": 15,
     "metadata": {},
     "output_type": "execute_result"
    }
   ],
   "source": [
    "# Predict Craig's fate\n",
    "\n",
    "craig_df = pd.DataFrame([{\"lect\":60, \"lab\":25, \"cao\":500}])\n",
    "pipeline.predict(craig_df) "
   ]
  },
  {
   "cell_type": "markdown",
   "metadata": {
    "collapsed": true
   },
   "source": [
    "<ul>\n",
    "    <li>He fails!</li>\n",
    "</ul>"
   ]
  },
  {
   "cell_type": "markdown",
   "metadata": {
    "slideshow": {
     "slide_type": "slide"
    }
   },
   "source": [
    "<h1>Multiclass Classification</h1>\n",
    "<ul>\n",
    "    <li>Many classifiers can only do binary classification</li>\n",
    "    <li>How can we use a binary classifier for a multiclass problem? Two methods are common:\n",
    "        <ul>\n",
    "            <li>One-versus-Rest; and </li>\n",
    "            <li>One-versus-One.</li>\n",
    "        </ul>\n",
    "    </li>\n",
    "</ul>"
   ]
  },
  {
   "cell_type": "markdown",
   "metadata": {
    "slideshow": {
     "slide_type": "slide"
    }
   },
   "source": [
    "<h2>One-versus-Rest</h2>\n",
    "<ul>\n",
    "    <li><b>One-versus-Rest</b> (also called 'one-versus-all')\n",
    "        involves training $|C|$ binary classifiers, one per class\n",
    "        <ul style=\"background: lightgray\">\n",
    "            <li>\n",
    "                <b>for each</b> class $c \\in C$\n",
    "                <ul>\n",
    "                    <li>\n",
    "                        create a copy of the training set in which you replace examples \n",
    "                        $\\Tuple{\\v{x}, c}$ by $\\Tuple{\\v{x}, 1}$ and examples $\\Tuple{\\v{x}, c'}$ \n",
    "                        where $c' \\neq c$ by $\\Tuple{\\v{x}, 0}$\n",
    "                    </li>\n",
    "                    <li>\n",
    "                        train a binary classifier $h^c$ on this modified training set\n",
    "                    </li>\n",
    "                </ul>\n",
    "            </li>\n",
    "        </ul>\n",
    "    </li>\n",
    "    <li>After all these classifiers have been trained, to classify $\\v{x}$, we run all the classifiers \n",
    "        $h^c$ for each $c \\in C$\n",
    "        <ul>\n",
    "            The predicted class of $\\v{x}$ is the class $c$ whose classifier $h^c$ predicts 1 with \n",
    "            highest probability\n",
    "        </ul>\n",
    "    </li>\n",
    "    <li>How many classifiers would we end up building for a dataset where there are three classes?</li>\n",
    "</ul>"
   ]
  },
  {
   "cell_type": "markdown",
   "metadata": {
    "slideshow": {
     "slide_type": "slide"
    }
   },
   "source": [
    "<h2>One-versus-One</h2>\n",
    "<ul>\n",
    "    <li>In <b>One-versus-One</b> (also called 'pairwise classification'), \n",
    "        we build a classifier <em>for every pair</em> of classes using \n",
    "        only the training data for those two classes\n",
    "    </li>\n",
    "    <li>After all these classifiers have been trained, when we want to classify $\\v{x}$, we run all \n",
    "        the classifiers and, for each class $c \\in C$, we count how many of the classifiers predict \n",
    "        that class\n",
    "        <ul>\n",
    "            <li>The predicted class of $\\v{x}$ is the one that is predicted most often\n",
    "            </li>\n",
    "        </ul>\n",
    "    </li>\n",
    "    <li>One-versus-One's advantage over One-versus-Rest is that the individual classifiers do not need \n",
    "        to be classifiers that produce probabilities\n",
    "    </li>\n",
    "    <li>Its disadvantage is the number of individual classifiers it must train\n",
    "        <ul>\n",
    "            <li>How many for a dataset that has three classes?</li>\n",
    "            <li>In terms of $|C|$, how many in general?</li>\n",
    "            <li>What offsets this, so that in practice it may be \n",
    "                quite feasible?\n",
    "            </li>\n",
    "        </ul>\n",
    "    </li>\n",
    "</ul>"
   ]
  },
  {
   "cell_type": "markdown",
   "metadata": {
    "slideshow": {
     "slide_type": "slide"
    }
   },
   "source": [
    "<h1>Multinomial Logistic Regression</h1>\n",
    "<ul>\n",
    "    <li>Logistic Regression is one of the few classifiers that can directly handle multiclass\n",
    "        classification\n",
    "    </li>\n",
    "    <li>We must modify how the classifier works and the loss function for training\n",
    "    </li>\n",
    "    <li>Now, instead of one vector of coefficients, $\\v{\\beta}$, the classifier has one <em>per class</em>,\n",
    "        $\\v{\\beta}_c$  for each $c \\in C$\n",
    "    </li>\n",
    "    <li>Hence, instead of computing one value, $\\v{x}{\\v{\\beta}}$, it computes one per class,\n",
    "        $\\v{x}\\v{\\beta}_c$ for each $c \\in C$\n",
    "    </li>\n",
    "    <li>Now, 'squashing' is more complicated:\n",
    "        <ul>\n",
    "            <li>Not only must each of these values be squashed to $[0,1]$</li>\n",
    "            <li>But they must also sum to 1</li>\n",
    "        </ul>\n",
    "        So we do not use the logistic function\n",
    "    </li>\n",
    "    <li>We use the <b>softmax function</b> (but still often designated by $\\sigma$):\n",
    "        $$Prob(\\hat{y} = c\\, |\\, \\v{x}) = \\sigma(\\v{x}\\v{\\beta}_c) = \\frac{\\exp(\\v{x}\\v{\\beta}_c)}{\\sum_{c' \\in C} \\exp(\\v{x}\\v{\\beta}_{c'})}$$\n",
    "    </li>\n",
    "    <li>(BTW, if we put all the different $\\v{\\beta}_c$ into a single matrix $\\v{B}$,\n",
    "        then we can have a vectorized implementation  of this)\n",
    "    </li>\n",
    "    <li>Finally, there is no thresholding this time: the classifier simply predicts the class with the\n",
    "        highest estimated probability\n",
    "    </li>\n",
    "    <li>If you like symbols, here it is all in one line:\n",
    "        $$\\hat{y} = \\argmax_{c \\in C}(\\sigma(\\v{x}\\v{\\beta}_c))$$\n",
    "    </li>\n",
    "</ul>"
   ]
  },
  {
   "cell_type": "markdown",
   "metadata": {
    "slideshow": {
     "slide_type": "slide"
    }
   },
   "source": [
    "<h1>Multinomial Logistic Regression</h1>\n",
    "<ul>\n",
    "    <li>So how does logistic regression learn all these different $\\v{\\beta}_c$?</li>\n",
    "    <li>We need a new loss function: the <b>cross entropy loss function</b>\n",
    "        $$J(\\v{X}, \\v{y}, \\v{B}) = -\\frac{1}{m}\\sum_{i=1}^m\\sum_{c \\in C}I(\\v{y}^{(i)} = c)\\log(\\sigma(\\v{x}^{(i)}\\v{\\beta}_c))$$\n",
    "        where $I(p)$ is the indicator function that outputs 1 if predicate $p$ is true and zero otherwise\n",
    "     </li>\n",
    "     <li>The easiest way to get some grasp of this is to relaise that when there are just two classes, it is\n",
    "         equivalent to the loss function we used earlier\n",
    "    </li>\n",
    "</ul>"
   ]
  },
  {
   "cell_type": "markdown",
   "metadata": {
    "slideshow": {
     "slide_type": "slide"
    }
   },
   "source": [
    "<h2>Multiclass Logistic Regression in scikit-learn</h2>\n",
    "<ul>\n",
    "    <li>In scikit-learn, all binary classifiers can also be used for multiclass classification\n",
    "        <ul>\n",
    "            <li>By default, when needed, they use one-versus-rest &hellip; automatically</li>\n",
    "        </ul>\n",
    "    </li>\n",
    "    <li>This is true of <code>Logistic Regression</code> too\n",
    "    </li>\n",
    "    <li>But we can ask for multinomial regression using the cross-entropy loss function:\n",
    "        <ul>\n",
    "            <li>set the <code>multi_class</code> parameter to <code>\"multinomial\"</code>\n",
    "                (default is <code>multi_class=\"ovr\"</code>)\n",
    "            </li>\n",
    "            <li>but we must also set the <code>solver</code> parameter to one of\n",
    "                <code>\"lbfgs\"</code>, <code>\"sag\"</code> or <code>\"newton-cg\"</code>\n",
    "            </li>\n",
    "        </ul>\n",
    "    </li>\n",
    "</ul>"
   ]
  },
  {
   "cell_type": "markdown",
   "metadata": {
    "slideshow": {
     "slide_type": "slide"
    }
   },
   "source": [
    "<h1>Which is better?</h1>\n",
    "<ul>\n",
    "    <li>Sometimes, even when you have a classifier, such as Logistic Regression, that can directly \n",
    "        handle multiclass classification, using it in a One-versus-One fashion can be more accurate! \n",
    "        <ul>\n",
    "            <li>This is because it is like an 'ensemble' learning method,\n",
    "                which we will discuss properly in a later lecture in <i>CS4619</i>\n",
    "            </li>\n",
    "        </ul>\n",
    "    </li>\n",
    "</ul>"
   ]
  },
  {
   "cell_type": "code",
   "execution_count": null,
   "metadata": {
    "collapsed": true
   },
   "outputs": [],
   "source": []
  }
 ],
 "metadata": {
  "celltoolbar": "Slideshow",
  "kernelspec": {
   "display_name": "Python 3",
   "language": "python",
   "name": "python3"
  },
  "language_info": {
   "codemirror_mode": {
    "name": "ipython",
    "version": 3
   },
   "file_extension": ".py",
   "mimetype": "text/x-python",
   "name": "python",
   "nbconvert_exporter": "python",
   "pygments_lexer": "ipython3",
   "version": "3.5.1"
  }
 },
 "nbformat": 4,
 "nbformat_minor": 0
}
