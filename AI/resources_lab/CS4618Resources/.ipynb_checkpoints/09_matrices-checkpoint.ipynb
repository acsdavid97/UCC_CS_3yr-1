{
 "cells": [
  {
   "cell_type": "markdown",
   "metadata": {
    "slideshow": {
     "slide_type": "slide"
    }
   },
   "source": [
    "<h1>CS4618: Artificial Intelligence I</h1>\n",
    "<h1>Vectors and Matrices</h1>\n",
    "<h2>\n",
    "    Derek Bridge<br>\n",
    "    School of Computer Science and Information Technology<br>\n",
    "    University College Cork\n",
    "</h2>"
   ]
  },
  {
   "cell_type": "markdown",
   "metadata": {
    "slideshow": {
     "slide_type": "skip"
    }
   },
   "source": [
    "<h1>Initialization</h1>\n",
    "$\\newcommand{\\Set}[1]{\\{#1\\}}$ \n",
    "$\\newcommand{\\Tuple}[1]{\\langle#1\\rangle}$ \n",
    "$\\newcommand{\\v}[1]{\\pmb{#1}}$ \n",
    "$\\newcommand{\\cv}[1]{\\begin{bmatrix}#1\\end{bmatrix}}$ \n",
    "$\\newcommand{\\rv}[1]{[#1]}$ \n",
    "$\\DeclareMathOperator{\\argmax}{arg\\,max}$ \n",
    "$\\DeclareMathOperator{\\argmin}{arg\\,min}$ \n",
    "$\\DeclareMathOperator{\\dist}{dist}$\n",
    "$\\DeclareMathOperator{\\abs}{abs}$"
   ]
  },
  {
   "cell_type": "code",
   "execution_count": 1,
   "metadata": {
    "slideshow": {
     "slide_type": "skip"
    }
   },
   "outputs": [],
   "source": [
    "%load_ext autoreload\n",
    "%autoreload 2\n",
    "%matplotlib inline"
   ]
  },
  {
   "cell_type": "code",
   "execution_count": 2,
   "metadata": {
    "slideshow": {
     "slide_type": "skip"
    }
   },
   "outputs": [],
   "source": [
    "import pandas as pd\n",
    "import numpy as np\n",
    "import matplotlib.pyplot as plt"
   ]
  },
  {
   "cell_type": "code",
   "execution_count": 3,
   "metadata": {
    "collapsed": true,
    "slideshow": {
     "slide_type": "skip"
    }
   },
   "outputs": [],
   "source": [
    "import numpy.linalg as npla\n",
    "\n",
    "from math import sqrt"
   ]
  },
  {
   "cell_type": "markdown",
   "metadata": {},
   "source": [
    "<h1>Doing Things with Data</h1>\n",
    "<ul>\n",
    "    <li>All of these are about doing things with data:\n",
    "        <ul>\n",
    "            <li>data science, data analytics, machine learning, statistics, statistical machine learning, statistical inference,\n",
    "            data mining, knowledge discovery, pattern recognition, &hellip;\n",
    "            </li>\n",
    "        </ul>\n",
    "    </li>\n",
    "    <li>These fields have been given impetus by:\n",
    "        <ul>\n",
    "            <li>availability of lots of data (sometimes 'big data'), partly due to sensors, the Internet, &hellip;</li>\n",
    "            <li>availability of hardware for high volume storage and processing, including GPUs, cloud computing, &hellip;</li>\n",
    "        </ul>\n",
    "    </li>\n",
    "    <li>We use techniques discovered by these fields for tasks in AI such as prediction (regression, classification),\n",
    "        clustering, speech recognition, machine translation, &hellip;\n",
    "    </li>\n",
    "    <li>But, first, some background maths!</li>\n",
    "</ul> "
   ]
  },
  {
   "cell_type": "markdown",
   "metadata": {
    "slideshow": {
     "slide_type": "slide"
    }
   },
   "source": [
    "<h1>Matrices</h1>\n",
    "<ul>\n",
    "    <li>A <b>matrix</b> is a rectangular array, in our case of real numbers</li>\n",
    "    <li>\n",
    "        In general, we use bold capital letters, e.g. $\\v{A}$, for matrices, e.g.\n",
    "        $$\\v{A} = \\begin{bmatrix}\n",
    "                      2 & 4 & 0 \\\\\n",
    "                      1 & 3 & 2\n",
    "                  \\end{bmatrix}\n",
    "        $$\n",
    "    </li>\n",
    "    <li>\n",
    "        <b>Dimension</b>: A matrix with $m$ rows and $n$ columns is an <b>$m \\times n$ matrix</b>\n",
    "        <ul>\n",
    "            <li>\n",
    "                What are $m$ and $n$ for $\\v{A}$?\n",
    "            </li>\n",
    "        </ul>\n",
    "    </li>\n",
    "    <li>\n",
    "        We refer to an <b>element</b> of a matrix either using subscripts or indexes\n",
    "        <ul>\n",
    "            <li>\n",
    "                $\\v{A}_{i,j}$ or $\\v{A}[i,j]$ is the element in the $i$th row and $j$th column\n",
    "            </li>\n",
    "            <li>\n",
    "                We will index from 1\n",
    "                <ul>\n",
    "                    <li>\n",
    "                        However, we will sometimes use position 0 for 'technical' purposes\n",
    "                    </li>\n",
    "                    <li>\n",
    "                        And we must be aware that Python numpy arrays and matrices are 0-indexed\n",
    "                    </li>\n",
    "                </ul>\n",
    "             </li>\n",
    "             <li>\n",
    "                 So what are $\\v{A}_{2,1}$, $\\v{A}_{1,2}$, $\\v{A}_{0,0}$ and $\\v{A}_{3, 2}$?\n",
    "             </li>\n",
    "        </ul>\n",
    "    </li>\n",
    "</ul>"
   ]
  },
  {
   "cell_type": "markdown",
   "metadata": {
    "slideshow": {
     "slide_type": "slide"
    }
   },
   "source": [
    "<h1>Vectors</h1>\n",
    "<ul>\n",
    "    <li>A <b>vector</b> is a matrix that has only one column, i.e. a $m \\times 1$ matrix</li>\n",
    "    <li>\n",
    "        A vector with $m$ rows is called a <b>$m$-dimensional</b> vector\n",
    "    </li>\n",
    "    <li>\n",
    "        In general, we use bold lowercase letters for vectors, e.g.\n",
    "        $$\\v{x} = \\cv{2\\\\4\\\\3}$$\n",
    "    <li>\n",
    "        Sometimes this is called a <b>column vector</b>\n",
    "    </li>\n",
    "    <li>\n",
    "        Then, by contrast, a <b>row vector</b> is a matrix that has only one row, i.e. a $1 \\times n$ matrix, e.g.\n",
    "        $$\\rv{2, 4, 3}$$\n",
    "    </li>\n",
    "    <li>\n",
    "        Unless stated otherwise, a vector should be assumed to be a column vector.\n",
    "    </li>\n",
    "    <li>\n",
    "        We can refer to an element using a single subscript, again most of the time indexed from 1\n",
    "        <ul>\n",
    "            <li>\n",
    "                So what is $\\v{x}_1$?\n",
    "            </li>\n",
    "        </ul>\n",
    "    </li>\n",
    "</ul>"
   ]
  },
  {
   "cell_type": "markdown",
   "metadata": {
    "slideshow": {
     "slide_type": "slide"
    }
   },
   "source": [
    "<h1>Vectors and Matrices in Python</h1>\n",
    "<ul>\n",
    "    <li>Of the many ways of representing vectors and matrices in Python, we will use two:\n",
    "        <ul>\n",
    "            <li>\n",
    "                pandas library:\n",
    "                <ul>\n",
    "                    <li>for vectors: <code>Series</code>, a kind of one-dimensional array</li>\n",
    "                    <li>for matrices: <code>DataFrame</code>s, which are tabular data structures of rows and (named) columns\n",
    "                </ul>\n",
    "            </li>\n",
    "            <li>\n",
    "                numpy library\n",
    "                <ul>\n",
    "                    <li>numpy arrays, which can be one-dimensional, two-dimensional, or have more dimensions\n",
    "                </ul>\n",
    "                The scikit-learn library expects its data to arrive as numpy arrays\n",
    "            </li>\n",
    "        </ul>\n",
    "    </li>\n",
    "</ul> "
   ]
  },
  {
   "cell_type": "markdown",
   "metadata": {
    "slideshow": {
     "slide_type": "slide"
    }
   },
   "source": [
    "<h1>Using numpy arrays</h1>"
   ]
  },
  {
   "cell_type": "code",
   "execution_count": 4,
   "metadata": {},
   "outputs": [],
   "source": [
    "# Vectors\n",
    "# We will use a numpy 1d array, which we can create from a list\n",
    "# But, done this way, there is no way for us to distinguish between column- and row-vectors\n",
    "x = np.array([2, 4, 3])\n",
    "\n",
    "# Matrices\n",
    "# We will use a numpy 2d array, which we can create from a list of lists\n",
    "A = np.array([[2, 4, 0], [1, 3, 2]])"
   ]
  },
  {
   "cell_type": "markdown",
   "metadata": {},
   "source": [
    "<p>\n",
    "    We can see their dimensions:\n",
    "</p>"
   ]
  },
  {
   "cell_type": "code",
   "execution_count": 5,
   "metadata": {},
   "outputs": [
    {
     "data": {
      "text/plain": [
       "(3,)"
      ]
     },
     "execution_count": 5,
     "metadata": {},
     "output_type": "execute_result"
    }
   ],
   "source": [
    "x.shape"
   ]
  },
  {
   "cell_type": "code",
   "execution_count": 6,
   "metadata": {},
   "outputs": [
    {
     "data": {
      "text/plain": [
       "(2, 3)"
      ]
     },
     "execution_count": 6,
     "metadata": {},
     "output_type": "execute_result"
    }
   ],
   "source": [
    "A.shape"
   ]
  },
  {
   "cell_type": "markdown",
   "metadata": {},
   "source": [
    "<p>\n",
    "    You can think of (3,) as saying it's not a nested list: it has 3 numbers in it.\n",
    "</p>\n",
    "<p>\n",
    "    We can make it into a nested list using the reshape method, and then its shape is (3,1):\n",
    "</p>"
   ]
  },
  {
   "cell_type": "code",
   "execution_count": 7,
   "metadata": {},
   "outputs": [
    {
     "data": {
      "text/plain": [
       "array([[2],\n",
       "       [4],\n",
       "       [3]])"
      ]
     },
     "execution_count": 7,
     "metadata": {},
     "output_type": "execute_result"
    }
   ],
   "source": [
    "X = x.reshape((3,1))\n",
    "X"
   ]
  },
  {
   "cell_type": "code",
   "execution_count": 8,
   "metadata": {},
   "outputs": [
    {
     "data": {
      "text/plain": [
       "(3, 1)"
      ]
     },
     "execution_count": 8,
     "metadata": {},
     "output_type": "execute_result"
    }
   ],
   "source": [
    "X.shape"
   ]
  },
  {
   "cell_type": "markdown",
   "metadata": {
    "slideshow": {
     "slide_type": "slide"
    }
   },
   "source": [
    "<h1>Scalar Addition and Scalar Multiplication</h1>\n",
    "<ul>\n",
    "    <li>In this context, 'scalar' simply means a number</li>\n",
    "    <li>Scalar addition and multiplication both work <b>elementwise</b>, i.e.:\n",
    "        <ul>\n",
    "            <li>In scalar addition, we add the number to each element in the matrix</li>\n",
    "            <li>In scalar multiplication, we multiply each element in the matrix by the number</li>\n",
    "        </ul>\n",
    "     </li>\n",
    "     <li>E.g.\n",
    "        $$\\v{A} = \n",
    "            \\begin{bmatrix}\n",
    "                2 & 4 & 0 \\\\\n",
    "                1 & 3 & 2\n",
    "            \\end{bmatrix}\\,\\,\\,\\,\\,\\,\\,\\,\\,\\,\n",
    "          2 + \\v{A} = \n",
    "            \\begin{bmatrix}\n",
    "                4 & 6 & 2 \\\\\n",
    "                3 & 5 & 4\n",
    "            \\end{bmatrix}\\,\\,\\,\\,\\,\\,\\,\\,\\,\\,\n",
    "          2\\v{A} = \n",
    "            \\begin{bmatrix}\n",
    "                4 & 8 & 0 \\\\\n",
    "                2 & 6 & 4\n",
    "            \\end{bmatrix}\n",
    "        $$\n",
    "    </li>\n",
    "</ul>"
   ]
  },
  {
   "cell_type": "markdown",
   "metadata": {},
   "source": [
    "<h1>Scalar Addition and Scalar Mutliplication in numpy</h1>\n",
    "<ul>\n",
    "    <li>numpy arrays enable operations like these using the normal addition, subtraction, multiplication and division\n",
    "        operators and without writing for loops\n",
    "    </li>\n",
    "</ul>"
   ]
  },
  {
   "cell_type": "code",
   "execution_count": 9,
   "metadata": {
    "collapsed": true
   },
   "outputs": [],
   "source": [
    "A = np.array([[2, 4, 0], [1, 3, 2]])"
   ]
  },
  {
   "cell_type": "code",
   "execution_count": 10,
   "metadata": {},
   "outputs": [
    {
     "data": {
      "text/plain": [
       "array([[4, 6, 2],\n",
       "       [3, 5, 4]])"
      ]
     },
     "execution_count": 10,
     "metadata": {},
     "output_type": "execute_result"
    }
   ],
   "source": [
    "2 + A"
   ]
  },
  {
   "cell_type": "code",
   "execution_count": 11,
   "metadata": {},
   "outputs": [
    {
     "data": {
      "text/plain": [
       "array([[4, 8, 0],\n",
       "       [2, 6, 4]])"
      ]
     },
     "execution_count": 11,
     "metadata": {},
     "output_type": "execute_result"
    }
   ],
   "source": [
    "2 * A"
   ]
  },
  {
   "cell_type": "markdown",
   "metadata": {},
   "source": [
    "<ul>\n",
    "    <li>Other Python operators also work</li>\n",
    "</ul>"
   ]
  },
  {
   "cell_type": "code",
   "execution_count": 12,
   "metadata": {},
   "outputs": [
    {
     "data": {
      "text/plain": [
       "array([[ 4, 16,  0],\n",
       "       [ 1,  9,  4]])"
      ]
     },
     "execution_count": 12,
     "metadata": {},
     "output_type": "execute_result"
    }
   ],
   "source": [
    "A**2"
   ]
  },
  {
   "cell_type": "markdown",
   "metadata": {
    "slideshow": {
     "slide_type": "slide"
    }
   },
   "source": [
    "<h1>Matrix Addition and Hadamard Product</h1>\n",
    "<ul>\n",
    "    <li>Matrx addition and Hadamard product require two matrices that have <em>the same dimensions</em></li>\n",
    "    <li>They are also defined elementwise: by adding or multiplying <em>corresponding</em> elements</li>\n",
    "     <li>E.g.\n",
    "    $$\n",
    "        \\v{A} = \\begin{bmatrix}\n",
    "                2 & 4 & 0 \\\\\n",
    "                1 & 3 & 2\n",
    "            \\end{bmatrix}\\,\\,\\,\\,\\,\\,\\,\\,\\,\\,\n",
    "        \\v{B} = \\begin{bmatrix}\n",
    "                1 & 0 & 5 \\\\\n",
    "                2 & 3 & 2\n",
    "            \\end{bmatrix}\\,\\,\\,\\,\\,\\,\\,\\,\\,\\,\n",
    "        \\v{A}+\\v{B} = \\begin{bmatrix}\n",
    "                3 & 4 & 5 \\\\\n",
    "                3 & 6 & 4\n",
    "              \\end{bmatrix}\\,\\,\\,\\,\\,\\,\\,\\,\\,\\,\n",
    "        \\v{A}*\\v{B} = \\begin{bmatrix}\n",
    "                2 & 0 & 0 \\\\\n",
    "                2 & 9 & 4\n",
    "              \\end{bmatrix}\n",
    "    $$\n",
    "    </li>\n",
    "    <li>In maths, Hadamard product is more often written with a dot ($\\cdot$ or $\\circ$), but we will use $\\ast$</li>\n",
    "</ul>"
   ]
  },
  {
   "cell_type": "markdown",
   "metadata": {
    "slideshow": {
     "slide_type": "slide"
    }
   },
   "source": [
    "<h1>Matrix Addition and Hadamard Product in numpy</h1>\n",
    "<ul>\n",
    "    <li>We don't need to write any loops, just use <code>+</code> and <code>&ast;</code></li>\n",
    "</ul>"
   ]
  },
  {
   "cell_type": "code",
   "execution_count": 13,
   "metadata": {},
   "outputs": [],
   "source": [
    "A = np.array([[2, 4, 0], [1, 3, 2]])\n",
    "B = np.array([[1, 0, 5], [2, 3, 2]])"
   ]
  },
  {
   "cell_type": "code",
   "execution_count": 14,
   "metadata": {},
   "outputs": [
    {
     "data": {
      "text/plain": [
       "array([[3, 4, 5],\n",
       "       [3, 6, 4]])"
      ]
     },
     "execution_count": 14,
     "metadata": {},
     "output_type": "execute_result"
    }
   ],
   "source": [
    "A + B"
   ]
  },
  {
   "cell_type": "code",
   "execution_count": 15,
   "metadata": {},
   "outputs": [
    {
     "data": {
      "text/plain": [
       "array([[2, 0, 0],\n",
       "       [2, 9, 4]])"
      ]
     },
     "execution_count": 15,
     "metadata": {},
     "output_type": "execute_result"
    }
   ],
   "source": [
    "A * B"
   ]
  },
  {
   "cell_type": "markdown",
   "metadata": {
    "slideshow": {
     "slide_type": "slide"
    }
   },
   "source": [
    "<h1>Broadcasting in numpy</h1>\n",
    "<ul>\n",
    "    <li>In maths, matrix addition and Hadamard product require the matrices to have the same dimensions</li>\n",
    "    <li>But, in numpy, things are less rigid, e.g.:</li>\n",
    "</ul>"
   ]
  },
  {
   "cell_type": "code",
   "execution_count": 16,
   "metadata": {},
   "outputs": [
    {
     "data": {
      "text/plain": [
       "array([[4, 8, 3],\n",
       "       [3, 7, 5]])"
      ]
     },
     "execution_count": 16,
     "metadata": {},
     "output_type": "execute_result"
    }
   ],
   "source": [
    "x = np.array([2, 4, 3])\n",
    "A = np.array([[2, 4, 0], [1, 3, 2]])\n",
    "\n",
    "A + x"
   ]
  },
  {
   "cell_type": "markdown",
   "metadata": {},
   "source": [
    "<ul>\n",
    "    <li>Conceptually, the smaller array is copied enough times to make its dimensions compatible with the larger array\n",
    "        <ul>\n",
    "            <li>But it isn't <em>literally</em> copied and, in many cases, is substantially faster that writing your\n",
    "                own loops\n",
    "            </li>\n",
    "            <li>This is called <b>broadcasting</b></li>\n",
    "        </ul>\n",
    "    </li>\n",
    "</ul>"
   ]
  },
  {
   "cell_type": "markdown",
   "metadata": {
    "slideshow": {
     "slide_type": "slide"
    }
   },
   "source": [
    "<h1>numpy's Rules for Broadcasting</h1>\n",
    "<ul>\n",
    "    <li>The rules for broadcasting are: the dimensions of the two arrays are compared, starting from the trailing dimensions,\n",
    "        and are compatible when\n",
    "        <ul>\n",
    "            <li>they are equal, or</li>\n",
    "            <li>one of them is 1</li>\n",
    "        </ul>\n",
    "    </li>\n",
    "    <li>In the example above $\\v{A}$ was $2 \\times 3$ and $\\v{x}$ was 3</li>\n",
    "    <li>Hence, which of these will work, and which will give errors?\n",
    "    </li>\n",
    "</ul>"
   ]
  },
  {
   "cell_type": "code",
   "execution_count": null,
   "metadata": {},
   "outputs": [],
   "source": [
    "A = np.ones((5, 4))\n",
    "x = np.ones(4)\n",
    "\n",
    "A + x"
   ]
  },
  {
   "cell_type": "code",
   "execution_count": null,
   "metadata": {},
   "outputs": [],
   "source": [
    "A = np.ones((5,4))\n",
    "B = np.ones((5,1))\n",
    "\n",
    "A + B"
   ]
  },
  {
   "cell_type": "code",
   "execution_count": null,
   "metadata": {},
   "outputs": [],
   "source": [
    "A = np.ones((5,4))\n",
    "x = np.ones(5)\n",
    "\n",
    "A + x"
   ]
  },
  {
   "cell_type": "code",
   "execution_count": null,
   "metadata": {},
   "outputs": [],
   "source": [
    "A = np.ones((5, 4))\n",
    "x = np.ones(5)\n",
    "B = x.reshape((5,1))\n",
    "\n",
    "A + B"
   ]
  },
  {
   "cell_type": "code",
   "execution_count": null,
   "metadata": {},
   "outputs": [],
   "source": [
    "A = np.ones((2, 1))\n",
    "B = np.ones((4, 3))\n",
    "\n",
    "A * B"
   ]
  },
  {
   "cell_type": "markdown",
   "metadata": {
    "slideshow": {
     "slide_type": "slide"
    }
   },
   "source": [
    "<h1>Matrix Multiplication</h1>\n",
    "<ul>\n",
    "    <li>We can compute $\\v{A}\\v{B}$, the result of multiplying matrices $\\v{A}$ and $\\v{B}$, provided the number of columns\n",
    "        of $\\v{A}$ equals the number of rows of $\\v{B}$\n",
    "        <ul>\n",
    "            <li>\n",
    "                If $\\v{A}$ is a $m \\times p$ matrix and $\\v{B}$ is a $p \\times n$ matrix, then we can compute $C = \\v{A}\\v{B}$\n",
    "            </li>\n",
    "            <li>\n",
    "                $\\v{C}$ will be a $m \\times n$ matrix\n",
    "            </li>\n",
    "        </ul>\n",
    "    </li>\n",
    "    <li>\n",
    "        $\\v{C}_{i,j}$ is obtained by multiplying elements of the $i$th row of $\\v{A}$ by corresponding elements\n",
    "        of the $j$th column of $\\v{B}$ and summing:\n",
    "        $$\\v{C}_{i,j} = \\sum_{k=1}^p\\v{A}_{i,k}\\v{B}_{k,j}$$\n",
    "    </li>\n",
    "    <li>E.g.\n",
    "        $$\\v{A} = \\begin{bmatrix}\n",
    "                    2 & 4 & 0 \\\\\n",
    "                    1 & 3 & 2\n",
    "                  \\end{bmatrix}\\,\\,\\,\\,\\,\\,\\,\\,\\,\\,\n",
    "          \\v{B} = \\begin{bmatrix}\n",
    "                    3 & 1 & 2\\\\\n",
    "                    2 & 3 & 1\\\\\n",
    "                    1 & 3 & 3\n",
    "                    \\end{bmatrix}\\,\\,\\,\\,\\,\\,\\,\\,\\,\\,\n",
    "         \\v{A}\\v{B} = \\begin{bmatrix}\n",
    "                         14 & 14 & 8\\\\\n",
    "                         11 & 16 & 11\n",
    "                      \\end{bmatrix}\n",
    "         $$\n",
    "    </li>\n",
    "    <li>Since vectors are just one-column vectors, matrix multiplication can apply &mdash; provided the dimensions are OK, e.g.\n",
    "        $$\\v{A} = \\begin{bmatrix}\n",
    "                  2 & 4 & 0 \\\\\n",
    "                  1 & 3 & 2\n",
    "                  \\end{bmatrix}\\,\\,\\,\\,\\,\\,\\,\\,\\,\\,\n",
    "          \\v{x} = \\cv{2\\\\3\\\\1}\\,\\,\\,\\,\\,\\,\\,\\,\\,\\,\n",
    "          \\v{y} = \\cv{2\\\\3}\\,\\,\\,\\,\\,\\,\\,\\,\\,\\,\n",
    "          \\v{A}\\v{x} = \\cv{16\\\\13}\\,\\,\\,\\,\\,\\,\\,\\,\\,\\,\n",
    "          \\v{A}\\v{y} \\mbox{ is undefined}\n",
    "        $$\n",
    "    </li>\n",
    "</ul> "
   ]
  },
  {
   "cell_type": "markdown",
   "metadata": {
    "slideshow": {
     "slide_type": "slide"
    }
   },
   "source": [
    "<h1>Matrix Multiplication in numpy</h1>\n",
    "<ul>\n",
    "    <li>numpy offers <code>dot</code> as a function or method for matrix multiplication:\n",
    "</ul>"
   ]
  },
  {
   "cell_type": "code",
   "execution_count": 20,
   "metadata": {},
   "outputs": [
    {
     "data": {
      "text/plain": [
       "array([[14, 14,  8],\n",
       "       [11, 16, 11]])"
      ]
     },
     "execution_count": 20,
     "metadata": {},
     "output_type": "execute_result"
    }
   ],
   "source": [
    "A = np.array([[2, 4, 0], [1, 3, 2]])\n",
    "B = np.array([[3, 1, 2], [2, 3, 1], [1, 3, 3]])\n",
    "\n",
    "# Multiplication as a function\n",
    "# np.dot(A, B)\n",
    "\n",
    "# Multiplication as a method\n",
    "A.dot(B)"
   ]
  },
  {
   "cell_type": "markdown",
   "metadata": {},
   "source": [
    "<ul>\n",
    "    <li>Remember, matrix multplication in numpy is done with <code>dot</code>, not &ast;</li>\n",
    "    <li>Brodcasting does not apply to matrix multiplication, since it's not an elementwise operation</li>\n",
    "</ul>"
   ]
  },
  {
   "cell_type": "markdown",
   "metadata": {
    "slideshow": {
     "slide_type": "slide"
    }
   },
   "source": [
    "<h1>Transpose</h1>\n",
    "<ul>\n",
    "    <li>The <b>transpose</b> of $m \\times n$ matrix $\\v{A}$, written $\\v{A}^T$, is the $n \\times m$ matrix in \n",
    "        which the first row of $\\v{A}$ becomes the first column of $\\v{A}^T$, the second row of $\\v{A}$ becomes \n",
    "        the second column of $\\v{B}$, and so on:\n",
    "        <ul>\n",
    "            <li>\n",
    "                $\\v{A}_{i,j}^T = \\v{A}_{j,i}$\n",
    "            </li>\n",
    "        </ul>\n",
    "    </li>\n",
    "    <li>\n",
    "        E.g.\n",
    "        $$\\v{A} = \\begin{bmatrix}\n",
    "                2 & 4 & 0 \\\\\n",
    "                1 & 3 & 2\n",
    "              \\end{bmatrix}\\,\\,\\,\\,\\,\\,\\,\\,\\,\\,\n",
    "          \\v{A}^T = \\begin{bmatrix}\n",
    "                     2 & 1 \\\\\n",
    "                     4 & 3 \\\\\n",
    "                     0 & 2\n",
    "                    \\end{bmatrix}\n",
    "        $$\n",
    "    </li>\n",
    "    <li>\n",
    "        As a special case, if $\\v{x}$ is a $m$-dimensional column vector ($m \\times 1$), then $\\v{x}^T$ is a \n",
    "        $m$-dimensional row vector ($1 \\times m$), e.g.\n",
    "        $$\\v{x} = \\cv{2\\\\4\\\\3}\\,\\,\\,\\,\\,\\,\\,\\,\\,\\, \\v{x}^T = \\rv{2, 4, 3}$$\n",
    "    </li>\n",
    "</ul>"
   ]
  },
  {
   "cell_type": "markdown",
   "metadata": {
    "slideshow": {
     "slide_type": "slide"
    }
   },
   "source": [
    "<h1>Transpose in numpy</h1>\n",
    "<ul>\n",
    "    <li>numpy arrays offer easy ways to compute their transpose: either the <code>transpose</code> method or \n",
    "       the <code>T</code> attribute:\n",
    "    </li>\n",
    "</ul>"
   ]
  },
  {
   "cell_type": "code",
   "execution_count": 21,
   "metadata": {},
   "outputs": [
    {
     "data": {
      "text/plain": [
       "array([[2, 1],\n",
       "       [4, 3],\n",
       "       [0, 2]])"
      ]
     },
     "execution_count": 21,
     "metadata": {},
     "output_type": "execute_result"
    }
   ],
   "source": [
    "A = np.array([[2, 4, 0], [1, 3, 2]])\n",
    "\n",
    "# Transpose as a method\n",
    "# A.transpose()\n",
    "\n",
    "# Tranpose as an attribute\n",
    "A.T"
   ]
  },
  {
   "cell_type": "markdown",
   "metadata": {
    "slideshow": {
     "slide_type": "slide"
    }
   },
   "source": [
    "<h1>Identity Matrices</h1>\n",
    "<ul>\n",
    "    <li>The $n \\times n$ <b>identity matrix</b>, $\\v{I}_n$, contains zeros except for entries on the main diagonal\n",
    "        (from top left to bottom right):\n",
    "        <ul>\n",
    "            <li>\n",
    "                $\\v{I}_n[i,i] = 1$ for $i = 1,\\ldots,n$ and $\\v{I}_n[i,j] = 0$ for $i \\neq j$\n",
    "            </li>\n",
    "        </ul>\n",
    "    <li>E.g.:\n",
    "        $$\\v{I}_3 = \\begin{bmatrix}\n",
    "                    1 & 0 & 0 \\\\\n",
    "                    0 & 1 & 0 \\\\\n",
    "                    0 & 0 & 1\n",
    "                    \\end{bmatrix}\n",
    "        $$\n",
    "    </li>\n",
    "    <li>\n",
    "        If $\\v{A}$ is an $m \\times n$ matrix then, $\\v{A}\\v{I}_n = \\v{I}_m\\v{A} = \\v{A}$\n",
    "    </li>\n",
    "</ul>"
   ]
  },
  {
   "cell_type": "markdown",
   "metadata": {},
   "source": [
    "<h1>Identity Matrices in numpy</h1>\n",
    "<ul>\n",
    "    <li>Create identity matrices using the <code>identity</code> function:</li>\n",
    "</ul>"
   ]
  },
  {
   "cell_type": "code",
   "execution_count": 22,
   "metadata": {},
   "outputs": [
    {
     "data": {
      "text/plain": [
       "array([[ 1.,  0.,  0.],\n",
       "       [ 0.,  1.,  0.],\n",
       "       [ 0.,  0.,  1.]])"
      ]
     },
     "execution_count": 22,
     "metadata": {},
     "output_type": "execute_result"
    }
   ],
   "source": [
    "np.identity(3)"
   ]
  },
  {
   "cell_type": "markdown",
   "metadata": {
    "slideshow": {
     "slide_type": "slide"
    }
   },
   "source": [
    "<h1>Inverses</h1>\n",
    "<ul>\n",
    "    <li>If $\\v{A}$ is a $n \\times n$ matrix, then its <b>inverse</b>, $\\v{A}^{-1}$ (<em>if it has one</em>) is also \n",
    "        a $n \\times n$ matrix such that $\\v{A}\\v{A}^{-1} = \\v{I}_n$.\n",
    "    </li>\n",
    "    <li>E.g.\n",
    "        $$\\v{A} = \\begin{bmatrix}\n",
    "                    1 &  0 & 2 \\\\\n",
    "                    2 & -1 & 3 \\\\\n",
    "                    4 &  1 & 8\n",
    "                 \\end{bmatrix}\\,\\,\\,\\,\\,\\,\\,\\,\\,\\,\n",
    "         \\v{A}^{-1} = \\begin{bmatrix}\n",
    "                     -11 &  2 &  2 \\\\\n",
    "                      -4 &  0 &  1 \\\\\n",
    "                       6 & -1 & -1\n",
    "                      \\end{bmatrix}\n",
    "        $$\n",
    "    </li>\n",
    "    <li>\n",
    "        Some $n \\times n$ matrices do not have inverses, e.g.\n",
    "        $$\\begin{bmatrix}\n",
    "            1 & 1 & 1 \\\\\n",
    "            1 & 1 & 1 \\\\\n",
    "            1 & 1 & 1\n",
    "           \\end{bmatrix}$$\n",
    "        In these cases, provided the matrix is square, you can compute a <b>pseudo-inverse</b>, which you can use \n",
    "        for <em>some</em> of the same purposes instead\n",
    "    </li>\n",
    "</ul>"
   ]
  },
  {
   "cell_type": "markdown",
   "metadata": {
    "slideshow": {
     "slide_type": "slide"
    }
   },
   "source": [
    "<h1>Inverses in numpy</h1>\n",
    "<ul>\n",
    "    <li>numpy.linalg offers function <code>inv</code> for computing inverses, but also function \n",
    "        <code>pinv</code> for computing the Moore-Penrose pseudo-inverse:\n",
    "    </li>\n",
    "</ul>"
   ]
  },
  {
   "cell_type": "code",
   "execution_count": 23,
   "metadata": {},
   "outputs": [
    {
     "data": {
      "text/plain": [
       "array([[-11.,   2.,   2.],\n",
       "       [ -4.,  -0.,   1.],\n",
       "       [  6.,  -1.,  -1.]])"
      ]
     },
     "execution_count": 23,
     "metadata": {},
     "output_type": "execute_result"
    }
   ],
   "source": [
    "A = np.array([[1, 0, 2], [2, -1, 3], [4, 1, 8]])\n",
    "\n",
    "npla.inv(A)"
   ]
  },
  {
   "cell_type": "code",
   "execution_count": 24,
   "metadata": {},
   "outputs": [
    {
     "data": {
      "text/plain": [
       "array([[ -1.10000000e+01,   2.00000000e+00,   2.00000000e+00],\n",
       "       [ -4.00000000e+00,   1.42108547e-14,   1.00000000e+00],\n",
       "       [  6.00000000e+00,  -1.00000000e+00,  -1.00000000e+00]])"
      ]
     },
     "execution_count": 24,
     "metadata": {},
     "output_type": "execute_result"
    }
   ],
   "source": [
    "npla.pinv(A)"
   ]
  },
  {
   "cell_type": "code",
   "execution_count": 25,
   "metadata": {},
   "outputs": [
    {
     "ename": "LinAlgError",
     "evalue": "Singular matrix",
     "output_type": "error",
     "traceback": [
      "\u001b[1;31m---------------------------------------------------------------------------\u001b[0m",
      "\u001b[1;31mLinAlgError\u001b[0m                               Traceback (most recent call last)",
      "\u001b[1;32m<ipython-input-25-68bf09415942>\u001b[0m in \u001b[0;36m<module>\u001b[1;34m()\u001b[0m\n\u001b[0;32m      1\u001b[0m \u001b[0mB\u001b[0m \u001b[1;33m=\u001b[0m \u001b[0mnp\u001b[0m\u001b[1;33m.\u001b[0m\u001b[0mones\u001b[0m\u001b[1;33m(\u001b[0m\u001b[1;33m(\u001b[0m\u001b[1;36m3\u001b[0m\u001b[1;33m,\u001b[0m\u001b[1;36m3\u001b[0m\u001b[1;33m)\u001b[0m\u001b[1;33m)\u001b[0m\u001b[1;33m\u001b[0m\u001b[0m\n\u001b[0;32m      2\u001b[0m \u001b[1;33m\u001b[0m\u001b[0m\n\u001b[1;32m----> 3\u001b[1;33m \u001b[0mnpla\u001b[0m\u001b[1;33m.\u001b[0m\u001b[0minv\u001b[0m\u001b[1;33m(\u001b[0m\u001b[0mB\u001b[0m\u001b[1;33m)\u001b[0m \u001b[1;31m# raises an exception\u001b[0m\u001b[1;33m\u001b[0m\u001b[0m\n\u001b[0m",
      "\u001b[1;32m/home/dgb/anaconda3/lib/python3.5/site-packages/numpy/linalg/linalg.py\u001b[0m in \u001b[0;36minv\u001b[1;34m(a)\u001b[0m\n\u001b[0;32m    524\u001b[0m     \u001b[0msignature\u001b[0m \u001b[1;33m=\u001b[0m \u001b[1;34m'D->D'\u001b[0m \u001b[1;32mif\u001b[0m \u001b[0misComplexType\u001b[0m\u001b[1;33m(\u001b[0m\u001b[0mt\u001b[0m\u001b[1;33m)\u001b[0m \u001b[1;32melse\u001b[0m \u001b[1;34m'd->d'\u001b[0m\u001b[1;33m\u001b[0m\u001b[0m\n\u001b[0;32m    525\u001b[0m     \u001b[0mextobj\u001b[0m \u001b[1;33m=\u001b[0m \u001b[0mget_linalg_error_extobj\u001b[0m\u001b[1;33m(\u001b[0m\u001b[0m_raise_linalgerror_singular\u001b[0m\u001b[1;33m)\u001b[0m\u001b[1;33m\u001b[0m\u001b[0m\n\u001b[1;32m--> 526\u001b[1;33m     \u001b[0mainv\u001b[0m \u001b[1;33m=\u001b[0m \u001b[0m_umath_linalg\u001b[0m\u001b[1;33m.\u001b[0m\u001b[0minv\u001b[0m\u001b[1;33m(\u001b[0m\u001b[0ma\u001b[0m\u001b[1;33m,\u001b[0m \u001b[0msignature\u001b[0m\u001b[1;33m=\u001b[0m\u001b[0msignature\u001b[0m\u001b[1;33m,\u001b[0m \u001b[0mextobj\u001b[0m\u001b[1;33m=\u001b[0m\u001b[0mextobj\u001b[0m\u001b[1;33m)\u001b[0m\u001b[1;33m\u001b[0m\u001b[0m\n\u001b[0m\u001b[0;32m    527\u001b[0m     \u001b[1;32mreturn\u001b[0m \u001b[0mwrap\u001b[0m\u001b[1;33m(\u001b[0m\u001b[0mainv\u001b[0m\u001b[1;33m.\u001b[0m\u001b[0mastype\u001b[0m\u001b[1;33m(\u001b[0m\u001b[0mresult_t\u001b[0m\u001b[1;33m,\u001b[0m \u001b[0mcopy\u001b[0m\u001b[1;33m=\u001b[0m\u001b[1;32mFalse\u001b[0m\u001b[1;33m)\u001b[0m\u001b[1;33m)\u001b[0m\u001b[1;33m\u001b[0m\u001b[0m\n\u001b[0;32m    528\u001b[0m \u001b[1;33m\u001b[0m\u001b[0m\n",
      "\u001b[1;32m/home/dgb/anaconda3/lib/python3.5/site-packages/numpy/linalg/linalg.py\u001b[0m in \u001b[0;36m_raise_linalgerror_singular\u001b[1;34m(err, flag)\u001b[0m\n\u001b[0;32m     88\u001b[0m \u001b[1;33m\u001b[0m\u001b[0m\n\u001b[0;32m     89\u001b[0m \u001b[1;32mdef\u001b[0m \u001b[0m_raise_linalgerror_singular\u001b[0m\u001b[1;33m(\u001b[0m\u001b[0merr\u001b[0m\u001b[1;33m,\u001b[0m \u001b[0mflag\u001b[0m\u001b[1;33m)\u001b[0m\u001b[1;33m:\u001b[0m\u001b[1;33m\u001b[0m\u001b[0m\n\u001b[1;32m---> 90\u001b[1;33m     \u001b[1;32mraise\u001b[0m \u001b[0mLinAlgError\u001b[0m\u001b[1;33m(\u001b[0m\u001b[1;34m\"Singular matrix\"\u001b[0m\u001b[1;33m)\u001b[0m\u001b[1;33m\u001b[0m\u001b[0m\n\u001b[0m\u001b[0;32m     91\u001b[0m \u001b[1;33m\u001b[0m\u001b[0m\n\u001b[0;32m     92\u001b[0m \u001b[1;32mdef\u001b[0m \u001b[0m_raise_linalgerror_nonposdef\u001b[0m\u001b[1;33m(\u001b[0m\u001b[0merr\u001b[0m\u001b[1;33m,\u001b[0m \u001b[0mflag\u001b[0m\u001b[1;33m)\u001b[0m\u001b[1;33m:\u001b[0m\u001b[1;33m\u001b[0m\u001b[0m\n",
      "\u001b[1;31mLinAlgError\u001b[0m: Singular matrix"
     ]
    }
   ],
   "source": [
    "B = np.ones((3,3))\n",
    "\n",
    "npla.inv(B) # raises an exception"
   ]
  },
  {
   "cell_type": "code",
   "execution_count": 26,
   "metadata": {},
   "outputs": [
    {
     "data": {
      "text/plain": [
       "array([[ 0.11111111,  0.11111111,  0.11111111],\n",
       "       [ 0.11111111,  0.11111111,  0.11111111],\n",
       "       [ 0.11111111,  0.11111111,  0.11111111]])"
      ]
     },
     "execution_count": 26,
     "metadata": {},
     "output_type": "execute_result"
    }
   ],
   "source": [
    "npla.pinv(B)"
   ]
  },
  {
   "cell_type": "markdown",
   "metadata": {},
   "source": [
    "<h1>Some numpy Methods</h1>\n",
    "<ul>\n",
    "    <li>numpy offers methods for calculations that, in other languages, would require you to write loops</li>\n",
    "    <li>E.g. <code>sum</code>, <code>mean</code>, <code>min</code>, <code>max</code>, <code>argmin</code>, <code>argmax</code>,\n",
    "        &hellip;\n",
    "    </li>\n",
    "</ul>"
   ]
  },
  {
   "cell_type": "code",
   "execution_count": 27,
   "metadata": {
    "collapsed": true
   },
   "outputs": [],
   "source": [
    "x = np.array([2, 4, 3])\n",
    "A = np.array([[2, 4, 0], [1, 3, 2]])"
   ]
  },
  {
   "cell_type": "code",
   "execution_count": 28,
   "metadata": {},
   "outputs": [
    {
     "data": {
      "text/plain": [
       "9"
      ]
     },
     "execution_count": 28,
     "metadata": {},
     "output_type": "execute_result"
    }
   ],
   "source": [
    "x.sum()"
   ]
  },
  {
   "cell_type": "code",
   "execution_count": 29,
   "metadata": {},
   "outputs": [
    {
     "data": {
      "text/plain": [
       "12"
      ]
     },
     "execution_count": 29,
     "metadata": {},
     "output_type": "execute_result"
    }
   ],
   "source": [
    "A.sum()"
   ]
  },
  {
   "cell_type": "markdown",
   "metadata": {},
   "source": [
    "<h1>Some numpy Universal Functions</h1>\n",
    "<ul>\n",
    "    <li>Consider a function such as <code>sqrt</code></li>\n",
    "    <li>In Python, <code>sqrt</code> (from the <code>math</code> library) takes in a number but can't take in a\n",
    "        list of numbers\n",
    "    </li>\n",
    "</li>"
   ]
  },
  {
   "cell_type": "code",
   "execution_count": 30,
   "metadata": {},
   "outputs": [
    {
     "data": {
      "text/plain": [
       "3.0"
      ]
     },
     "execution_count": 30,
     "metadata": {},
     "output_type": "execute_result"
    }
   ],
   "source": [
    "sqrt(9)"
   ]
  },
  {
   "cell_type": "code",
   "execution_count": 31,
   "metadata": {},
   "outputs": [
    {
     "ename": "TypeError",
     "evalue": "a float is required",
     "output_type": "error",
     "traceback": [
      "\u001b[1;31m---------------------------------------------------------------------------\u001b[0m",
      "\u001b[1;31mTypeError\u001b[0m                                 Traceback (most recent call last)",
      "\u001b[1;32m<ipython-input-31-c1506c2ed9f7>\u001b[0m in \u001b[0;36m<module>\u001b[1;34m()\u001b[0m\n\u001b[1;32m----> 1\u001b[1;33m \u001b[0msqrt\u001b[0m\u001b[1;33m(\u001b[0m\u001b[1;33m[\u001b[0m\u001b[1;36m1\u001b[0m\u001b[1;33m,\u001b[0m \u001b[1;36m4\u001b[0m\u001b[1;33m,\u001b[0m \u001b[1;36m9\u001b[0m\u001b[1;33m]\u001b[0m\u001b[1;33m)\u001b[0m\u001b[1;33m\u001b[0m\u001b[0m\n\u001b[0m",
      "\u001b[1;31mTypeError\u001b[0m: a float is required"
     ]
    }
   ],
   "source": [
    "sqrt([1, 4, 9])"
   ]
  },
  {
   "cell_type": "markdown",
   "metadata": {},
   "source": [
    "<ul>\n",
    "    <li>But, the corresponding numpy function can apply to arrays</li>\n",
    "</ul>"
   ]
  },
  {
   "cell_type": "code",
   "execution_count": 32,
   "metadata": {},
   "outputs": [
    {
     "data": {
      "text/plain": [
       "3.0"
      ]
     },
     "execution_count": 32,
     "metadata": {},
     "output_type": "execute_result"
    }
   ],
   "source": [
    "np.sqrt(9)"
   ]
  },
  {
   "cell_type": "code",
   "execution_count": 33,
   "metadata": {},
   "outputs": [
    {
     "data": {
      "text/plain": [
       "array([ 1.,  2.,  3.])"
      ]
     },
     "execution_count": 33,
     "metadata": {},
     "output_type": "execute_result"
    }
   ],
   "source": [
    "x = np.array([1, 4, 9])\n",
    "\n",
    "np.sqrt(x)"
   ]
  },
  {
   "cell_type": "code",
   "execution_count": 34,
   "metadata": {},
   "outputs": [
    {
     "data": {
      "text/plain": [
       "array([[ 1.,  2.,  3.],\n",
       "       [ 4.,  5.,  6.],\n",
       "       [ 7.,  8.,  9.]])"
      ]
     },
     "execution_count": 34,
     "metadata": {},
     "output_type": "execute_result"
    }
   ],
   "source": [
    "A = np.array([[1, 4, 9], [16, 25, 36], [49, 64, 81]])\n",
    "\n",
    "np.sqrt(A)"
   ]
  },
  {
   "cell_type": "markdown",
   "metadata": {},
   "source": [
    "<ul>\n",
    "    <li>The function is applied elementwise</li>\n",
    "    <li>In numpy, these are called 'universal functions' (or 'ufuncs')</li>\n",
    "    <li>Others include: <code>abs</code>, <code>exp</code>, <code>log10</code>, &hellip;</li>\n",
    "</ul>"
   ]
  },
  {
   "cell_type": "markdown",
   "metadata": {
    "slideshow": {
     "slide_type": "slide"
    }
   },
   "source": [
    "<h1>Vectorization</h1>\n",
    "<ul>\n",
    "    <li>Algorithms that might otherwise need for-loops and indexing can often be written much more succinctly by expressing them\n",
    "            in terms of operators, methods and functions that work on entire arrays\n",
    "    </li>\n",
    "    <li>More than this, if your programming language has efficient implementations of\n",
    "        these operators, methods and functions, the resulting programs can run much faster too\n",
    "        <ul>\n",
    "            <li>numpy's operators, methods and functions, for example, are typically one or more orders of magnitude faster \n",
    "                than their pure Python equivalents, written using loops and indexing\n",
    "            </li>\n",
    "        </ul>\n",
    "        So, avoid lops and indexing!\n",
    "    </li>\n",
    "    <li>Using fast array operators, methods and functions in this way is known as <b>vectorization</b>\n",
    "    </li>\n",
    "</ul>"
   ]
  },
  {
   "cell_type": "code",
   "execution_count": null,
   "metadata": {
    "collapsed": true
   },
   "outputs": [],
   "source": [
    "def sum(L):\n",
    "    total = 0.0\n",
    "    for x in L:\n",
    "        total += x\n",
    "    return total"
   ]
  },
  {
   "cell_type": "code",
   "execution_count": null,
   "metadata": {},
   "outputs": [],
   "source": [
    "x = list(range(1, 101))\n",
    "\n",
    "% timeit sum(x)"
   ]
  },
  {
   "cell_type": "code",
   "execution_count": null,
   "metadata": {},
   "outputs": [],
   "source": [
    "x = np.arange(1, 101)\n",
    "\n",
    "% timeit np.sum(x)"
   ]
  },
  {
   "cell_type": "markdown",
   "metadata": {},
   "source": [
    "<p>\n",
    "    (By default, <code>timeit</code> runs your code 100000 times and computes the average run time, then it does it again,\n",
    "    and then again, and tells you the best of these three average run times. It does this to try to make its measurements\n",
    "    robust when other things are happening on your machine at the same time.)\n",
    "</p>"
   ]
  },
  {
   "cell_type": "code",
   "execution_count": null,
   "metadata": {
    "collapsed": true
   },
   "outputs": [],
   "source": []
  }
 ],
 "metadata": {
  "celltoolbar": "Slideshow",
  "kernelspec": {
   "display_name": "Python 3",
   "language": "python",
   "name": "python3"
  },
  "language_info": {
   "codemirror_mode": {
    "name": "ipython",
    "version": 3
   },
   "file_extension": ".py",
   "mimetype": "text/x-python",
   "name": "python",
   "nbconvert_exporter": "python",
   "pygments_lexer": "ipython3",
   "version": "3.6.2"
  }
 },
 "nbformat": 4,
 "nbformat_minor": 1
}
