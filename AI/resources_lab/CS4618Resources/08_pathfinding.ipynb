{
 "cells": [
  {
   "cell_type": "markdown",
   "metadata": {
    "slideshow": {
     "slide_type": "slide"
    }
   },
   "source": [
    "<h1>CS4618: Artificial Intelligence I</h1>\n",
    "<h1>Path Finding</h1>\n",
    "<h2>\n",
    "    Derek Bridge<br>\n",
    "    School of Computer Science and Information Technology<br>\n",
    "    University College Cork\n",
    "</h2>"
   ]
  },
  {
   "cell_type": "markdown",
   "metadata": {
    "slideshow": {
     "slide_type": "skip"
    }
   },
   "source": [
    "<h1>Initialization</h1>\n",
    "$\\newcommand{\\Set}[1]{\\{#1\\}}$ \n",
    "$\\newcommand{\\Tuple}[1]{\\langle#1\\rangle}$ \n",
    "$\\newcommand{\\v}[1]{\\pmb{#1}}$ \n",
    "$\\newcommand{\\cv}[1]{\\begin{bmatrix}#1\\end{bmatrix}}$ \n",
    "$\\newcommand{\\rv}[1]{[#1]}$ \n",
    "$\\DeclareMathOperator{\\argmax}{arg\\,max}$ \n",
    "$\\DeclareMathOperator{\\argmin}{arg\\,min}$ \n",
    "$\\DeclareMathOperator{\\dist}{dist}$\n",
    "$\\DeclareMathOperator{\\abs}{abs}$"
   ]
  },
  {
   "cell_type": "code",
   "execution_count": 1,
   "metadata": {
    "collapsed": false,
    "slideshow": {
     "slide_type": "skip"
    }
   },
   "outputs": [],
   "source": [
    "%reload_ext autoreload\n",
    "%autoreload 2\n",
    "%matplotlib inline"
   ]
  },
  {
   "cell_type": "code",
   "execution_count": 2,
   "metadata": {
    "collapsed": false,
    "slideshow": {
     "slide_type": "skip"
    }
   },
   "outputs": [],
   "source": [
    "import pandas as pd\n",
    "import numpy as np\n",
    "import matplotlib.pyplot as plt"
   ]
  },
  {
   "cell_type": "markdown",
   "metadata": {
    "slideshow": {
     "slide_type": "slide"
    }
   },
   "source": [
    "<h1>Applications of route-planning and path-finding</h1>\n",
    "<ul>\n",
    "    <li>State space search has many application including cargo loading and automatic assembly, not just toy problems!</li>\n",
    "    <li>But the most obvious of its applications are in route-planning and path-finding</li>\n",
    "</ul>\n",
    "<div>\n",
    "    <figure style=\"display: inline-block; margin: 2%\">\n",
    "        <img src=\"images/08_directions.png\" />\n",
    "        <figcaption>\n",
    "            Directions\n",
    "        </figcaption>\n",
    "    </figure>\n",
    "    <figure style=\"display: inline-block; margin: 2%\">\n",
    "        <img src=\"images/08_fetching.jpg\" />\n",
    "        <figcaption>\n",
    "            Warehouse picking\n",
    "        </figcaption>\n",
    "    </figure>\n",
    "    <figure style=\"display: inline-block; margin: 2%\">\n",
    "        <img src=\"images/08_deliveries.jpg\" />\n",
    "         <figcaption>\n",
    "            Delivery routes\n",
    "        </figcaption>\n",
    "    </figure>\n",
    "    <figure style=\"display: inline-block; margin: 2%\">\n",
    "        <img src=\"images/08_rescue.jpg\" />\n",
    "         <figcaption>\n",
    "            Search and rescue\n",
    "        </figcaption>\n",
    "    </figure>\n",
    "    <figure style=\"display: inline-block; margin: 2%\">\n",
    "        <img src=\"images/08_chores.jpg\" />\n",
    "        <figcaption>\n",
    "            Vacuuming &amp; mowing\n",
    "        </figcaption>\n",
    "    </figure>\n",
    "    <figure style=\"display: inline-block; margin: 2%\">\n",
    "        <img src=\"images/08_pathfinding.jpg\" />\n",
    "        <figcaption>\n",
    "            Pathfinding for NPCs\n",
    "        </figcaption>\n",
    "    </figure>\n",
    "</div>"
   ]
  },
  {
   "cell_type": "markdown",
   "metadata": {
    "slideshow": {
     "slide_type": "slide"
    }
   },
   "source": [
    "<h1>Route planning for road maps</h1>\n",
    "<ul>\n",
    "    <li>Most obvious graph representation for road maps:\n",
    "        <ul>\n",
    "            <li>intersections/junctions become nodes of the graph</li>\n",
    "            <li>stretches of road between intersections become its edges</li>\n",
    "        </ul>\n",
    "        <div style=\"display: flex\">\n",
    "            <img src=\"images/08_roadmap.png\" /> <img src=\"images/08_roadmapgraph.png\" />\n",
    "        </div>\n",
    "    </li>\n",
    "    <li>In fact, in addition to intersections/junctions, include extra nodes:\n",
    "        <ul>\n",
    "            <li>e.g. entrances to, and exits from, car parks, colleges, etc</li>\n",
    "            <li>e.g. any special points along a stretch of road such as start and end-points of bridges &amp; \n",
    "                tunnels, toll plazas, changes of road type or speed limits,&hellip;\n",
    "            </li>\n",
    "        </ul>\n",
    "    </li>\n",
    "    <li>Node and edges can have extra data stored on them, e.g. distances, speed limits,\n",
    "        road type, presence of a footpath, etc. on edges\n",
    "    </li>\n",
    "    <li>But this representation still has problems with turning restrictions such as these:\n",
    "        <div style=\"display: flex\">\n",
    "            <img src=\"images/08_junction.png\" /> <img src=\"images/08_junctiongraph1.png\" />\n",
    "        </div>\n",
    "        E.g. the graph fails to show that East-bound traffic cannot turn left\n",
    "    </li>\n",
    "</ul>"
   ]
  },
  {
   "cell_type": "markdown",
   "metadata": {
    "slideshow": {
     "slide_type": "slide"
    }
   },
   "source": [
    "<h1>Route planning for road maps</h1>\n",
    "<ul>\n",
    "    <li>A more sophisticated representation introduces\n",
    "        <ul>\n",
    "            <li>separate edges for the lanes</li>\n",
    "            <li>additional nodes &amp; edges to represent 'turns'</li>\n",
    "        </ul>\n",
    "        E.g.<br />\n",
    "        <div style=\"display: flex\">\n",
    "            <img src=\"images/08_junctiongraph2.png\" /> <img src=\"images/08_junctiongraph3.png\" />\n",
    "        </div>\n",
    "    </li>\n",
    "    <li>Now it is easy to represent one-way roads (how?) and turning restrictions (how?)\n",
    "    </li>\n",
    "</ul>"
   ]
  },
  {
   "cell_type": "markdown",
   "metadata": {
    "slideshow": {
     "slide_type": "slide"
    }
   },
   "source": [
    "<h1>Route planning for road maps</h1>\n",
    "<ul>\n",
    "    <li>Edge costs\n",
    "        <ul>\n",
    "            <li>Costs are probably expressed in seconds</li>\n",
    "            <li>Calculated from, e.g.\n",
    "                <ul>\n",
    "                    <li>static data about the edge: distance, road type, etc.</li>\n",
    "                    <li>transport type (car, bike, foot)</li>\n",
    "                    <li>dynamic data about the edge: traffic conditions, etc.</li>\n",
    "                </ul>\n",
    "            </li>\n",
    "        </ul>\n",
    "    </li>\n",
    "    <li>Heuristics\n",
    "        <ul>\n",
    "            <li>Straight-line distance ('<i>as the crow flies</i>') never over-estimates</li>\n",
    "            <li>When distances are large enough, must take into account curvature of the Earth\n",
    "                <ul>\n",
    "                    <li>The <i>haversine formula</i> calculates the distance between two points, given their\n",
    "                        longitude and latitude\n",
    "                    </li>\n",
    "                </ul>\n",
    "            </li>\n",
    "            <li>But you must convert this to use same units as used for costs (seconds)</li>\n",
    "        </ul>\n",
    "    </li>\n",
    "</ul>"
   ]
  },
  {
   "cell_type": "markdown",
   "metadata": {
    "slideshow": {
     "slide_type": "slide"
    }
   },
   "source": [
    "<h1>Route planning for road maps</h1>\n",
    "<ul>\n",
    "    <li>In mobile apps, fast calculation of routes is important<br />\n",
    "        Also, fast <em>re-calculation</em>. Why?\n",
    "    </li>\n",
    "    <li>In fact, it might be more important than optimality:\n",
    "        <ul>\n",
    "            <li>Quickly find two or three good routes, rather than take longer to find the shortest route</li>\n",
    "        </ul>\n",
    "    </li>\n",
    "    <li>One good thing: branching factor is relatively low</li>\n",
    "    <li>For speed-up:\n",
    "        <ul>\n",
    "            <li>obviously: optimized code, good choice of data structures, fast hardware, preprocessing,&hellip;\n",
    "            </li>\n",
    "            <li>change the heuristic\n",
    "                <ul>\n",
    "                    <li>one that underestimates but underestimates less, provided it is still cheap-to-compute</li>\n",
    "                    <li>or, perhaps, an inadmissible heuristic, especially if it doesn't overestimate too much and\n",
    "                        is cheap-to-compute\n",
    "                    </li>\n",
    "                </ul>\n",
    "            </li>\n",
    "            <li>alternative algorithms, e.g. hierarchical route planning, ALT algorithms, bidirectional ALT algorithms</li>\n",
    "        </ul>\n",
    "    </li>\n",
    "</ul>"
   ]
  },
  {
   "cell_type": "markdown",
   "metadata": {
    "slideshow": {
     "slide_type": "slide"
    }
   },
   "source": [
    "<h1>NPCs in games</h1>\n",
    "<ul>\n",
    "    <li>In many games, <b>non-player characters</b> (NPCs) are quite dumb\n",
    "        <ul>\n",
    "            <li>They appear, as if from nowhere, e.g. when the player enters a room</li>\n",
    "            <li>Their actions are scripted</li>\n",
    "        </ul>\n",
    "    </li>\n",
    "    <li>But, we are entering a new era of games where the NPCs will compete/cooperate with players and other NPCs in\n",
    "        much more interesting ways\n",
    "    </li>\n",
    "    <li>One skill will be to navigate around the game world, which involves pathfinding and movement</li>\n",
    "</ul>"
   ]
  },
  {
   "cell_type": "markdown",
   "metadata": {
    "slideshow": {
     "slide_type": "slide"
    }
   },
   "source": [
    "<h1>Path finding for NPCs in games</h1>\n",
    "<ul>\n",
    "    <li>Consider a <b>grid-based game</b>:\n",
    "        <ul>\n",
    "            <li>the map comprises a <b>grid</b> of <b>tiles</b> (we'll assume 2D only and ignore wormholes, portals, etc.)</li>\n",
    "            <li>character movement is constrained to the grid, <b>axial</b> (horizontal &amp; vertical) and sometimes\n",
    "                also <b>diagonal</b>\n",
    "            </li>\n",
    "        </ul>\n",
    "    </li>\n",
    "    <li>Most obvious graph representation for the grid:\n",
    "        <ul>\n",
    "            <li>obstacle-free tiles become nodes of the graph</li>\n",
    "            <li>edges connect to up to 8 neighbours</li>\n",
    "        </ul>\n",
    "     <li>E.g.\n",
    "         <div style=\"display: flex\">\n",
    "            <img src=\"images/08_grid.png\" /> <img src=\"images/08_gridgraph.png\" />\n",
    "        </div> \n",
    "     </li>\n",
    "     <li>Nodes can have extra data stored on them, e.g. type of terrain (grass, tarmac, marsh, &hellip;)</li>\n",
    "</ul>"
   ]
  },
  {
   "cell_type": "markdown",
   "metadata": {
    "slideshow": {
     "slide_type": "slide"
    }
   },
   "source": [
    "<h1>Edge costs for grids</h1>\n",
    "<ul>\n",
    "    <li>Simplest: all edges have a constant cost, e.g. 1 (although it might be different for different NPCs)</li>\n",
    "    <li>More sophisticated: axial edges cost, e.g., 1; diagonal edges cost a bit more, e.g., 1.4</li>\n",
    "    <li>Even more sophisticated is to add higher costs to certain edges, which will discourage paths that use these edges, e.g.:\n",
    "        <ul>\n",
    "            <li>If tiles have different altitudes, you can have higher edge costs for moving from lower altitude tiles\n",
    "                to higher altitude tiles\n",
    "            </li>\n",
    "            <li>If tiles have different terrain types, you can have higher edge costs for moving from, e.g., \n",
    "                marsh to marsh tiles than grass to grass tiles\n",
    "            </li>\n",
    "            <li>If tiles can contain dangers (e.g. enemies), you can have higher edge costs near these tiles (and\n",
    "                even modify these costs dynamically if the enemies move) (so-called 'infuence maps')\n",
    "            </li>\n",
    "            <li>&hellip;</li>\n",
    "        </ul>\n",
    "    </li>\n",
    "</ul>"
   ]
  },
  {
   "cell_type": "markdown",
   "metadata": {
    "slideshow": {
     "slide_type": "slide"
    }
   },
   "source": [
    "<h1>Heuristics for grids</h1>\n",
    "<ul>\n",
    "    <li>Assume a 2D grid where current tile is $\\Tuple{x, y}$ and the goal tile is $\\Tuple{x', y'}$\n",
    "        <ul>\n",
    "            <li>Euclidean distance (Pythagoras!): straight-line distance\n",
    "                $$h(\\Tuple{x, y}) = \\sqrt{(x - x')^2 + (y - y')^2}$$\n",
    "            </li>\n",
    "            <li>Manhattan distance: counting axial movements\n",
    "                $$h(\\Tuple{x, y}) = |x - x'| + |y - y'|$$\n",
    "            </li>\n",
    "            <li>Chebyshev distance: allows for diagonal movements too\n",
    "                $$h(\\Tuple{x, y}) = \\max(|x - x'|, |y - y'|)$$\n",
    "            </li>\n",
    "            <li>&hellip;</li>\n",
    "        </ul>\n",
    "    </li>\n",
    "    <li>Whether these are admissible (even in obstacle-free grids) is quite complicated\n",
    "        <ul>\n",
    "            <li>depends on whether only axial movement is allowed, or axial and diagonal</li>\n",
    "            <li>if both are allowed, depends on whether they have the same or different costs</li>\n",
    "        </ul>\n",
    "    </li>\n",
    "    <li>But, in any case, you might not care too much about optimality\n",
    "        <ul>\n",
    "            <li>Quickly calculating (and re-calculating)a good route might be better than taking \n",
    "                longer to find an optimal route\n",
    "             </li>\n",
    "            <li>Why else might you not want to always find optimal paths for NPCs?</li>\n",
    "            <li>You might even exit the search algorithm early (with only a partial path found)\n",
    "                and start executing it. Why?\n",
    "            </li>\n",
    "        </ul>\n",
    "    </li>\n",
    "</ul>"
   ]
  },
  {
   "cell_type": "markdown",
   "metadata": {
    "slideshow": {
     "slide_type": "slide"
    }
   },
   "source": [
    "<h1>Speeding up the search</h1>\n",
    "<ul>\n",
    "    <li>Obviously: optimized code, good choice of data structures, fast hardware, preprocessing,&hellip;\n",
    "    </li>\n",
    "    <li>Change the heuristic\n",
    "        <ul>\n",
    "            <li>one that underestimates but underestimates less, provided it is still cheap-to-compute</li>\n",
    "            <li>or, perhaps, an inadmissible heuristic, especially if it doesn't overestimate too much and is cheap-to-compute\n",
    "            </li>\n",
    "        </ul>\n",
    "    </li>\n",
    "    <li>Prune or carefully order the successors\n",
    "        <ul>\n",
    "            <li>E.g. in grids, there can be lots of re-exploration unless we include code to avoid it</li>\n",
    "            <li>E.g. in grids, we can devise algorithms that make use of symmetries to reduce work</li>\n",
    "            <li>E.g. assume axial and diagonal costs are the same (to simplify the example)<br />\n",
    "                And assume the previous state was tile A, and the current state is tile B<br />\n",
    "                <img src=\"images/08_pruning.png\" /> \n",
    "                In this situation, B's successors do not need to include C and D. Why not?<br />\n",
    "                A new algorithm, Jump Point Search, uses this idea recursively <em>during</em> $A^*$ search to achieve\n",
    "                massive speed-ups (especially when there are large obstacle-free areas)\n",
    "            </li>\n",
    "            <li>E.g. in grids, there will be lots of ties: when inserting on the agenda an item with same $f$ value as\n",
    "                an existing item on the agenda, make sure the new one comes earlier in the queue than the existing one\n",
    "                (Advanced question: Why?)\n",
    "            </li>\n",
    "        </ul>\n",
    "    </li>\n",
    "    <li>Change the way you represent the grid as a graph (next slide)\n",
    "    </li>\n",
    "</ul>"
   ]
  },
  {
   "cell_type": "markdown",
   "metadata": {
    "slideshow": {
     "slide_type": "slide"
    }
   },
   "source": [
    "<h1>Different graphs for grids</h1>\n",
    "<ul>\n",
    "    <li>Our representation has a  lot of nodes and edges</li>\n",
    "    <li>Consider instead a graph based only on <b>waypoints</b>\n",
    "        <ul>\n",
    "            <li>It's possible to define waypoints algorithmically, \n",
    "                e.g. based on points that are visible from one another<br />\n",
    "                <div style=\"display: flex\" />\n",
    "                    <img src=\"images/08_waypoints.png\" /> <img src=\"images/08_waypointsgraph.png\" />\n",
    "                </div>\n",
    "                \n",
    "            </li>\n",
    "            <li>But you might define them manually instead</li>\n",
    "        </ul>\n",
    "    </li>\n",
    "    <li>('Navigation meshes' are another possibility: nodes are polygons, each comprising several tiles)</li>\n",
    "    <li>These graphs can be much smaller, but there is a problem:\n",
    "        <ul>\n",
    "            <li>at movement time, the path will need to be converted back into grid-based movement\n",
    "            </li>\n",
    "        </ul>\n",
    "    </li>\n",
    "</ul>"
   ]
  },
  {
   "cell_type": "markdown",
   "metadata": {
    "slideshow": {
     "slide_type": "slide"
    }
   },
   "source": [
    "<h1>Continuous maps </h1>\n",
    "<ul>\n",
    "    <li>In a <b>continuous map</b>, agents can move freely (as long as they avoid the obstacles)\n",
    "        <ul>\n",
    "            <li>not constrained to moving along roads</li>\n",
    "            <li>not constrained to moving between tiles</li>\n",
    "        </ul>\n",
    "        E.g.\n",
    "        <div style=\"display: flex\">\n",
    "            <img src=\"images/08_continuous1.png\" />\n",
    "            <img src=\"images/08_continuous2.jpg\" />\n",
    "            <img src=\"images/08_continuous3.jpg\" />\n",
    "        </div>\n",
    "    </li>\n",
    "    <li>How do we represent a continuous map as a graph?</li>\n",
    "    <li>Answer: discretize it:\n",
    "        <ul>\n",
    "            <li>Place a (fine-grained?) grid on it</li>\n",
    "            <li>Place (lots of?) waypoints on it (or a 'navigation mesh')</li>\n",
    "        </ul>\n",
    "    </li>\n",
    "    <li>At movement time, the path (which will comprise linear moves) may need to be <em>smoothed</em> to make it more natural\n",
    "    </li>\n",
    "</ul>"
   ]
  },
  {
   "cell_type": "markdown",
   "metadata": {
    "collapsed": true,
    "slideshow": {
     "slide_type": "slide"
    }
   },
   "source": [
    "<h1>Concluding remarks</h1>\n",
    "<ul>\n",
    "    <li>This lecture illustrates something about AI in general\n",
    "        <ul>\n",
    "            <li>Successful uses of AI don't just depend on clever algorithms</li>\n",
    "            <li>They still depend to a large extent on the human designer finding ways to incorporate <b>domain knowledge</b>\n",
    "                into the solution\n",
    "                <table>\n",
    "                    <tr>\n",
    "                        <td style=\"border-right-width: 0\"><img style=\"width: 200px\" src=\"images/01_togelius.jpg\" /></td>\n",
    "                        <td style=\"border-left-width: 0\">\n",
    "                            <a href=\"http://togelius.blogspot.ie/2017/07/some-advice-for-journalists-writing.html\">\n",
    "                            Some advice for journalists writing about AI\n",
    "                            </a><br />\n",
    "                            \"Much of 'artificial intelligence' is actually human ingenuity&hellip;[W]hen building a \n",
    "                            system to solve a problem, lots of knowledge about the actual problem ('domain knowledge') \n",
    "                            is included in the system. This might take the role of providing special inputs to the system, \n",
    "                            using specially prepared training data, hand-coding parts of the system or even reformulating \n",
    "                            the problem so as to make it easier.\"\n",
    "                        </td>\n",
    "                    </tr>\n",
    "                </table>\n",
    "            </li>\n",
    "        </ul>\n",
    "    </li>\n",
    "</ul>"
   ]
  },
  {
   "cell_type": "code",
   "execution_count": null,
   "metadata": {
    "collapsed": true
   },
   "outputs": [],
   "source": []
  }
 ],
 "metadata": {
  "celltoolbar": "Slideshow",
  "kernelspec": {
   "display_name": "Python 3",
   "language": "python",
   "name": "python3"
  },
  "language_info": {
   "codemirror_mode": {
    "name": "ipython",
    "version": 3
   },
   "file_extension": ".py",
   "mimetype": "text/x-python",
   "name": "python",
   "nbconvert_exporter": "python",
   "pygments_lexer": "ipython3",
   "version": "3.5.1"
  }
 },
 "nbformat": 4,
 "nbformat_minor": 0
}
