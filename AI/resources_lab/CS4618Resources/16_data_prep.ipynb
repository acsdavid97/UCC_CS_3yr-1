{
 "cells": [
  {
   "cell_type": "markdown",
   "metadata": {
    "slideshow": {
     "slide_type": "slide"
    }
   },
   "source": [
    "<h1>CS4618: Artificial Intelligence I</h1>\n",
    "<h1>Data Preparation</h1>\n",
    "<h2>\n",
    "    Derek Bridge<br>\n",
    "    School of Computer Science and Information Technology<br>\n",
    "    University College Cork\n",
    "</h2>"
   ]
  },
  {
   "cell_type": "markdown",
   "metadata": {
    "slideshow": {
     "slide_type": "skip"
    }
   },
   "source": [
    "<h1>Initialization</h1>\n",
    "$\\newcommand{\\Set}[1]{\\{#1\\}}$ \n",
    "$\\newcommand{\\Tuple}[1]{\\langle#1\\rangle}$ \n",
    "$\\newcommand{\\v}[1]{\\pmb{#1}}$ \n",
    "$\\newcommand{\\cv}[1]{\\begin{bmatrix}#1\\end{bmatrix}}$ \n",
    "$\\newcommand{\\rv}[1]{[#1]}$ \n",
    "$\\DeclareMathOperator{\\argmax}{arg\\,max}$ \n",
    "$\\DeclareMathOperator{\\argmin}{arg\\,min}$ \n",
    "$\\DeclareMathOperator{\\dist}{dist}$\n",
    "$\\DeclareMathOperator{\\abs}{abs}$"
   ]
  },
  {
   "cell_type": "code",
   "execution_count": 1,
   "metadata": {
    "collapsed": false,
    "slideshow": {
     "slide_type": "skip"
    }
   },
   "outputs": [],
   "source": [
    "%load_ext autoreload\n",
    "%autoreload 2\n",
    "%matplotlib inline"
   ]
  },
  {
   "cell_type": "code",
   "execution_count": 2,
   "metadata": {
    "collapsed": false,
    "slideshow": {
     "slide_type": "skip"
    }
   },
   "outputs": [],
   "source": [
    "import pandas as pd\n",
    "import numpy as np\n",
    "import matplotlib.pyplot as plt"
   ]
  },
  {
   "cell_type": "code",
   "execution_count": 3,
   "metadata": {
    "collapsed": false
   },
   "outputs": [],
   "source": [
    "from pandas.tools.plotting import scatter_matrix\n",
    "\n",
    "from sklearn.pipeline import Pipeline\n",
    "from sklearn.pipeline import FeatureUnion\n",
    "from sklearn.base import BaseEstimator, TransformerMixin\n",
    "\n",
    "from sklearn.preprocessing import LabelEncoder\n",
    "from sklearn.preprocessing import OneHotEncoder\n",
    "from sklearn.preprocessing import Imputer\n",
    "from sklearn.preprocessing import StandardScaler\n",
    "\n",
    "# Class, for use in pipelines, to select certain columns from a DataFrame and convert to a numpy array\n",
    "# From A. Geron: Hands-On Machine Learning with Scikit-Learn & TensorFlow, O'Reilly, 2017\n",
    "# Modified by Derek Bridge to allow for casting in the same ways as pandas.DatFrame.astype\n",
    "class DataFrameSelector(BaseEstimator, TransformerMixin):\n",
    "    def __init__(self, attribute_names, dtype=None):\n",
    "        self.attribute_names = attribute_names\n",
    "        self.dtype = dtype\n",
    "    def fit(self, X, y=None):\n",
    "        return self\n",
    "    def transform(self, X):\n",
    "        X_selected = X[self.attribute_names]\n",
    "        if self.dtype:\n",
    "            return X_selected.astype(self.dtype).values\n",
    "        return X_selected.values\n",
    "\n",
    "# Class, for use in pipelines, to binarize nominal-valued features (while avoiding the dummy variabe trap)\n",
    "# By Derek Bridge, 2017\n",
    "class FeatureBinarizer(BaseEstimator, TransformerMixin):\n",
    "    def __init__(self, features_values):\n",
    "        self.features_values = features_values\n",
    "        self.num_features = len(features_values)\n",
    "        self.labelencodings = [LabelEncoder().fit(feature_values) for feature_values in features_values]\n",
    "        self.onehotencoder = OneHotEncoder(sparse=False,\n",
    "            n_values=[len(feature_values) for feature_values in features_values])\n",
    "        self.last_indexes = np.cumsum([len(feature_values) - 1 for feature_values in self.features_values])\n",
    "    def fit(self, X, y=None):\n",
    "        for i in range(0, self.num_features):\n",
    "            X[:, i] = self.labelencodings[i].transform(X[:, i])\n",
    "        return self.onehotencoder.fit(X)\n",
    "    def transform(self, X, y=None):\n",
    "        for i in range(0, self.num_features):\n",
    "            X[:, i] = self.labelencodings[i].transform(X[:, i])\n",
    "        onehotencoded = self.onehotencoder.transform(X)\n",
    "        return np.delete(onehotencoded, self.last_indexes, axis=1)\n",
    "    def fit_transform(self, X, y=None):\n",
    "        onehotencoded = self.fit(X).transform(X)\n",
    "        return np.delete(onehotencoded, self.last_indexes, axis=1)\n",
    "    def get_params(self, deep=True):\n",
    "        return {\"features_values\" : self.features_values}\n",
    "    def set_params(self, **parameters):\n",
    "        for parameter, value in parameters.items():\n",
    "            self.setattr(parameter, value)\n",
    "        return self\n",
    "\n",
    "# Class, for use in pipelines, to impute missing values but which overcomes a problem that scikit-learn's class has\n",
    "# when imputing modes on nominal-valued features\n",
    "# From https://stackoverflow.com/questions/25239958/impute-categorical-missing-values-in-scikit-learn\n",
    "# Original has a casting problem\n",
    "# Fixed by Derek Bridge 2017\n",
    "class MissingValueImputer(Imputer):\n",
    "    def __init__(self, **kwargs):\n",
    "        Imputer.__init__(self, **kwargs)\n",
    "    def fit(self, X, y=None):\n",
    "        if self.strategy == \"most_frequent\":\n",
    "            self.fills = pd.DataFrame(X).mode(axis=0).squeeze() \n",
    "            return self\n",
    "        else:\n",
    "            return Imputer.fit(self, X, y=y)\n",
    "    def transform(self, X):\n",
    "        if hasattr(self, \"fills\"):\n",
    "            return pd.DataFrame(X).fillna(self.fills).values\n",
    "        else:\n",
    "            return Imputer.transform(self, X)"
   ]
  },
  {
   "cell_type": "markdown",
   "metadata": {},
   "source": [
    "<h1>Introductory Remarks</h1>\n",
    "<ul>\n",
    "    <li>Starting in the next lecture, we'll see how to train regressors and classifiers from a labeled dataset</li>\n",
    "    <li>Before that, we need to say something about:\n",
    "        <ul>\n",
    "            <li>Dataset acquisition</li>\n",
    "            <li>Dataset exploration</li>\n",
    "            <li>Dataset preparation</li>\n",
    "        </ul>\n",
    "     </li>\n",
    "     <li>Much of what we cover applies to unlabeled datasets too</li>\n",
    " </ul>"
   ]
  },
  {
   "cell_type": "markdown",
   "metadata": {
    "collapsed": true,
    "slideshow": {
     "slide_type": "slide"
    }
   },
   "source": [
    "<h1>Dataset Acquisition</h1>\n",
    "<ul>\n",
    "    <li>Where will it come from? Existing databases and files? By scanning paper documents? By scraping web sites?\n",
    "        &hellip;\n",
    "    </li>\n",
    "    <li>What quantities are available? How much do you need?</li>\n",
    "    <li>What format is it in? What will you need to do to convert it?</li>\n",
    "    <li>Are there legal or ethical issues: copyright, authorization, privacy? E.g. will you need to\n",
    "        anonymize?\n",
    "    </li>\n",
    "    <li>If you need a labeled dataset, are the labels available? Are they reliable? How will you\n",
    "        obtain them if not? (Get an expert? Get several experts? Use crowdsourcing?)\n",
    "    </li>\n",
    "    <li>If this were a data science module, there would be lots more to say on this!</li>\n",
    "</ul>"
   ]
  },
  {
   "cell_type": "markdown",
   "metadata": {},
   "source": [
    "<h1>Dataset Exploration</h1>\n",
    "<ul>\n",
    "    <li>Time spent just exploring the data is always worthwhile &mdash; especially if you have \n",
    "        access to a domain expert while you are doing so\n",
    "    </li>\n",
    "    <li>We've seen some parts of the pandas API that helps with this\n",
    "        <ul>\n",
    "            <li>To see features, their types, means/modes, how many distinct values, whether values are\n",
    "                missing\n",
    "            </li>\n",
    "        </ul>\n",
    "    </li>\n",
    "    <li><b>Visualization</b> is a great help at this stage\n",
    "        <ul>\n",
    "            <li>Given a labeled dataset, we often want to see how target values or class labels are distributed \n",
    "                with respect to values of one or more of the features\n",
    "            </li>\n",
    "            <li>Given a labeled or unlabeled dataset, we might want to see how values of one feature are correlated with \n",
    "                values of one or more other features\n",
    "            </li>\n",
    "        </ul>\n",
    "        A limitation is that visualizations are confined to two (or maybe three) dimensions\n",
    "    </li>\n",
    "    <li>We'll look at graphs and charts using matplotlib:\n",
    "        <ul>\n",
    "            <li>Scatter plots</li>\n",
    "            <li>Histograms</li>\n",
    "            <li>Box plots</li>\n",
    "        </ul>\n",
    "    </li>\n",
    "    <li>To exemplify, we'll use two datasets:\n",
    "        <ul>\n",
    "            <li>A different version of the Cork Property Prices Dataset:\n",
    "                <ul>\n",
    "                    <li><code>dataset_corkB.csv</code> is the data that I actually scraped</li>\n",
    "                    <li><code>dataset_corkA.csv</code> is a cleaned-up version that, for simplicity, we've been using \n",
    "                        up to now\n",
    "                    </li>\n",
    "                </ul>\n",
    "            </li>\n",
    "            <li>And a dataset we haven't seen before:\n",
    "                <ul>\n",
    "                    <li>I collected a dataset of student performances in a programming module (<i>CS1109</i>)</li>\n",
    "                    <li>Three features: lecture attendance (%), lab attendance (%) and CAO points</li>\n",
    "                    <li>Two classes: $0 = \\mathit{pass}, 1 = \\mathit{fail}$\n",
    "                </ul>\n",
    "            </li>\n",
    "        </ul>\n",
    "    </li>\n",
    "</ul>"
   ]
  },
  {
   "cell_type": "markdown",
   "metadata": {
    "slideshow": {
     "slide_type": "slide"
    }
   },
   "source": [
    "<h1>Exploring the Cork Property Prices Dataset</h1>"
   ]
  },
  {
   "cell_type": "code",
   "execution_count": 4,
   "metadata": {
    "collapsed": false
   },
   "outputs": [],
   "source": [
    "# Use pandas to read the CSV file into a DataFrame\n",
    "cork_df = pd.read_csv(\"datasets/dataset_corkB.csv\")"
   ]
  },
  {
   "cell_type": "code",
   "execution_count": 5,
   "metadata": {
    "collapsed": false
   },
   "outputs": [
    {
     "data": {
      "text/plain": [
       "(236, 9)"
      ]
     },
     "execution_count": 5,
     "metadata": {},
     "output_type": "execute_result"
    }
   ],
   "source": [
    "# The dimensions\n",
    "cork_df.shape"
   ]
  },
  {
   "cell_type": "code",
   "execution_count": 6,
   "metadata": {
    "collapsed": false
   },
   "outputs": [
    {
     "data": {
      "text/plain": [
       "Index(['flarea', 'type', 'bdrms', 'bthrms', 'floors', 'devment', 'ber',\n",
       "       'location', 'price'],\n",
       "      dtype='object')"
      ]
     },
     "execution_count": 6,
     "metadata": {},
     "output_type": "execute_result"
    }
   ],
   "source": [
    "# The features\n",
    "cork_df.columns"
   ]
  },
  {
   "cell_type": "code",
   "execution_count": 7,
   "metadata": {
    "collapsed": false
   },
   "outputs": [
    {
     "data": {
      "text/plain": [
       "flarea      float64\n",
       "type         object\n",
       "bdrms       float64\n",
       "bthrms        int64\n",
       "floors      float64\n",
       "devment      object\n",
       "ber          object\n",
       "location     object\n",
       "price       float64\n",
       "dtype: object"
      ]
     },
     "execution_count": 7,
     "metadata": {},
     "output_type": "execute_result"
    }
   ],
   "source": [
    "# The datatypes\n",
    "cork_df.dtypes"
   ]
  },
  {
   "cell_type": "code",
   "execution_count": 8,
   "metadata": {
    "collapsed": false
   },
   "outputs": [
    {
     "data": {
      "text/html": [
       "<div>\n",
       "<table border=\"1\" class=\"dataframe\">\n",
       "  <thead>\n",
       "    <tr style=\"text-align: right;\">\n",
       "      <th></th>\n",
       "      <th>flarea</th>\n",
       "      <th>type</th>\n",
       "      <th>bdrms</th>\n",
       "      <th>bthrms</th>\n",
       "      <th>floors</th>\n",
       "      <th>devment</th>\n",
       "      <th>ber</th>\n",
       "      <th>location</th>\n",
       "      <th>price</th>\n",
       "    </tr>\n",
       "  </thead>\n",
       "  <tbody>\n",
       "    <tr>\n",
       "      <th>count</th>\n",
       "      <td>233.000000</td>\n",
       "      <td>236</td>\n",
       "      <td>234.000000</td>\n",
       "      <td>236.000000</td>\n",
       "      <td>233.000000</td>\n",
       "      <td>229</td>\n",
       "      <td>236</td>\n",
       "      <td>236</td>\n",
       "      <td>224.000000</td>\n",
       "    </tr>\n",
       "    <tr>\n",
       "      <th>unique</th>\n",
       "      <td>NaN</td>\n",
       "      <td>4</td>\n",
       "      <td>NaN</td>\n",
       "      <td>NaN</td>\n",
       "      <td>NaN</td>\n",
       "      <td>2</td>\n",
       "      <td>12</td>\n",
       "      <td>38</td>\n",
       "      <td>NaN</td>\n",
       "    </tr>\n",
       "    <tr>\n",
       "      <th>top</th>\n",
       "      <td>NaN</td>\n",
       "      <td>Detached</td>\n",
       "      <td>NaN</td>\n",
       "      <td>NaN</td>\n",
       "      <td>NaN</td>\n",
       "      <td>SecondHand</td>\n",
       "      <td>C3</td>\n",
       "      <td>CityCentre</td>\n",
       "      <td>NaN</td>\n",
       "    </tr>\n",
       "    <tr>\n",
       "      <th>freq</th>\n",
       "      <td>NaN</td>\n",
       "      <td>77</td>\n",
       "      <td>NaN</td>\n",
       "      <td>NaN</td>\n",
       "      <td>NaN</td>\n",
       "      <td>226</td>\n",
       "      <td>28</td>\n",
       "      <td>45</td>\n",
       "      <td>NaN</td>\n",
       "    </tr>\n",
       "    <tr>\n",
       "      <th>mean</th>\n",
       "      <td>145.458247</td>\n",
       "      <td>NaN</td>\n",
       "      <td>3.487179</td>\n",
       "      <td>2.161017</td>\n",
       "      <td>1.841202</td>\n",
       "      <td>NaN</td>\n",
       "      <td>NaN</td>\n",
       "      <td>NaN</td>\n",
       "      <td>307.714286</td>\n",
       "    </tr>\n",
       "    <tr>\n",
       "      <th>std</th>\n",
       "      <td>134.103000</td>\n",
       "      <td>NaN</td>\n",
       "      <td>1.226428</td>\n",
       "      <td>1.188386</td>\n",
       "      <td>0.366275</td>\n",
       "      <td>NaN</td>\n",
       "      <td>NaN</td>\n",
       "      <td>NaN</td>\n",
       "      <td>374.332421</td>\n",
       "    </tr>\n",
       "    <tr>\n",
       "      <th>min</th>\n",
       "      <td>0.371600</td>\n",
       "      <td>NaN</td>\n",
       "      <td>1.000000</td>\n",
       "      <td>1.000000</td>\n",
       "      <td>1.000000</td>\n",
       "      <td>NaN</td>\n",
       "      <td>NaN</td>\n",
       "      <td>NaN</td>\n",
       "      <td>55.000000</td>\n",
       "    </tr>\n",
       "    <tr>\n",
       "      <th>25%</th>\n",
       "      <td>81.800000</td>\n",
       "      <td>NaN</td>\n",
       "      <td>3.000000</td>\n",
       "      <td>1.000000</td>\n",
       "      <td>2.000000</td>\n",
       "      <td>NaN</td>\n",
       "      <td>NaN</td>\n",
       "      <td>NaN</td>\n",
       "      <td>168.000000</td>\n",
       "    </tr>\n",
       "    <tr>\n",
       "      <th>50%</th>\n",
       "      <td>109.000000</td>\n",
       "      <td>NaN</td>\n",
       "      <td>3.000000</td>\n",
       "      <td>2.000000</td>\n",
       "      <td>2.000000</td>\n",
       "      <td>NaN</td>\n",
       "      <td>NaN</td>\n",
       "      <td>NaN</td>\n",
       "      <td>225.000000</td>\n",
       "    </tr>\n",
       "    <tr>\n",
       "      <th>75%</th>\n",
       "      <td>167.200000</td>\n",
       "      <td>NaN</td>\n",
       "      <td>4.000000</td>\n",
       "      <td>3.000000</td>\n",
       "      <td>2.000000</td>\n",
       "      <td>NaN</td>\n",
       "      <td>NaN</td>\n",
       "      <td>NaN</td>\n",
       "      <td>345.000000</td>\n",
       "    </tr>\n",
       "    <tr>\n",
       "      <th>max</th>\n",
       "      <td>1301.000000</td>\n",
       "      <td>NaN</td>\n",
       "      <td>10.000000</td>\n",
       "      <td>10.000000</td>\n",
       "      <td>2.000000</td>\n",
       "      <td>NaN</td>\n",
       "      <td>NaN</td>\n",
       "      <td>NaN</td>\n",
       "      <td>3800.000000</td>\n",
       "    </tr>\n",
       "  </tbody>\n",
       "</table>\n",
       "</div>"
      ],
      "text/plain": [
       "             flarea      type       bdrms      bthrms      floors     devment  \\\n",
       "count    233.000000       236  234.000000  236.000000  233.000000         229   \n",
       "unique          NaN         4         NaN         NaN         NaN           2   \n",
       "top             NaN  Detached         NaN         NaN         NaN  SecondHand   \n",
       "freq            NaN        77         NaN         NaN         NaN         226   \n",
       "mean     145.458247       NaN    3.487179    2.161017    1.841202         NaN   \n",
       "std      134.103000       NaN    1.226428    1.188386    0.366275         NaN   \n",
       "min        0.371600       NaN    1.000000    1.000000    1.000000         NaN   \n",
       "25%       81.800000       NaN    3.000000    1.000000    2.000000         NaN   \n",
       "50%      109.000000       NaN    3.000000    2.000000    2.000000         NaN   \n",
       "75%      167.200000       NaN    4.000000    3.000000    2.000000         NaN   \n",
       "max     1301.000000       NaN   10.000000   10.000000    2.000000         NaN   \n",
       "\n",
       "        ber    location        price  \n",
       "count   236         236   224.000000  \n",
       "unique   12          38          NaN  \n",
       "top      C3  CityCentre          NaN  \n",
       "freq     28          45          NaN  \n",
       "mean    NaN         NaN   307.714286  \n",
       "std     NaN         NaN   374.332421  \n",
       "min     NaN         NaN    55.000000  \n",
       "25%     NaN         NaN   168.000000  \n",
       "50%     NaN         NaN   225.000000  \n",
       "75%     NaN         NaN   345.000000  \n",
       "max     NaN         NaN  3800.000000  "
      ]
     },
     "execution_count": 8,
     "metadata": {},
     "output_type": "execute_result"
    }
   ],
   "source": [
    "# Summary statistics\n",
    "cork_df.describe(include=\"all\")"
   ]
  },
  {
   "cell_type": "markdown",
   "metadata": {},
   "source": [
    "<ul>\n",
    "    <li>What problems do you see?</li>\n",
    "</ul>"
   ]
  },
  {
   "cell_type": "markdown",
   "metadata": {},
   "source": [
    "<ul>\n",
    "    <li>For regression, we can have a <b>scatter plot</b> with target $y$ on the vertical axis and \n",
    "        a feature on the horizontal axis\n",
    "    </li>\n",
    "</ul>"
   ]
  },
  {
   "cell_type": "code",
   "execution_count": 9,
   "metadata": {
    "collapsed": false
   },
   "outputs": [
    {
     "data": {
      "image/png": "[encoded data removed]",
      "text/plain": [
       "<matplotlib.figure.Figure at 0x7f8fd86752b0>"
      ]
     },
     "metadata": {},
     "output_type": "display_data"
    }
   ],
   "source": [
    "flareas = cork_df[\"flarea\"]\n",
    "prices = cork_df[\"price\"]\n",
    "\n",
    "fig = plt.figure(figsize=(10,8))\n",
    "plt.title(\"Price against floor area\")\n",
    "plt.scatter(flareas, prices, color = \"green\")\n",
    "plt.xlabel(\"Floor area (sq metres)\")\n",
    "plt.xlim(0, 1500)\n",
    "plt.ylabel(\"Price (000 euros)\")\n",
    "plt.ylim(0, 4000)\n",
    "plt.show()"
   ]
  },
  {
   "cell_type": "markdown",
   "metadata": {},
   "source": [
    "<ul>\n",
    "    <li>Any comments?</li>\n",
    "</ul>"
   ]
  },
  {
   "cell_type": "markdown",
   "metadata": {},
   "source": [
    "<ul>\n",
    "    <li>And for any dataset (even an unlabeled one), we can plot one feature against another</li>\n",
    "</ul>"
   ]
  },
  {
   "cell_type": "code",
   "execution_count": 10,
   "metadata": {
    "collapsed": false
   },
   "outputs": [
    {
     "data": {
      "image/png": "[encoded data removed]",
      "text/plain": [
       "<matplotlib.figure.Figure at 0x7f8fd5dcd9b0>"
      ]
     },
     "metadata": {},
     "output_type": "display_data"
    }
   ],
   "source": [
    "flareas = cork_df[\"flarea\"]\n",
    "bdrms = cork_df[\"bdrms\"]\n",
    "\n",
    "fig = plt.figure(figsize=(10,8))\n",
    "plt.title(\"Num bedrooms against floor area\")\n",
    "plt.scatter(flareas, bdrms, color = \"green\") \n",
    "plt.xlabel(\"Floor area (sq metres)\")\n",
    "plt.xlim(0, 1500)\n",
    "plt.ylabel(\"Number of bedrooms\")\n",
    "plt.ylim(0, 10)\n",
    "plt.show()"
   ]
  },
  {
   "cell_type": "markdown",
   "metadata": {},
   "source": [
    "<ul>\n",
    "    <li>Any comments? Does this confrim anything we saw with this dataset in a previous lecture?</li>\n",
    "</ul>"
   ]
  },
  {
   "cell_type": "markdown",
   "metadata": {},
   "source": [
    "<ul>\n",
    "    <li>A quick way to check for correlations is to use pandas' <code>scatter_matrix</code> function:\n",
    "        <ul>\n",
    "            <li>It plots every numeric-valued column against every other</li>\n",
    "        </ul>\n",
    "    </li>\n",
    "</ul>"
   ]
  },
  {
   "cell_type": "code",
   "execution_count": 11,
   "metadata": {
    "collapsed": false
   },
   "outputs": [
    {
     "data": {
      "text/plain": [
       "array([[<matplotlib.axes._subplots.AxesSubplot object at 0x7f8fd8675160>,\n",
       "        <matplotlib.axes._subplots.AxesSubplot object at 0x7f8fd5ee8978>,\n",
       "        <matplotlib.axes._subplots.AxesSubplot object at 0x7f8fd5eb9358>,\n",
       "        <matplotlib.axes._subplots.AxesSubplot object at 0x7f8fd5e6eeb8>,\n",
       "        <matplotlib.axes._subplots.AxesSubplot object at 0x7f8fd5e38ef0>],\n",
       "       [<matplotlib.axes._subplots.AxesSubplot object at 0x7f8fd6217d68>,\n",
       "        <matplotlib.axes._subplots.AxesSubplot object at 0x7f8fd61ea048>,\n",
       "        <matplotlib.axes._subplots.AxesSubplot object at 0x7f8fd5d8fb38>,\n",
       "        <matplotlib.axes._subplots.AxesSubplot object at 0x7f8fd5d0b128>,\n",
       "        <matplotlib.axes._subplots.AxesSubplot object at 0x7f8fd5cd5080>],\n",
       "       [<matplotlib.axes._subplots.AxesSubplot object at 0x7f8fd5c8ee48>,\n",
       "        <matplotlib.axes._subplots.AxesSubplot object at 0x7f8fd5c5d860>,\n",
       "        <matplotlib.axes._subplots.AxesSubplot object at 0x7f8fd5c14ef0>,\n",
       "        <matplotlib.axes._subplots.AxesSubplot object at 0x7f8fd5be86a0>,\n",
       "        <matplotlib.axes._subplots.AxesSubplot object at 0x7f8fd5ba1d30>],\n",
       "       [<matplotlib.axes._subplots.AxesSubplot object at 0x7f8fd5b68e80>,\n",
       "        <matplotlib.axes._subplots.AxesSubplot object at 0x7f8fd5b77d30>,\n",
       "        <matplotlib.axes._subplots.AxesSubplot object at 0x7f8fd5af3cc0>,\n",
       "        <matplotlib.axes._subplots.AxesSubplot object at 0x7f8fd5a46470>,\n",
       "        <matplotlib.axes._subplots.AxesSubplot object at 0x7f8fd5a7ddd8>],\n",
       "       [<matplotlib.axes._subplots.AxesSubplot object at 0x7f8fd59c7f28>,\n",
       "        <matplotlib.axes._subplots.AxesSubplot object at 0x7f8fd598f400>,\n",
       "        <matplotlib.axes._subplots.AxesSubplot object at 0x7f8fd59579e8>,\n",
       "        <matplotlib.axes._subplots.AxesSubplot object at 0x7f8fd5918240>,\n",
       "        <matplotlib.axes._subplots.AxesSubplot object at 0x7f8fd58e3470>]], dtype=object)"
      ]
     },
     "execution_count": 11,
     "metadata": {},
     "output_type": "execute_result"
    },
    {
     "data": {
      "image/png": "[encoded data removed]",
      "text/plain": [
       "<matplotlib.figure.Figure at 0x7f8fd8b20c18>"
      ]
     },
     "metadata": {},
     "output_type": "display_data"
    }
   ],
   "source": [
    "scatter_matrix(cork_df, figsize=(15, 15))"
   ]
  },
  {
   "cell_type": "markdown",
   "metadata": {},
   "source": [
    "<ul>\n",
    "    <li>The main diagonal above should be full of straight lines. Why?</li>\n",
    "    <li>Since that wouldn't be useful, by default pandas shows a histogram of that column's values instead</li>\n",
    "</ul>"
   ]
  },
  {
   "cell_type": "markdown",
   "metadata": {
    "slideshow": {
     "slide_type": "slide"
    }
   },
   "source": [
    "<h1>Exploring the <i>CS1109</i> Dataset</h1>"
   ]
  },
  {
   "cell_type": "code",
   "execution_count": 12,
   "metadata": {
    "collapsed": true
   },
   "outputs": [],
   "source": [
    "# Use pandas to read the CSV file into a DataFrame\n",
    "cs1109_df = pd.read_csv(\"datasets/dataset_cs1109.csv\")"
   ]
  },
  {
   "cell_type": "code",
   "execution_count": 13,
   "metadata": {
    "collapsed": false
   },
   "outputs": [
    {
     "data": {
      "text/plain": [
       "(342, 4)"
      ]
     },
     "execution_count": 13,
     "metadata": {},
     "output_type": "execute_result"
    }
   ],
   "source": [
    "# The dimensions\n",
    "cs1109_df.shape"
   ]
  },
  {
   "cell_type": "code",
   "execution_count": 14,
   "metadata": {
    "collapsed": false
   },
   "outputs": [
    {
     "data": {
      "text/plain": [
       "Index(['lect', 'lab', 'cao', 'outcome'], dtype='object')"
      ]
     },
     "execution_count": 14,
     "metadata": {},
     "output_type": "execute_result"
    }
   ],
   "source": [
    "# The features\n",
    "cs1109_df.columns"
   ]
  },
  {
   "cell_type": "code",
   "execution_count": 15,
   "metadata": {
    "collapsed": false
   },
   "outputs": [
    {
     "data": {
      "text/plain": [
       "lect       int64\n",
       "lab        int64\n",
       "cao        int64\n",
       "outcome    int64\n",
       "dtype: object"
      ]
     },
     "execution_count": 15,
     "metadata": {},
     "output_type": "execute_result"
    }
   ],
   "source": [
    "# The datatypes\n",
    "cs1109_df.dtypes"
   ]
  },
  {
   "cell_type": "code",
   "execution_count": 16,
   "metadata": {
    "collapsed": false
   },
   "outputs": [
    {
     "data": {
      "text/html": [
       "<div>\n",
       "<table border=\"1\" class=\"dataframe\">\n",
       "  <thead>\n",
       "    <tr style=\"text-align: right;\">\n",
       "      <th></th>\n",
       "      <th>lect</th>\n",
       "      <th>lab</th>\n",
       "      <th>cao</th>\n",
       "      <th>outcome</th>\n",
       "    </tr>\n",
       "  </thead>\n",
       "  <tbody>\n",
       "    <tr>\n",
       "      <th>count</th>\n",
       "      <td>342.000000</td>\n",
       "      <td>342.000000</td>\n",
       "      <td>342.000000</td>\n",
       "      <td>342.000000</td>\n",
       "    </tr>\n",
       "    <tr>\n",
       "      <th>mean</th>\n",
       "      <td>78.970760</td>\n",
       "      <td>79.722222</td>\n",
       "      <td>395.877193</td>\n",
       "      <td>0.397661</td>\n",
       "    </tr>\n",
       "    <tr>\n",
       "      <th>std</th>\n",
       "      <td>22.590431</td>\n",
       "      <td>22.931276</td>\n",
       "      <td>60.705453</td>\n",
       "      <td>0.490132</td>\n",
       "    </tr>\n",
       "    <tr>\n",
       "      <th>min</th>\n",
       "      <td>0.000000</td>\n",
       "      <td>0.000000</td>\n",
       "      <td>215.000000</td>\n",
       "      <td>0.000000</td>\n",
       "    </tr>\n",
       "    <tr>\n",
       "      <th>25%</th>\n",
       "      <td>70.000000</td>\n",
       "      <td>73.000000</td>\n",
       "      <td>350.000000</td>\n",
       "      <td>0.000000</td>\n",
       "    </tr>\n",
       "    <tr>\n",
       "      <th>50%</th>\n",
       "      <td>86.000000</td>\n",
       "      <td>86.000000</td>\n",
       "      <td>390.000000</td>\n",
       "      <td>0.000000</td>\n",
       "    </tr>\n",
       "    <tr>\n",
       "      <th>75%</th>\n",
       "      <td>95.000000</td>\n",
       "      <td>95.000000</td>\n",
       "      <td>430.000000</td>\n",
       "      <td>1.000000</td>\n",
       "    </tr>\n",
       "    <tr>\n",
       "      <th>max</th>\n",
       "      <td>100.000000</td>\n",
       "      <td>100.000000</td>\n",
       "      <td>585.000000</td>\n",
       "      <td>1.000000</td>\n",
       "    </tr>\n",
       "  </tbody>\n",
       "</table>\n",
       "</div>"
      ],
      "text/plain": [
       "             lect         lab         cao     outcome\n",
       "count  342.000000  342.000000  342.000000  342.000000\n",
       "mean    78.970760   79.722222  395.877193    0.397661\n",
       "std     22.590431   22.931276   60.705453    0.490132\n",
       "min      0.000000    0.000000  215.000000    0.000000\n",
       "25%     70.000000   73.000000  350.000000    0.000000\n",
       "50%     86.000000   86.000000  390.000000    0.000000\n",
       "75%     95.000000   95.000000  430.000000    1.000000\n",
       "max    100.000000  100.000000  585.000000    1.000000"
      ]
     },
     "execution_count": 16,
     "metadata": {},
     "output_type": "execute_result"
    }
   ],
   "source": [
    "# Summary statistics\n",
    "cs1109_df.describe(include=\"all\")"
   ]
  },
  {
   "cell_type": "markdown",
   "metadata": {},
   "source": [
    "<ul>\n",
    "    <li>A much cleaner dataset!</li>\n",
    "</ul>"
   ]
  },
  {
   "cell_type": "markdown",
   "metadata": {},
   "source": [
    "<ul>\n",
    "    <li>For classification, we can show <em>two</em> features, one on each axis, with class labels\n",
    "        shown using points of different shapes and colours\n",
    "    </li>\n",
    "</ul>"
   ]
  },
  {
   "cell_type": "code",
   "execution_count": 17,
   "metadata": {
    "collapsed": false
   },
   "outputs": [
    {
     "data": {
      "image/png": "[encoded data removed]",
      "text/plain": [
       "<matplotlib.figure.Figure at 0x7f8fd587c550>"
      ]
     },
     "metadata": {},
     "output_type": "display_data"
    }
   ],
   "source": [
    "lects = cs1109_df[\"lect\"]\n",
    "labs = cs1109_df[\"lab\"]\n",
    "outcomes = cs1109_df[\"outcome\"]\n",
    "\n",
    "fig = plt.figure(figsize=(10,8))\n",
    "plt.title(\"Lab attendance against lecture attendance\")\n",
    "plt.scatter(lects[outcomes==0], labs[outcomes==0], color = \"green\", marker=\"s\")\n",
    "plt.scatter(lects[outcomes==1], labs[outcomes==1], color = \"red\", marker=\"o\")\n",
    "plt.xlabel(\"Lecture attendance (%)\")\n",
    "plt.xlim(0, 100)\n",
    "plt.ylabel(\"Lab attendance (%)\")\n",
    "plt.ylim(0, 100)\n",
    "plt.show()"
   ]
  },
  {
   "cell_type": "markdown",
   "metadata": {},
   "source": [
    "<ul>\n",
    "    <li>For classification, given a feature, you could plot a <b>histograms</b> <em>per class</em></li>\n",
    "</ul>"
   ]
  },
  {
   "cell_type": "code",
   "execution_count": 18,
   "metadata": {
    "collapsed": false
   },
   "outputs": [
    {
     "data": {
      "image/png": "[encoded data removed]",
      "text/plain": [
       "<matplotlib.figure.Figure at 0x7f8fd50c1e80>"
      ]
     },
     "metadata": {},
     "output_type": "display_data"
    }
   ],
   "source": [
    "lects = cs1109_df[\"lect\"]\n",
    "outcomes = cs1109_df[\"outcome\"]\n",
    "\n",
    "fig = plt.figure(figsize=(10,4))\n",
    "plt.subplot(1, 2, 1)\n",
    "plt.title(\"Lecture attendance for those who passed\")\n",
    "plt.hist(lects[outcomes == 0], bins = range(0, 110, 10), color = \"green\")\n",
    "plt.xlabel(\"Lecture attendance (%)\")\n",
    "plt.xlim(0, 100)\n",
    "plt.ylim(0, 150)\n",
    "plt.subplot(1, 2, 2)\n",
    "plt.title(\"Lecture attendance for those who failed\")\n",
    "plt.hist(lects[outcomes == 1], bins = range(0, 110, 10), color = \"red\")\n",
    "plt.xlabel(\"Lecture attendance (%)\")\n",
    "plt.xlim(0, 100)\n",
    "plt.ylim(0, 150)\n",
    "plt.show()"
   ]
  },
  {
   "cell_type": "markdown",
   "metadata": {},
   "source": [
    "<ul>\n",
    "    <li>Similarly, you could use a <b>box plot</b></li>\n",
    "</ul>"
   ]
  },
  {
   "cell_type": "code",
   "execution_count": 19,
   "metadata": {
    "collapsed": false
   },
   "outputs": [
    {
     "data": {
      "image/png": "[encoded data removed]",
      "text/plain": [
       "<matplotlib.figure.Figure at 0x7f8fd58702b0>"
      ]
     },
     "metadata": {},
     "output_type": "display_data"
    }
   ],
   "source": [
    "lects = cs1109_df[\"lect\"]\n",
    "outcomes = cs1109_df[\"outcome\"]\n",
    "\n",
    "fig = plt.figure(figsize=(10, 5))\n",
    "ax = plt.axes()\n",
    "plt.title(\"Lecture attendance against outcome\")\n",
    "plt.boxplot([lects[outcomes == 0], lects[outcomes == 1]])\n",
    "plt.xlabel(\"Outcome\")\n",
    "plt.ylabel(\"Lecture attendance (%)\")\n",
    "plt.ylim(0, 100)\n",
    "ax.set_xticklabels([\"Pass\", \"Fail\"])\n",
    "plt.show()"
   ]
  },
  {
   "cell_type": "markdown",
   "metadata": {},
   "source": [
    "<ul>\n",
    "    <li>\n",
    "        The bottom of the box is the <b>first quartile</b>\n",
    "        <ul>\n",
    "            <li>25% of the data has values lower than this</li>\n",
    "        </ul>\n",
    "    </li>\n",
    "    <li>\n",
    "        The red line inside the box is the second quartile (the <b>median</b>)\n",
    "        <ul>\n",
    "            <li>50% of the data has values lower than this</li>\n",
    "        </ul>\n",
    "    </li>\n",
    "    <li>\n",
    "        The top of the box is the <b>third quartile</b>\n",
    "        <ul>\n",
    "            <li>75% of the data has lower values than this</li>\n",
    "        </ul>\n",
    "    </li>\n",
    "    <li>\n",
    "        The difference between the third quartile and the first quartile is called the <b>inter-quartile range</b> (IQR)\n",
    "    </li>\n",
    "    <li>\n",
    "        By default, the <b>whiskers</b> show the lowest value still within 1.5 IQR of the first quartile, and the highest value \n",
    "        still within 1.5 IQR of the third quartile\n",
    "    </li>\n",
    "    <li>\n",
    "        Any other values ('outliers' or 'fliers') beyond the whiskers are shown individually\n",
    "    </li>\n",
    "</ul>"
   ]
  },
  {
   "cell_type": "markdown",
   "metadata": {},
   "source": [
    "<h1>Dataset Preparation</h1>\n",
    "<ul>\n",
    "    <li>Before you throw learning algorithms at your data, there is the task of <b>data preparation</b>\n",
    "        <ul>\n",
    "            <li>Real data is incomplete (e.g. with values missing), noisy (containing errors) \n",
    "                and inconsistent (especially if it comes from multiple sources)\n",
    "            </li>\n",
    "            <li>We must deal with at least some of these problems before applying any learning \n",
    "                algorithms (otherwise, garbage-in-garbage-out)\n",
    "            </li>\n",
    "            <li>People estimate that data preparation accounts for 60% or more of the work in data analytics</li>\n",
    "        </ul>\n",
    "    </li>\n",
    "    <li>An incomplete list of data preparation activities (in no particular order):\n",
    "        <ul>\n",
    "            <li>Data cleaning:\n",
    "                <ul>\n",
    "                    <li>handling missing values; smoothing noisy data; removing outliers; correcting \n",
    "                        erroneous values; &hellip;\n",
    "                    </li>\n",
    "                </ul>\n",
    "            </li>\n",
    "            <li>Data integration:\n",
    "                <ul>\n",
    "                    <li>de-normalizing relational databases and flattening other data structures such as trees\n",
    "                        and graphs; resolving inconsistencies; identifying and handling duplicates; &hellip;\n",
    "                    </li>\n",
    "                </ul>\n",
    "            </li>\n",
    "            <li>Data transformation:\n",
    "                <ul>\n",
    "                    <li>binarizing nominal values; discretizing numeric values;\n",
    "                        changing character encodings; scaling; &hellip;\n",
    "                    </li>\n",
    "                </ul>\n",
    "            </li>\n",
    "            <li>Feature engineering:\n",
    "                <ul>\n",
    "                    <li>augmenting the dataset with new features, either newly-gathered features or ones that \n",
    "                        are computed from the other features (e.g. aggregates of the others); &hellip;\n",
    "                    </li>\n",
    "                </ul>\n",
    "            </li>\n",
    "            <li>Data reduction:\n",
    "                <ul>\n",
    "                    <li>sampling (e.g. to use a subset of the examples if the dataset is tooo large to handle);\n",
    "                        feature selection to remove features with low predictive power; reducing the\n",
    "                        dimensionality of the data through techniques such as Principal Component Analysis;\n",
    "                        &hellip;\n",
    "                    </li>\n",
    "                </ul>\n",
    "             </li>\n",
    "        </ul>\n",
    "    </li>\n",
    "    <li>Automate these processes so that you can apply them to fresh data in the future\n",
    "        <ul>\n",
    "            <li>Some things you'll do in advance on the whole dataset: we'll use pandas for this</li>\n",
    "            <li>Some things are best done in your pipelines: we use scikit-learn for this</li>\n",
    "        </ul>\n",
    "    </li>\n",
    "    <li>We'll look at how to handle anomalous values and missing values below</li>\n",
    "</ul>"
   ]
  },
  {
   "cell_type": "markdown",
   "metadata": {},
   "source": [
    "<h1>Anomalous Values</h1>\n",
    "<ul>\n",
    "    <li>Most datasets are noisy\n",
    "        <ul>\n",
    "            <li>\n",
    "                People supply incorrect data; e.g. see the $\\mathit{flarea}$ example above\n",
    "            </li>\n",
    "            <li>\n",
    "                They make spelling mistakes\n",
    "                <ul>\n",
    "                    <li>In nominal-valued data, this can lead to a proliferation of values,\n",
    "                        where there should be fewer\n",
    "                    </li>\n",
    "                    <li>E.g. \"Sunday's Well\", \"Sundays' Well\", \"Sundays Well\",\n",
    "                        \"Sunday Wells\", \"Sundays Wells\", \"Sundays well\" will, from an algorithm's point of view, all be\n",
    "                        different locations\n",
    "                    </li>\n",
    "                </ul>\n",
    "            </li>\n",
    "            <li>\n",
    "                They make typing errors\n",
    "            </li>\n",
    "            <li>\n",
    "                Software that has been instrumented to measure, e.g., user actions (number of clicks, response times,\n",
    "                etc.) may be buggy\n",
    "            </li>\n",
    "            <li>\n",
    "                Measuring equipment may malfunction\n",
    "            </li>\n",
    "            <li>\n",
    "                &hellip;\n",
    "        </li>\n",
    "    </ul>\n",
    "    <li>Noise can affect the feature values or, in labeled dataset, the target values/class labels\n",
    "    </li>\n",
    "</ul>"
   ]
  },
  {
   "cell_type": "markdown",
   "metadata": {},
   "source": [
    "<h2>Detecting anomalous values</h2>\n",
    "<ul>\n",
    "    <li>If it matters a lot, you can do lots of manual checking &mdash; but that's costly</li>\n",
    "    <li>There are also some automatic methods that can help with anomaly detection based on probability distributions \n",
    "        &mdash; but we don't have time to examine these\n",
    "    </li>\n",
    "    <li>As we saw, visualizations can help reveal possible anomalies &mdash; ideally, you check them with your domain\n",
    "        expert\n",
    "        <ul>\n",
    "            <li>Simple graphs like the one above will not reveal all anomalous data. What kinds of anomalies will\n",
    "                fail to show up?\n",
    "            </li>\n",
    "        </ul>\n",
    "    </li>\n",
    "</ul>"
   ]
  },
  {
   "cell_type": "markdown",
   "metadata": {},
   "source": [
    "<h2>Handling anomalous values</h2>\n",
    "<ul>\n",
    "    <li>You must either correct them &mdash; if you can without undue effort</li>\n",
    "    <li>Or you'll have to delete examples (rows) that contain anomalous values</li>\n",
    "</ul>"
   ]
  },
  {
   "cell_type": "code",
   "execution_count": 20,
   "metadata": {
    "collapsed": false
   },
   "outputs": [
    {
     "data": {
      "text/plain": [
       "(233, 9)"
      ]
     },
     "execution_count": 20,
     "metadata": {},
     "output_type": "execute_result"
    }
   ],
   "source": [
    "# Delete examples from the Cork Property Prices Dataset whose floor areas are too small or too big\n",
    "\n",
    "cork_df = (cork_df[(cork_df[\"flarea\"].isnull()) | ((cork_df[\"flarea\"] > 10) & (cork_df[\"flarea\"] < 1000))]).copy()\n",
    "cork_df.reset_index(drop=True, inplace=True)\n",
    "\n",
    "# Check the anomalies were filtered out\n",
    "cork_df.shape"
   ]
  },
  {
   "cell_type": "markdown",
   "metadata": {},
   "source": [
    "<h1>Missing Values</h1>\n",
    "<ul>\n",
    "    <li>Many datasets contain examples that are missing the values of some of the features\n",
    "    </li>\n",
    "    <li>The simple case\n",
    "        <ul>\n",
    "            <li>In a CSV file, they appear as the empty string</li>\n",
    "            <li>When pandas reads the file, it stores them as NaN</li>\n",
    "        </ul>\n",
    "    </li>\n",
    "    <li>But you might receive a file that doesn't use the empty string\n",
    "        <ul>\n",
    "            <li>They might appear instead as whitespace, or a dash, or '?', or 'UNK', or 'N/A', or some other special\n",
    "                value\n",
    "            </li>\n",
    "        </ul>\n",
    "    </li>\n",
    "    <li>\n",
    "        For a numeric-valued feature, they might appear using the same strings that we\n",
    "        have just mentioned, or an out-of-range number might be used (0, -1,...)\n",
    "    </li>\n",
    "</ul>"
   ]
  },
  {
   "cell_type": "markdown",
   "metadata": {},
   "source": [
    "<h2>Why May Values be Missing?</h2>\n",
    "<ul>\n",
    "    <li>\n",
    "        Inapplicable feature: the value is missing because it does not apply to this object\n",
    "        <ul>\n",
    "            <li>E.g. a feature that records how many weeks pregnant someone is only applies to people who are\n",
    "                pregnant\n",
    "            </li>\n",
    "            <li>E.g. if you are feeding mice for ten weeks in a lab experiment and measuring their weight\n",
    "                at the end of each week, then you will have ten features for each mouse; but if a mouse dies \n",
    "                before the end of the experiment one or more of its ten features will have missing values\n",
    "            </li>\n",
    "        </ul>\n",
    "    </li>\n",
    "    <li>\n",
    "        Value not recorded: there is a value but it is not recorded in the dataset\n",
    "        <ul>\n",
    "            <li>E.g. a person filling in a survey refuses to give his/her sex or income</li>\n",
    "            <li>E.g. a student does not know what CAO points s/he attained</li>\n",
    "            <li>E.g. the mouse survives but we forget to weigh it or the measuring equipment malfunctions in week 4, \n",
    "                so that value is missing\n",
    "            </li>\n",
    "        </ul>\n",
    "    </li>\n",
    "    <li>\n",
    "        Status unknown: the value is missing but we don't know which of the previous two is the case\n",
    "        <ul>\n",
    "            <li>E.g. the mouse's weight for week 10 is missing: is it because the mouse died at the end of week\n",
    "                9 (so the value for week 10 is inapplicable) or is it because we forgot to measure it?\n",
    "            </li>\n",
    "        </ul>\n",
    "    </li>\n",
    "    <li>But there can be domain-specific reasons why values are missing\n",
    "        <ul>\n",
    "            <li>E.g. a student assignment may be scored out of ten (including zero, meaning the work was submitted \n",
    "                but was worthless). But you might want to distinguish the following cases where the value is missing: \n",
    "                the student did not submit (for no good reason), the student did not submit for good reason (e.g. illness)\n",
    "                so the assignment is written off, or the student plagiarised the work\n",
    "            </li>\n",
    "        </ul>\n",
    "    </li>\n",
    "    <li>\n",
    "        If you're really lucky, the dataset might use different symbols for these different cases!\n",
    "    </li>\n",
    "</ul>"
   ]
  },
  {
   "cell_type": "markdown",
   "metadata": {},
   "source": [
    "<h2>Handling Missing Values</h2>\n",
    "<ul>\n",
    "    <li>While there are exceptions, most learning algorithms will expect a value for each feature</li>\n",
    "    <li>What can we do?\n",
    "        <ul>\n",
    "            <li>Revisit the data acquisition process:\n",
    "                <ul>\n",
    "                    <li>In a few cases, it might be possible, perhaps with some cost and effort, to\n",
    "                        obtain some of the missing values\n",
    "                    </li>\n",
    "                </ul>\n",
    "            </li>\n",
    "            <li>Delete examples:\n",
    "                <ul>\n",
    "                    <li>If only a small proportion of the examples in the dataset contain features with missing values, \n",
    "                        then you could simply delete those <em>rows</em>\n",
    "                    </li>\n",
    "                    <li>In which column is a missing value particularly problematic? If you can't obtain the missing\n",
    "                       values, you will probably have to delete these examples\n",
    "                    </li>\n",
    "                </ul>\n",
    "            </li>\n",
    "            <li>Delete features:\n",
    "                <ul>\n",
    "                    <li>If one or two of the features are plagued by missing values, then we could simply delete those\n",
    "                        <em>columns</em>\n",
    "                    </li>\n",
    "                </ul>\n",
    "            </li>\n",
    "            <li>Impute a value:\n",
    "                <ul>\n",
    "                    <li>For numeric-valued features, you can use the mean (or median) of the values that are not missing,\n",
    "                        e.g. the average floor area\n",
    "                    </li>\n",
    "                    <li>For nominal-valued features, you can use the mode (i.e. the most\n",
    "                        frequent of the values that are not missing)\n",
    "                    </li>\n",
    "                    <li>You might instead have some domain-specific way of imputing values that you can agree with your \n",
    "                        domain expert\n",
    "                        <ul>\n",
    "                            <li>Returning again to the example of the weights of mice, if a mouse is missing the value \n",
    "                                for week 4 but its values for weeks 3 and 5 are present, then you could take the average \n",
    "                                of its week 3 and 5 values, rather than the average of the week 4 values for all the other \n",
    "                                mice\n",
    "                            </li>\n",
    "                        </ul>\n",
    "                    </li>\n",
    "                </ul>\n",
    "            </li>\n",
    "        </ul>\n",
    "    </li>\n",
    "</ul>"
   ]
  },
  {
   "cell_type": "code",
   "execution_count": 21,
   "metadata": {
    "collapsed": false
   },
   "outputs": [
    {
     "data": {
      "text/plain": [
       "(230, 9)"
      ]
     },
     "execution_count": 21,
     "metadata": {},
     "output_type": "execute_result"
    }
   ],
   "source": [
    "# Example of deleting examples - ones where a feature (in this case, flarea) is NaN\n",
    "\n",
    "cork_df.dropna(subset=[\"flarea\"], inplace=True)\n",
    "cork_df.reset_index(drop=True, inplace=True)\n",
    "\n",
    "# Check the examples with missing values were removed\n",
    "cork_df.shape"
   ]
  },
  {
   "cell_type": "code",
   "execution_count": 22,
   "metadata": {
    "collapsed": false
   },
   "outputs": [
    {
     "data": {
      "text/plain": [
       "(218, 9)"
      ]
     },
     "execution_count": 22,
     "metadata": {},
     "output_type": "execute_result"
    }
   ],
   "source": [
    "# And the same again for price\n",
    "\n",
    "cork_df.dropna(subset=[\"price\"], inplace=True)\n",
    "cork_df.reset_index(drop=True, inplace=True)\n",
    "\n",
    "# Check the examples with missing values were removed\n",
    "cork_df.shape"
   ]
  },
  {
   "cell_type": "code",
   "execution_count": 23,
   "metadata": {
    "collapsed": false
   },
   "outputs": [
    {
     "data": {
      "text/plain": [
       "(218, 9)"
      ]
     },
     "execution_count": 23,
     "metadata": {},
     "output_type": "execute_result"
    }
   ],
   "source": [
    "# Example of deleting examples - in this case, we're pretending that type has missing values (it doesn't) and that\n",
    "# they appear as a special value: \"?\"\n",
    "\n",
    "cork_df = (cork_df[cork_df[\"type\"] != \"?\"]).copy()\n",
    "cork_df.reset_index(drop=True, inplace=True)\n",
    "\n",
    "# Check the anomalies were filtered out\n",
    "cork_df.shape"
   ]
  },
  {
   "cell_type": "code",
   "execution_count": 24,
   "metadata": {
    "collapsed": false
   },
   "outputs": [
    {
     "data": {
      "text/plain": [
       "(218, 8)"
      ]
     },
     "execution_count": 24,
     "metadata": {},
     "output_type": "execute_result"
    }
   ],
   "source": [
    "# Example of deleting a feature (in this case, ber) - where we are pretending it contains so many missing values that \n",
    "# it is worthless\n",
    "\n",
    "cork_df.drop('ber', axis=1, inplace=True)\n",
    "\n",
    "# Check the feature was removed\n",
    "cork_df.shape"
   ]
  },
  {
   "cell_type": "markdown",
   "metadata": {},
   "source": [
    "<ul>\n",
    "    <li>To impute a value, I have supplied <code>MissingValueImputer</code> (based on scikit-learn's \n",
    "        <code>Imputer</code> class)\n",
    "    </li>\n",
    "    <li>This should be done in a pipeline</li>\n",
    "</ul>"
   ]
  },
  {
   "cell_type": "markdown",
   "metadata": {},
   "source": [
    "<h1>Putting it all together</h1>\n",
    "<ul>\n",
    "    <li>Here's what I would do with the Cork dataset</li>\n",
    "</ul>"
   ]
  },
  {
   "cell_type": "code",
   "execution_count": 25,
   "metadata": {
    "collapsed": true
   },
   "outputs": [],
   "source": [
    "cork_df = pd.read_csv(\"datasets/dataset_corkB.csv\")"
   ]
  },
  {
   "cell_type": "code",
   "execution_count": 26,
   "metadata": {
    "collapsed": true
   },
   "outputs": [],
   "source": [
    "cork_df = (cork_df[(cork_df[\"flarea\"].isnull()) | ((cork_df[\"flarea\"] > 10) & (cork_df[\"flarea\"] < 1000))]).copy()\n",
    "cork_df = (cork_df[(cork_df[\"price\"].isnull()) | (cork_df[\"price\"] < 1500)]).copy()\n",
    "\n",
    "cork_df.dropna(subset=[\"price\"], inplace=True)\n",
    "\n",
    "cork_df.reset_index(drop=True, inplace=True)"
   ]
  },
  {
   "cell_type": "code",
   "execution_count": 27,
   "metadata": {
    "collapsed": false
   },
   "outputs": [],
   "source": [
    "numeric_features = [\"flarea\", \"bdrms\", \"bthrms\", \"floors\"]\n",
    "nominal_features = [\"type\", \"devment\", \"ber\", \"location\"]\n",
    "nominal_features_values = [[\"Detached\", \"Semi-detached\", \"Terraced\", \"Apartment\"],\n",
    "                            [\"SecondHand\", \"New\"],\n",
    "                            [\"B2\", \"D2\", \"C3\", \"D1\", \"F\", \"E2\", \"C1\", \"C2\", \"G\", \"B3\", \"E1\", \"B1\"],\n",
    "                            [\"Carrigrohane\", \"Glanmire\", \"Blackrock\", \"Douglas\", \"CityCentre\",\n",
    "                             \"Silversprings\", \"PassageWest\", \"Ballinlough\", \"Farranree\",\n",
    "                             \"Rochestown\", \"Inniscarra\", \"Blackpool\", \"Waterfall\", \"Bishopstown\",\n",
    "                             \"Donnybrook\", \"Wilton\", \"Togher\", \"Grange\", \"Mayfield\", \"Glasheen\",\n",
    "                             \"TheLough\", \"Ballyvolane\", \"ModelFarmRoad\", \"TurnersCross\",\n",
    "                             \"WesternRoad\", \"Ovens\", \"Cloghroe\", \"Ballintemple\", \"Montenotte\",\n",
    "                             \"Fota\", \"Ballyphehane\", \"DublinPike\", \"StLukes\", \"VictoriaCross\",\n",
    "                             \"Banduff\", \"Gurranabraher\"]]\n",
    "\n",
    "numeric_pipeline = Pipeline([\n",
    "        (\"selector\", DataFrameSelector(numeric_features)),\n",
    "        (\"imputer\", MissingValueImputer(missing_values=\"NaN\", strategy=\"mean\")),\n",
    "        (\"scaler\", StandardScaler())\n",
    "    ])\n",
    "\n",
    "nominal_pipeline = Pipeline([\n",
    "        (\"selector\", DataFrameSelector(nominal_features)), \n",
    "        (\"imputer\", MissingValueImputer(missing_values=\"NaN\", strategy=\"most_frequent\")), \n",
    "        (\"binarizer\", FeatureBinarizer(nominal_features_values))\n",
    "])\n",
    "\n",
    "pipeline = Pipeline([(\"union\", FeatureUnion([(\"numeric_pipeline\", numeric_pipeline), \n",
    "                                             (\"nominal_pipeline\", nominal_pipeline)]))])"
   ]
  },
  {
   "cell_type": "code",
   "execution_count": 28,
   "metadata": {
    "collapsed": false
   },
   "outputs": [],
   "source": [
    "# Run the pipeline\n",
    "pipeline.fit(cork_df)\n",
    "X = pipeline.transform(cork_df)"
   ]
  },
  {
   "cell_type": "markdown",
   "metadata": {},
   "source": [
    "<ul>\n",
    "    <li>We deleted anomalous values before imputing means. Why?</li>\n",
    "    <li>We imputed means/modes before scaling. Why?</li>   \n",
    "</ul>"
   ]
  },
  {
   "cell_type": "code",
   "execution_count": null,
   "metadata": {
    "collapsed": true
   },
   "outputs": [],
   "source": []
  }
 ],
 "metadata": {
  "celltoolbar": "Slideshow",
  "kernelspec": {
   "display_name": "Python 3",
   "language": "python",
   "name": "python3"
  },
  "language_info": {
   "codemirror_mode": {
    "name": "ipython",
    "version": 3
   },
   "file_extension": ".py",
   "mimetype": "text/x-python",
   "name": "python",
   "nbconvert_exporter": "python",
   "pygments_lexer": "ipython3",
   "version": "3.5.1"
  }
 },
 "nbformat": 4,
 "nbformat_minor": 0
}
