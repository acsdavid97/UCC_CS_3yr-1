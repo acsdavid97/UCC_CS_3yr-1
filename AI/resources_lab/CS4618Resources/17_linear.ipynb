{
 "cells": [
  {
   "cell_type": "markdown",
   "metadata": {
    "slideshow": {
     "slide_type": "slide"
    }
   },
   "source": [
    "<h1>CS4618: Artificial Intelligence I</h1>\n",
    "<h1>Linear Models</h1>\n",
    "<h2>\n",
    "    Derek Bridge<br>\n",
    "    School of Computer Science and Information Technology<br>\n",
    "    University College Cork\n",
    "</h2>"
   ]
  },
  {
   "cell_type": "markdown",
   "metadata": {
    "slideshow": {
     "slide_type": "skip"
    }
   },
   "source": [
    "<h1>Initialization</h1>\n",
    "$\\newcommand{\\Set}[1]{\\{#1\\}}$ \n",
    "$\\newcommand{\\Tuple}[1]{\\langle#1\\rangle}$ \n",
    "$\\newcommand{\\v}[1]{\\pmb{#1}}$ \n",
    "$\\newcommand{\\cv}[1]{\\begin{bmatrix}#1\\end{bmatrix}}$ \n",
    "$\\newcommand{\\rv}[1]{[#1]}$ \n",
    "$\\DeclareMathOperator{\\argmax}{arg\\,max}$ \n",
    "$\\DeclareMathOperator{\\argmin}{arg\\,min}$ \n",
    "$\\DeclareMathOperator{\\dist}{dist}$\n",
    "$\\DeclareMathOperator{\\abs}{abs}$"
   ]
  },
  {
   "cell_type": "code",
   "execution_count": 1,
   "metadata": {
    "collapsed": false,
    "slideshow": {
     "slide_type": "skip"
    }
   },
   "outputs": [],
   "source": [
    "%reload_ext autoreload\n",
    "%autoreload 2\n",
    "%matplotlib inline"
   ]
  },
  {
   "cell_type": "code",
   "execution_count": 2,
   "metadata": {
    "collapsed": false,
    "slideshow": {
     "slide_type": "skip"
    }
   },
   "outputs": [],
   "source": [
    "import pandas as pd\n",
    "import numpy as np\n",
    "import matplotlib.pyplot as plt"
   ]
  },
  {
   "cell_type": "code",
   "execution_count": 3,
   "metadata": {
    "collapsed": true,
    "slideshow": {
     "slide_type": "skip"
    }
   },
   "outputs": [],
   "source": [
    "from sklearn.pipeline import Pipeline\n",
    "from sklearn.pipeline import FeatureUnion\n",
    "from sklearn.base import BaseEstimator, TransformerMixin\n",
    "\n",
    "from sklearn.preprocessing import LabelEncoder\n",
    "from sklearn.preprocessing import OneHotEncoder\n",
    "from sklearn.preprocessing import add_dummy_feature\n",
    "\n",
    "from sklearn.linear_model import LinearRegression\n",
    "\n",
    "from mpl_toolkits.mplot3d import Axes3D\n",
    "\n",
    "# Class, for use in pipelines, to select certain columns from a DataFrame and convert to a numpy array\n",
    "# From A. Geron: Hands-On Machine Learning with Scikit-Learn & TensorFlow, O'Reilly, 2017\n",
    "# Modified by Derek Bridge to allow for casting in the same ways as pandas.DatFrame.astype\n",
    "class DataFrameSelector(BaseEstimator, TransformerMixin):\n",
    "    def __init__(self, attribute_names, dtype=None):\n",
    "        self.attribute_names = attribute_names\n",
    "        self.dtype = dtype\n",
    "    def fit(self, X, y=None):\n",
    "        return self\n",
    "    def transform(self, X):\n",
    "        X_selected = X[self.attribute_names]\n",
    "        if self.dtype:\n",
    "            return X_selected.astype(self.dtype).values\n",
    "        return X_selected.values\n",
    "    \n",
    "# Class, for use in pipelines, to binarize nominal-valued features (while avoiding the dummy variabe trap)\n",
    "# By Derek Bridge, 2017\n",
    "class FeatureBinarizer(BaseEstimator, TransformerMixin):\n",
    "    def __init__(self, features_values):\n",
    "        self.features_values = features_values\n",
    "        self.num_features = len(features_values)\n",
    "        self.labelencodings = [LabelEncoder().fit(feature_values) for feature_values in features_values]\n",
    "        self.onehotencoder = OneHotEncoder(sparse=False,\n",
    "            n_values=[len(feature_values) for feature_values in features_values])\n",
    "        self.last_indexes = np.cumsum([len(feature_values) - 1 for feature_values in self.features_values])\n",
    "    def fit(self, X, y=None):\n",
    "        for i in range(0, self.num_features):\n",
    "            X[:, i] = self.labelencodings[i].transform(X[:, i])\n",
    "        return self.onehotencoder.fit(X)\n",
    "    def transform(self, X, y=None):\n",
    "        for i in range(0, self.num_features):\n",
    "            X[:, i] = self.labelencodings[i].transform(X[:, i])\n",
    "        onehotencoded = self.onehotencoder.transform(X)\n",
    "        return np.delete(onehotencoded, self.last_indexes, axis=1)\n",
    "    def fit_transform(self, X, y=None):\n",
    "        onehotencoded = self.fit(X).transform(X)\n",
    "        return np.delete(onehotencoded, self.last_indexes, axis=1)\n",
    "    def get_params(self, deep=True):\n",
    "        return {\"features_values\" : self.features_values}\n",
    "    def set_params(self, **parameters):\n",
    "        for parameter, value in parameters.items():\n",
    "            self.setattr(parameter, value)\n",
    "        return self"
   ]
  },
  {
   "cell_type": "markdown",
   "metadata": {
    "slideshow": {
     "slide_type": "slide"
    }
   },
   "source": [
    "<h1>Linear Equations</h1>\n",
    "<ul>\n",
    "    <li>From school, the equation of a straight line:\n",
    "        $$y = a + bx$$\n",
    "        E.g. $y = 3 + 2x$\n",
    "    </li>\n",
    "    <li>From the point of view of plotting this line, what's $a$? What's $b$?</li>\n",
    "    <li>In general\n",
    "        $$y = \\beta_0 + \\beta_1 x_1 + \\beta_2 x_2 + \\ldots + \\beta_n x_n$$\n",
    "        <ul>\n",
    "            <li>$\\beta_0,\\ldots,\\beta_n$ are numbers, called the <b>coefficients</b></li>\n",
    "            <li>$x_1,\\ldots,x_n$ are the variables</li>\n",
    "            <li>each of the things being added together is called a <b>term</b></li>\n",
    "        </ul>\n",
    "        So a linear equation is the sum of a number of terms, where each term is either a constant or the\n",
    "        product of a constant and a variable\n",
    "    </li>\n",
    "    <li>Given a linear equation and the values of the variables ($x_1,\\ldots,x_n$), we can <b>evaluate</b>\n",
    "        the equation, i.e. work out the value of $y$\n",
    "    </li>\n",
    "</ul>"
   ]
  },
  {
   "cell_type": "markdown",
   "metadata": {
    "slideshow": {
     "slide_type": "slide"
    }
   },
   "source": [
    "<h1>Class exercises</h1>\n",
    "<ul>\n",
    "    <li>Which of these are linear equations?\n",
    "        <ol>\n",
    "            <li>$y = 6 + 2x_1 + 4x_3 + x_7$</li>\n",
    "            <li>$y = 6x_1 - 3x_2$</li>\n",
    "            <li>$y = 3 + \\sin(x_1)$</li>\n",
    "            <li>$y = 3x_0^0 + 7x_1^1 + 19x_3^2$</li>\n",
    "            <li>$y = 3 + 14x_1x_2 + 12x_3$</li>\n",
    "        </ol>\n",
    "    </li>\n",
    "    <li>Evalute $y = 2 + 3x_1 + 4x_2 + 5x_3$:\n",
    "        <ol>\n",
    "            <li>in the case that $x_1 = 1, x_2 = 1, x_3 = 1$</li>\n",
    "            <li>in the case that $x_1 = 0, x_2 = 1, x_3 = 5$</li>\n",
    "        </ol>\n",
    "    </li>\n",
    "</ul>"
   ]
  },
  {
   "cell_type": "markdown",
   "metadata": {
    "slideshow": {
     "slide_type": "slide"
    }
   },
   "source": [
    "<h1>Linear Equations and Vectors</h1>\n",
    "<ul>\n",
    "    <li>Give a linear equation $y = \\beta_0 + \\beta_1 x_1 + \\beta_2 x_2 + \\ldots + \\beta_n x_n$, \n",
    "        <ul>\n",
    "            <li>we can gather the variables into a row vector $\\rv{x_1,x_2, \\ldots, x_n}$</li>\n",
    "            <li>we can gather the coefficients (except $\\beta_0$) into a column vector\n",
    "                $\\cv{\\beta_1\\\\ \\beta_2\\\\ \\vdots\\\\ \\beta_n}$ (of the same dimension, $n$)\n",
    "            </li>\n",
    "            <li>E.g. from $y = 12 + 3x_1 + 4x_2 + 5x_3$, we get $\\v{x} = \\rv{x_1, x_2, x_3}$ and\n",
    "                $\\v{\\beta} = \\cv{3\\\\4\\\\5}$\n",
    "            </li>\n",
    "            <li>What are the two vectors for $y = 7 + 20x_1 + x_3$?</li>\n",
    "        </ul>\n",
    "    </li>\n",
    "    <li>Hence, the linear equation $y = \\beta_0 + \\beta_1 x_1 + \\beta_2 x_2 + \\ldots + \\beta_n x_n$ can\n",
    "        equivalently be written in this form:\n",
    "        $$y = \\beta_0 + \\sum_{i=1}^n \\v{\\beta}_i\\v{x}_i$$\n",
    "    </li>\n",
    "    <li>It can also, equivalently, be written in this form:\n",
    "        $$y = \\beta_0 + \\v{x}\\v{\\beta}$$\n",
    "    </li>\n",
    "    <li>Hence, to evaluate a linear equation, simply multiply the two vectors and add $\\beta_0$\n",
    "    </li>\n",
    "</ul>"
   ]
  },
  {
   "cell_type": "markdown",
   "metadata": {
    "slideshow": {
     "slide_type": "slide"
    }
   },
   "source": [
    "<h2>Evaluating a linear equation in numpy</h2>\n",
    "<ul>\n",
    "    <li>If you had to evaluate a linear equation, you might be tempted to write a loop:</li>\n",
    "</ul>"
   ]
  },
  {
   "cell_type": "code",
   "execution_count": 4,
   "metadata": {
    "collapsed": false
   },
   "outputs": [
    {
     "data": {
      "text/plain": [
       "145"
      ]
     },
     "execution_count": 4,
     "metadata": {},
     "output_type": "execute_result"
    }
   ],
   "source": [
    "# Evaluate y = 12 + 3x1 + 4x2 + 5x3 in the case where x1=7, x2=3, x3=20\n",
    "y = 12\n",
    "for (beta_i, x_i) in zip(np.array([3, 4, 5]), np.array([7, 3, 20])):\n",
    "    y += beta_i * x_i\n",
    "    \n",
    "y"
   ]
  },
  {
   "cell_type": "markdown",
   "metadata": {},
   "source": [
    "<ul>\n",
    "    <li>\n",
    "        But you don't need to write your own loop: use numpy library's matrix multiplication method\n",
    "    </li>\n",
    "</ul>"
   ]
  },
  {
   "cell_type": "code",
   "execution_count": 5,
   "metadata": {
    "collapsed": false
   },
   "outputs": [
    {
     "data": {
      "text/plain": [
       "145"
      ]
     },
     "execution_count": 5,
     "metadata": {},
     "output_type": "execute_result"
    }
   ],
   "source": [
    "y = 12 + np.array([3, 4, 5]).dot(np.array([7, 3, 20]))\n",
    "\n",
    "y"
   ]
  },
  {
   "cell_type": "markdown",
   "metadata": {},
   "source": [
    "<h2>Linear Equations and Vectors: Tidying the maths</h2>\n",
    "<ul>\n",
    "    <li>Give a linear equation $y = \\beta_0 + \\beta_1 x_1 + \\beta_2 x_2 + \\ldots + \\beta_n x_n$, \n",
    "        <ul>\n",
    "            <li>we can gather the variables into a row vector but include an extra variable \n",
    "                $x_0$, whose value will always be 1: $\\rv{1,x_1,x_2, \\ldots, x_n}$</li>\n",
    "            <li>we can gather <em>all</em> the coefficients (including $\\beta_0$) into a column vector\n",
    "                vector $\\cv{\\beta_0\\\\ \\beta_1\\\\ \\beta_2\\\\ \\vdots\\\\ \\beta_n}$ (of the same dimension, $n+1$)\n",
    "            </li>\n",
    "            <li>E.g. from $y = 12 + 3x_1 + 4x_2 + 5x_3$, we get $\\v{x} = \\rv{1, x_1, x_2, x_3}$ and\n",
    "                $\\v{\\beta} = \\cv{12\\\\3\\\\4\\\\5}$\n",
    "            </li>\n",
    "            <li>What are the two vectors for $y = 7 + 20x_1 + x_3$?</li>\n",
    "        </ul>\n",
    "    </li>\n",
    "    <li>Hence, the linear equation $y = \\beta_0 + \\beta_1 x_1 + \\beta_2 x_2 + \\ldots + \\beta_n x_n$ can\n",
    "        equivalently be written in this form:\n",
    "        $$y = \\sum_{i=0}^n \\v{\\beta}_i\\v{x}_i$$\n",
    "    </li>\n",
    "    <li>It can also, equivalently, be written in this form:\n",
    "        $$y = \\v{x}\\v{\\beta}$$\n",
    "    </li>\n",
    "    <li>Hence, to evaluate a linear equation, simply multiply the two vectors\n",
    "    </li>\n",
    "</ul>"
   ]
  },
  {
   "cell_type": "code",
   "execution_count": 6,
   "metadata": {
    "collapsed": false
   },
   "outputs": [
    {
     "data": {
      "text/plain": [
       "145"
      ]
     },
     "execution_count": 6,
     "metadata": {},
     "output_type": "execute_result"
    }
   ],
   "source": [
    "y = np.array([12, 3, 4, 5]).dot(np.array([1, 7, 3, 20]))\n",
    "\n",
    "y"
   ]
  },
  {
   "cell_type": "markdown",
   "metadata": {
    "slideshow": {
     "slide_type": "slide"
    }
   },
   "source": [
    "<h1>Evaluating Linear Equations and Matrices</h1>\n",
    "<ul>\n",
    "    <li>Suppose you need to evaluate the same linear equation lots of times &mdash; with different values \n",
    "        for $\\v{x}$\n",
    "        <ul>\n",
    "            <li>E.g. evaluate $y = 12 + 3x_1 + 4x_2 + 5x_3$ for\n",
    "                <ul>\n",
    "                    <li>$x_1 = 7, x_2 = 3, x_3 = 20$ and</li>\n",
    "                    <li>$x_1 = 10, x_2 = 20, x_3 = 0$ and</li>\n",
    "                    <li>$x_1 = 1, x_2 = 1, x_3 = 1$ and</li>\n",
    "                    <li>$x_1 = 100, x_2 = 0, x_3 = -2$</li>\n",
    "                </ul>\n",
    "            </li>\n",
    "        </ul>\n",
    "    </li>\n",
    "    <li>If we gather the values for the variables into a matrix, $\\v{X}$, but with an extra element \n",
    "        $\\v{x}_0^{(i)}$ in each row $i$, all of which will be 1, then we can obtain all the\n",
    "        results by simple matrix multiplication:\n",
    "        $$y = \\v{X}\\v{\\beta}$$\n",
    "        <ul>\n",
    "            <li>E.g.\n",
    "                $$\n",
    "                \\v{y} =\n",
    "                \\begin{bmatrix}\n",
    "                    1 & 7 & 3 & 20 \\\\\n",
    "                    1 & 10 & 20 & 0 \\\\\n",
    "                    1 & 1 & 1 & 1 \\\\\n",
    "                    1 & 100 & 0 & -2\n",
    "                \\end{bmatrix}\n",
    "                \\cv{12\\\\ 3\\\\ 4\\\\ 5}\n",
    "                $$\n",
    "            </li>\n",
    "        </ul>\n",
    "        It produces a vector of results, e.g. $\\v{y} = \\cv{145\\\\122\\\\24\\\\302}$\n",
    "    </li>\n",
    "</ul>"
   ]
  },
  {
   "cell_type": "markdown",
   "metadata": {
    "slideshow": {
     "slide_type": "slide"
    }
   },
   "source": [
    "<h2>Evaluating a linear equation multiple times in numpy</h2>\n",
    "<ul>\n",
    "    <li>Same story: no loop, use matrix mutliplication</li>\n",
    "</ul>"
   ]
  },
  {
   "cell_type": "code",
   "execution_count": 7,
   "metadata": {
    "collapsed": false
   },
   "outputs": [
    {
     "data": {
      "text/plain": [
       "array([145, 122,  24, 302])"
      ]
     },
     "execution_count": 7,
     "metadata": {},
     "output_type": "execute_result"
    }
   ],
   "source": [
    "y = np.array([[1, 7, 3, 20], [1, 10, 20, 0], [1, 1, 1, 1], [1, 100, 0, -2]]).dot(np.array([12, 3, 4, 5]))\n",
    "y"
   ]
  },
  {
   "cell_type": "markdown",
   "metadata": {},
   "source": [
    "<ul>\n",
    "    <li>This is <b>vectorization</b> again: concise, fast code!</li>\n",
    "</ul>"
   ]
  },
  {
   "cell_type": "markdown",
   "metadata": {
    "slideshow": {
     "slide_type": "slide"
    }
   },
   "source": [
    "<h1>Linear Models</h1>\n",
    "<ul>\n",
    "    <li>Recall: We want to learn a model from a labeled training set</li>\n",
    "    <li>For the remainder of <i>CS4618</i> (but not <i>CS4619</i>), \n",
    "        we will content ourselves with learning a linear model\n",
    "        <ul>\n",
    "            <li>In regression, we'll try to find a linear equation that best fits the training examples</li>\n",
    "            <li>In classification, we'll try to find a linear equation that best separates training\n",
    "                examples from different\n",
    "                classes\n",
    "            </li>\n",
    "        </ul>\n",
    "    </li>\n",
    "    <li>We'll start with regression and we'll begin by assuming there's\n",
    "        only one feature (in stats-speak: 'univariate')\n",
    "    </li>\n",
    "</ul>"
   ]
  },
  {
   "cell_type": "markdown",
   "metadata": {
    "collapsed": true,
    "slideshow": {
     "slide_type": "slide"
    }
   },
   "source": [
    "<h1>Linear Regression: Univariate</h1>\n",
    "<ul>\n",
    "    <li>We'll read in the (cleaned-up version of the) Cork Property Prices dataset and ignore all features other than\n",
    "        $\\mathit{flarea}$\n",
    "    </li>\n",
    "    <li>For the purposes of this explanation, we won't scale the data: so no need for a pipeline</li>\n",
    "    <li>We'll also extract the prices (the target values)</li>\n",
    "    <li>Also for the purposes of this explanation, we will use the entire dataset as our training set\n",
    "        <ul>\n",
    "            <li>We will learn later that using <em>all</em> the data for training is usually not\n",
    "                the right thing to do\n",
    "            </li>\n",
    "        </ul>\n",
    "    </li>\n",
    "</ul>"
   ]
  },
  {
   "cell_type": "code",
   "execution_count": 8,
   "metadata": {
    "collapsed": true
   },
   "outputs": [],
   "source": [
    "# Use pandas to read the CSV file\n",
    "df = pd.read_csv(\"datasets/dataset_corkA.csv\")\n",
    "\n",
    "# Get the feature-values (just flarea) and the target values \n",
    "flareas = df[\"flarea\"]\n",
    "prices = df[\"price\"]"
   ]
  },
  {
   "cell_type": "code",
   "execution_count": 9,
   "metadata": {
    "collapsed": false
   },
   "outputs": [
    {
     "data": {
      "image/png": "[encoded data removed]",
      "text/plain": [
       "<matplotlib.figure.Figure at 0x7efffb8c6358>"
      ]
     },
     "metadata": {},
     "output_type": "display_data"
    }
   ],
   "source": [
    "# Plot the data\n",
    "fig = plt.figure()\n",
    "plt.title(\"Training set\")\n",
    "plt.scatter(flareas, prices, color = 'green')\n",
    "plt.xlabel(\"Floor area (sq metres)\")\n",
    "plt.xlim(0, 500)\n",
    "plt.ylabel(\"Price (000 euros)\")\n",
    "plt.ylim(0, 1000)\n",
    "plt.show()"
   ]
  },
  {
   "cell_type": "markdown",
   "metadata": {},
   "source": [
    "<ul>\n",
    "    <li>The goal of our learning algorithm is to fit a linear model to this data:\n",
    "        $$\\hat{y} = \\beta_0 + \\beta_1 \\times \\mathit{flarea}$$\n",
    "    </li>\n",
    "    <li>In other words, our goal is to choose values for $\\beta_0$ and $\\beta_1$\n",
    "        <ul>\n",
    "            <li>From the point of view of plotting this line, what's $\\beta_0$? What's $\\beta_1$?</li>\n",
    "            <li>E.g. we could choose $\\beta_0 = 800$ and $\\beta_1 = -5$</li>\n",
    "            <li>Or we could choose $\\beta_0 = 200$ and $\\beta_1 = 5$</li>\n",
    "        </ul>\n",
    "        Lets' refer to any particular choice as $h_{\\v{\\beta}}$ ($h$ for <b>hypothesis</b>)\n",
    "            <ul>\n",
    "                <li>The first example above is $h_{\\rv{800, -5}}$</li>\n",
    "                <li>The second example above is $h_{\\rv{200, 5}}$</li>\n",
    "            </ul>\n",
    "    </li>\n",
    "    <li>But there is an infinite set of linear models the algorithm can choose from\n",
    "        <ul>\n",
    "            <li>An infinite number of straight lines it can draw</li>\n",
    "            <li>Or, equivalently, an infinite set of values from which it can pick $\\beta_0$ and $\\beta_1$</li>\n",
    "        </ul>\n",
    "    </li>\n",
    "    <li>We want it to choose the one that best fits the data</li>\n",
    "</ul>"
   ]
  },
  {
   "cell_type": "markdown",
   "metadata": {
    "slideshow": {
     "slide_type": "slide"
    }
   },
   "source": [
    "<h2>Loss functions</h2>\n",
    "<ul>\n",
    "    <li>The algorithm needs a function that measures how well a model (hypothesis) fits the data\n",
    "        <ul>\n",
    "            <li>This is called its <b>loss function</b>, designated $J$</li>\n",
    "            <li>The function takes in a particular $h_{\\v{\\beta}}$ and gives it a score\n",
    "                <ul>\n",
    "                    <li>Low numbers are better!</li>\n",
    "                </ul>\n",
    "            </li>\n",
    "            <li>For each $\\v{x}$ in the training set, it will compare $h_{\\v{\\beta}}(\\v{x})$, which is the\n",
    "                <em>prediction</em> that $h_{\\v{\\beta}}$ makes on $\\v{x}$, with the <em>actual</em>\n",
    "                value $y$\n",
    "            </li>\n",
    "        </ul>\n",
    "    </li>\n",
    "    <li>The loss function most usually used for linear regression is the <b>mean squared error</b>:\n",
    "        <ul>\n",
    "            <li>The difference between the prediction and the actual value, squared</li>\n",
    "            <li>But averaged over all the examples in the training set</li>\n",
    "        </ul>\n",
    "        $$J(\\v{X}, \\v{y}, h_{\\v{\\beta}}) = \\frac{1}{m}\\sum_{i=1}^m(h_{\\v{\\beta}}(\\v{x}^{i)}) - \\v{y}^{(i)})^2$$\n",
    "        <ul>\n",
    "            <li>Why do you think we square the differences? (Two reasons)</li>\n",
    "        </ul>\n",
    "    </li>\n",
    "    <li>The best model is the one that <em>minimizes</em> the loss function</li>\n",
    "    <li>Hence, this is often referred to as <b>ordinary least-squares regression</b> (OLS)</li>\n",
    "    <li>In fact, we often divide by 2:\n",
    "        $$J(\\v{X}, \\v{y}, h_{\\v{\\beta}}) = \\frac{1}{2m}\\sum_{i=1}^m(h_{\\v{\\beta}}(\\v{x}^{i)}) - \\v{y}^{(i)})^2$$\n",
    "        &mdash; the 'winner' is still the same, but this makes the calculus 'tidier' later\n",
    "    </li>\n",
    "</ul>"
   ]
  },
  {
   "cell_type": "markdown",
   "metadata": {
    "slideshow": {
     "slide_type": "slide"
    }
   },
   "source": [
    "<h2>The loss function in numpy</h2>\n",
    "<ul>\n",
    "    <li>Looks like a loop: work out $h_{\\v{\\beta}}$ for each $\\v{x}^{(i)}$\n",
    "        <ul>\n",
    "            <li>But $h_{\\v{\\beta}}$ is a linear equation, and we want to evaluate it lots of times (for\n",
    "                each example $\\v{x}^{(i)}$)\n",
    "            </li>\n",
    "            <li>So we use the vectorized approach from above (assuming all the examples contain an\n",
    "                extra element, $\\v{x}_0^{(i)} = 1$)\n",
    "            </li>\n",
    "        </ul>\n",
    "    </li>\n",
    "    <li>So our code can simply do this:\n",
    "        $$J(\\v{X}, \\v{y}, \\v{\\beta}) = \\frac{1}{2m}(\\v{X}\\v{\\beta} - \\v{y})^2$$\n",
    "    </li>\n",
    "</ul>"
   ]
  },
  {
   "cell_type": "code",
   "execution_count": 10,
   "metadata": {
    "collapsed": false
   },
   "outputs": [],
   "source": [
    "# Loss function for OLS regression (assumes X contains all 1s in its first column)\n",
    "def J(X, y, beta):\n",
    "    return np.mean((X.dot(beta) - y) ** 2) / 2.0"
   ]
  },
  {
   "cell_type": "markdown",
   "metadata": {
    "slideshow": {
     "slide_type": "slide"
    }
   },
   "source": [
    "<h2>Now let's find a model</h2>"
   ]
  },
  {
   "cell_type": "code",
   "execution_count": 11,
   "metadata": {
    "collapsed": false
   },
   "outputs": [],
   "source": [
    "# Use pandas to read the CSV file\n",
    "df = pd.read_csv(\"datasets/dataset_corkA.csv\")\n",
    "\n",
    "# Get the feature-values (just flarea) and the target values \n",
    "X = df[[\"flarea\"]].values\n",
    "y = df[\"price\"].values\n",
    "\n",
    "# Add the extra column to X\n",
    "X_augmented = add_dummy_feature(X)"
   ]
  },
  {
   "cell_type": "code",
   "execution_count": 12,
   "metadata": {
    "collapsed": false
   },
   "outputs": [],
   "source": [
    "# I invite yout to modify these values \n",
    "beta = np.array([800, -5])\n",
    "\n",
    "# Calculate the loss\n",
    "loss = J(X_augmented, y, beta)"
   ]
  },
  {
   "cell_type": "code",
   "execution_count": 13,
   "metadata": {
    "collapsed": false
   },
   "outputs": [
    {
     "data": {
      "image/png": "[encoded data removed]",
      "text/plain": [
       "<matplotlib.figure.Figure at 0x7efff945aa58>"
      ]
     },
     "metadata": {},
     "output_type": "display_data"
    }
   ],
   "source": [
    "# Then plot the training data and the model\n",
    "fig = plt.figure()\n",
    "plt.title(\"Training set and learned model\")\n",
    "plt.scatter(X, y, color = \"green\")\n",
    "xvals = np.array([[1, 0], [1, 500]])\n",
    "plt.plot(xvals, xvals.dot(beta), color = \"blue\")\n",
    "plt.text(10, 900, \"Loss: \" + str(loss), color = \"red\")\n",
    "plt.xlabel(\"Floor area (sq metres)\")\n",
    "plt.xlim(0, 500)\n",
    "plt.ylabel(\"Price (000 euros)\")\n",
    "plt.ylim(0, 1000)\n",
    "plt.show()"
   ]
  },
  {
   "cell_type": "markdown",
   "metadata": {},
   "source": [
    "<ul>\n",
    "    <li>Keep modifying $\\v{\\beta}$ until you find the lowest loss</li>\n",
    "</ul>"
   ]
  },
  {
   "cell_type": "markdown",
   "metadata": {
    "slideshow": {
     "slide_type": "slide"
    }
   },
   "source": [
    "<h1>Linear Regression: Multivariate</h1>\n",
    "<ul>\n",
    "    <li>We considered only one feature ($\\mathit{flarea}$)\n",
    "        <ul>\n",
    "            <li>This enabled easy visualisation on a 2D plot</li>\n",
    "            <li>The model is a straight line</li>\n",
    "        </ul>\n",
    "    </li>\n",
    "    <li>The only differences when we move to more than one feature (stats-speak: multivariate):\n",
    "        <ul>\n",
    "            <li>We can't plot so easily</li>\n",
    "            <li>The model is a plane (when there are two features)</li>\n",
    "            <li>The model is a hyperplane (when there are more than two features)</li>\n",
    "        </ul>\n",
    "    </li>\n",
    "    <li><em>All the maths and the Python for the loss function remain the same</em></li>\n",
    "</ul>"
   ]
  },
  {
   "cell_type": "markdown",
   "metadata": {
    "slideshow": {
     "slide_type": "slide"
    }
   },
   "source": [
    "<h2>Now let's find a model using two features</h2>"
   ]
  },
  {
   "cell_type": "code",
   "execution_count": 14,
   "metadata": {
    "collapsed": true
   },
   "outputs": [],
   "source": [
    "# Use pandas to read the CSV file\n",
    "df = pd.read_csv(\"datasets/dataset_corkA.csv\")\n",
    "\n",
    "# Get the feature-values (just bdrms and bthrms) and the target values \n",
    "X = df[[\"bdrms\", \"bthrms\"]].values\n",
    "y = df[\"price\"].values\n",
    "\n",
    "# Add the extra column to X\n",
    "X_augmented = add_dummy_feature(X)"
   ]
  },
  {
   "cell_type": "code",
   "execution_count": 15,
   "metadata": {
    "collapsed": true
   },
   "outputs": [],
   "source": [
    "# I invite you to modify these values \n",
    "beta = np.array([100, 50, 50])\n",
    "\n",
    "# Calculate the loss\n",
    "loss = J(X_augmented, y, beta)"
   ]
  },
  {
   "cell_type": "code",
   "execution_count": 16,
   "metadata": {
    "collapsed": false
   },
   "outputs": [
    {
     "data": {
      "image/png": "[encoded data removed]",
      "text/plain": [
       "<matplotlib.figure.Figure at 0x7efff9199198>"
      ]
     },
     "metadata": {},
     "output_type": "display_data"
    }
   ],
   "source": [
    "# Then plot the training data and the model\n",
    "fig = plt.figure()\n",
    "ax = Axes3D(fig)\n",
    "ax.set_title(\"Training set and learned model\")\n",
    "ax.scatter(X[:,0], X[:,1], y, color = \"green\")\n",
    "xvals = np.linspace(0, 10, 2)\n",
    "yvals = np.linspace(0, 10, 2)\n",
    "xxvals, yyvals = np.meshgrid(xvals, yvals)\n",
    "ax.plot_surface(xxvals, yyvals, beta[0] + beta[1] * xxvals + beta[2] * yyvals)  \n",
    "ax.text(6, 14, 900, \"Loss: \" + str(loss), color = \"red\")\n",
    "ax.set_xlabel(\"Bedrooms\")\n",
    "ax.set_xlim(0,10)\n",
    "ax.set_ylabel(\"Bathrooms\")\n",
    "ax.set_ylim(0, 10)\n",
    "ax.set_zlabel(\"Price (000 euros)\")\n",
    "ax.set_zlim(0, 1000)\n",
    "plt.show()"
   ]
  },
  {
   "cell_type": "markdown",
   "metadata": {},
   "source": [
    "<ul>\n",
    "    <li>Keep modifying $\\v{\\beta}$ until you find the lowest loss</li>\n",
    "</ul>"
   ]
  },
  {
   "cell_type": "markdown",
   "metadata": {},
   "source": [
    "<ul>\n",
    "    <li>We can't do a similar example with 3 or more features\n",
    "        <ul>\n",
    "            <li>Because we can't plot them</li>\n",
    "        </ul>\n",
    "    </li>\n",
    "</ul>"
   ]
  },
  {
   "cell_type": "markdown",
   "metadata": {
    "slideshow": {
     "slide_type": "slide"
    }
   },
   "source": [
    "<h1>Finding OLS Models</h1>\n",
    "<ul>\n",
    "    <li>We've been trying out different values for $\\v{\\beta}$, looking for the model with\n",
    "        lowest mean squared error\n",
    "        <ul>\n",
    "            <li>by trial and error!</li>\n",
    "        </ul>\n",
    "        In practice, it is not done by trial-and-error\n",
    "    </li>\n",
    "    <li>There are two main methods:\n",
    "        <ul>\n",
    "            <li>The normal equation (<code>LinearRegression</code> class in scikit-learn)</li>\n",
    "            <li>Various forms of gradient descent (<code>SGDRegressor</code> class in scikit-learn)</li>\n",
    "        </ul>\n",
    "    </li>\n",
    "    <li>We give a quick example of the first of these\n",
    "        <ul>\n",
    "            <li>(No need to add the extra column: the <code>LinearRegression</code> class does it for us)</li>\n",
    "        </ul>\n",
    "    </li>\n",
    "</ul>"
   ]
  },
  {
   "cell_type": "code",
   "execution_count": 17,
   "metadata": {
    "collapsed": true
   },
   "outputs": [],
   "source": [
    "# Use pandas to read the CSV file into a DataFrame\n",
    "df = pd.read_csv(\"datasets/dataset_corkA.csv\")"
   ]
  },
  {
   "cell_type": "code",
   "execution_count": 18,
   "metadata": {
    "collapsed": false
   },
   "outputs": [],
   "source": [
    "# The features we want to select\n",
    "numeric_features = [\"flarea\", \"bdrms\", \"bthrms\", \"floors\"]\n",
    "nominal_features = [\"type\", \"devment\", \"ber\", \"location\"]\n",
    "\n",
    "# Create the pipelines\n",
    "numeric_pipeline = Pipeline([\n",
    "        (\"selector\", DataFrameSelector(numeric_features))\n",
    "    ])\n",
    "\n",
    "nominal_pipeline = Pipeline([\n",
    "        (\"selector\", DataFrameSelector(nominal_features)), \n",
    "        (\"binarizer\", FeatureBinarizer([df[feature].unique() for feature in nominal_features]))])\n",
    "\n",
    "pipeline = Pipeline([(\"union\", FeatureUnion([(\"numeric_pipeline\", numeric_pipeline), \n",
    "                                             (\"nominal_pipeline\", nominal_pipeline)]))])"
   ]
  },
  {
   "cell_type": "code",
   "execution_count": 19,
   "metadata": {
    "collapsed": true
   },
   "outputs": [],
   "source": [
    "# Create the estimator\n",
    "linreg = LinearRegression()"
   ]
  },
  {
   "cell_type": "code",
   "execution_count": 20,
   "metadata": {
    "collapsed": true
   },
   "outputs": [],
   "source": [
    "# Get the labels\n",
    "y = df[\"price\"].values"
   ]
  },
  {
   "cell_type": "code",
   "execution_count": 21,
   "metadata": {
    "collapsed": false
   },
   "outputs": [],
   "source": [
    "# Run the pipeline to prepare the data\n",
    "pipeline.fit(df)\n",
    "X = pipeline.transform(df)"
   ]
  },
  {
   "cell_type": "code",
   "execution_count": 22,
   "metadata": {
    "collapsed": false
   },
   "outputs": [
    {
     "data": {
      "text/plain": [
       "LinearRegression(copy_X=True, fit_intercept=True, n_jobs=1, normalize=False)"
      ]
     },
     "execution_count": 22,
     "metadata": {},
     "output_type": "execute_result"
    }
   ],
   "source": [
    "# Fit the linear model\n",
    "linreg.fit(X, y)"
   ]
  },
  {
   "cell_type": "code",
   "execution_count": 23,
   "metadata": {
    "collapsed": false
   },
   "outputs": [
    {
     "data": {
      "text/plain": [
       "array([ 270.2835876])"
      ]
     },
     "execution_count": 23,
     "metadata": {},
     "output_type": "execute_result"
    }
   ],
   "source": [
    "# Create your house\n",
    "your_house_df = pd.DataFrame([{\"flarea\":114.0, \"type\":\"Semi-detached\", \"bdrms\":3, \"bthrms\":2, \"floors\":2,  \n",
    "                               \"devment\":\"SecondHand\", \"ber\":\"B2\", \"location\":\"Glasheen\"}])\n",
    "\n",
    "# Transform it using the pipeline\n",
    "your_house_scaled = pipeline.transform(your_house_df)\n",
    "\n",
    "# Predict its selling price\n",
    "linreg.predict(your_house_scaled)"
   ]
  },
  {
   "cell_type": "markdown",
   "metadata": {},
   "source": [
    "<ul>\n",
    "    <li>(In the next lecture, we will see how to include the linar regression step in the pipeline)</li>\n",
    "</ul>"
   ]
  },
  {
   "cell_type": "code",
   "execution_count": null,
   "metadata": {
    "collapsed": true
   },
   "outputs": [],
   "source": []
  }
 ],
 "metadata": {
  "celltoolbar": "Slideshow",
  "kernelspec": {
   "display_name": "Python 3",
   "language": "python",
   "name": "python3"
  },
  "language_info": {
   "codemirror_mode": {
    "name": "ipython",
    "version": 3
   },
   "file_extension": ".py",
   "mimetype": "text/x-python",
   "name": "python",
   "nbconvert_exporter": "python",
   "pygments_lexer": "ipython3",
   "version": "3.5.1"
  }
 },
 "nbformat": 4,
 "nbformat_minor": 0
}
