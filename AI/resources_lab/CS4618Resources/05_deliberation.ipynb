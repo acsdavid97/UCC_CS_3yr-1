{
 "cells": [
  {
   "cell_type": "markdown",
   "metadata": {
    "slideshow": {
     "slide_type": "slide"
    }
   },
   "source": [
    "<h1>CS4618: Artificial Intelligence I</h1>\n",
    "<h1>Deliberative Agents</h1>\n",
    "<h2>\n",
    "    Derek Bridge<br>\n",
    "    School of Computer Science and Information Technology<br>\n",
    "    University College Cork\n",
    "</h2>"
   ]
  },
  {
   "cell_type": "markdown",
   "metadata": {
    "slideshow": {
     "slide_type": "skip"
    }
   },
   "source": [
    "<h1>Initialization</h1>\n",
    "$\\newcommand{\\Set}[1]{\\{#1\\}}$ \n",
    "$\\newcommand{\\Tuple}[1]{\\langle#1\\rangle}$ \n",
    "$\\newcommand{\\v}[1]{\\pmb{#1}}$ \n",
    "$\\newcommand{\\cv}[1]{\\begin{bmatrix}#1\\end{bmatrix}}$ \n",
    "$\\newcommand{\\rv}[1]{[#1]}$ \n",
    "$\\DeclareMathOperator{\\argmax}{arg\\,max}$ \n",
    "$\\DeclareMathOperator{\\argmin}{arg\\,min}$ \n",
    "$\\DeclareMathOperator{\\dist}{dist}$\n",
    "$\\DeclareMathOperator{\\abs}{abs}$"
   ]
  },
  {
   "cell_type": "code",
   "execution_count": 3,
   "metadata": {
    "collapsed": false,
    "slideshow": {
     "slide_type": "skip"
    }
   },
   "outputs": [],
   "source": [
    "%reload_ext autoreload\n",
    "%autoreload 2\n",
    "%matplotlib inline"
   ]
  },
  {
   "cell_type": "code",
   "execution_count": 4,
   "metadata": {
    "collapsed": false,
    "slideshow": {
     "slide_type": "skip"
    }
   },
   "outputs": [],
   "source": [
    "import pandas as pd\n",
    "import numpy as np\n",
    "import matplotlib.pyplot as plt"
   ]
  },
  {
   "cell_type": "markdown",
   "metadata": {
    "slideshow": {
     "slide_type": "slide"
    }
   },
   "source": [
    "<h1>Thinking ahead</h1>\n",
    "<ul>\n",
    "    <li>In the sense-plan-act cycle, the plan phase should generally be more deliberative</li>\n",
    "    <li>Thinking ahead is a form of simulation\n",
    "        <ul>\n",
    "            <li>Trying out actions on a mental representation prior to executing the actions \n",
    "                in the actual world\n",
    "            </li>\n",
    "        </ul>\n",
    "    </li>\n",
    "    <li>Class exercise: Give precise reasons why thinking ahead is advantageous: what can go \n",
    "        wrong if you don’t think ahead?\n",
    "    </li>\n",
    "    <li>Class exercise: Are there times when thinking ahead is disadvantageous: what can go \n",
    "        wrong if you do think ahead?\n",
    "    </li>\n",
    "</ul>"
   ]
  },
  {
   "cell_type": "markdown",
   "metadata": {
    "slideshow": {
     "slide_type": "slide"
    }
   },
   "source": [
    "<h1>Planning sequences of actions</h1>\n",
    "<ul>\n",
    "    <li>Often, the agent will plan whole sequences of actions</li>\n",
    "    <li>But, there are at least two ways of integrating this with execution:\n",
    "        <figure>\n",
    "            <img src=\"images/05_planning1.png\" /><br />\n",
    "            <img src=\"images/05_planning2.png\" />\n",
    "        </figure>\n",
    "    </li>\n",
    "    <li>\n",
    "        Class exercise: The second approach appears to be wasteful. But the first approach is suitable only for certain \n",
    "        environments. What kinds of environments?\n",
    "    </li>\n",
    "</ul>"
   ]
  },
  {
   "cell_type": "markdown",
   "metadata": {
    "slideshow": {
     "slide_type": "slide"
    }
   },
   "source": [
    "<h1>State space</h1>\n",
    "<ul>\n",
    "    <li>We implement deliberation (thinking ahead) as a form of <b>search</b> through a directed graph\n",
    "    <li><b>State space</b>:\n",
    "        <ul>\n",
    "            <li>all states reachable by sequences of actions from some start state</li>\n",
    "        </ul>\n",
    "    </li>\n",
    "    <li>Represented by a directed graph in which \n",
    "        <ul>\n",
    "            <li>nodes represent states of the world</li>\n",
    "            <li>edges represent actions (state transformations)</li>\n",
    "        </ul>\n",
    "    </li>\n",
    "    <li>The task is to find a <b>path</b> from the node labelled by the <b>start state</b> \n",
    "        to one of the nodes labelled by <b>goal states</b>\n",
    "    </li>\n",
    "</ul>"
   ]
  },
  {
   "cell_type": "markdown",
   "metadata": {
    "slideshow": {
     "slide_type": "slide"
    }
   },
   "source": [
    "<h1>State space</h1>\n",
    "<ul>\n",
    "    <li>In AI, the graph may be too large to specify and store explicitly</li>\n",
    "    <li>Instead, specify it implicitly:\n",
    "        <ul>\n",
    "            <li>The start state</li>\n",
    "            <li>The set of operators for transforming states to other states</li>\n",
    "            <li>The goal condition that can detect whether a state is a goal state</li>\n",
    "        </ul>\n",
    "    </li>\n",
    "    <li>There can also be a path cost function, $g$</li>\n",
    "</ul>"
   ]
  },
  {
   "cell_type": "markdown",
   "metadata": {
    "slideshow": {
     "slide_type": "slide"
    }
   },
   "source": [
    "<h1>The 8-puzzle</h1>\n",
    "<ul>\n",
    "    <li>Sliding 8 numbered tiles around a $3 \\times 3$ grid</li>\n",
    "    <li>How to represent the states:\n",
    "        <ul>\n",
    "            <li>$3 \\times 3$ array of integers</li>\n",
    "        </ul>\n",
    "    </li>\n",
    "    <li>Start state, e.g.:\n",
    "        <table>\n",
    "            <tr><td>2</td><td>8</td><td>3</td></tr>\n",
    "            <tr><td>1</td><td>6</td><td>4</td></tr>\n",
    "            <tr><td>7</td><td> </td><td>5</td></tr>\n",
    "        </table>\n",
    "    </li>\n",
    "    <li>Operators:\n",
    "        <ul>\n",
    "            <li>If blank is not leftmost, move it left by 1</li>\n",
    "            <li>If blank is not uppermost, move it up by 1</li>\n",
    "            <li>Etc.</li>\n",
    "        </ul>\n",
    "    </li>\n",
    "    <li>Goal state, e.g.:\n",
    "        <table>\n",
    "            <tr><td>1</td><td>2</td><td>3</td></tr>\n",
    "            <tr><td>8</td><td> </td><td>4</td></tr>\n",
    "            <tr><td>7</td><td>6</td><td>5</td></tr>\n",
    "        </table>\n",
    "    </li>\n",
    "</ul>"
   ]
  },
  {
   "cell_type": "markdown",
   "metadata": {
    "slideshow": {
     "slide_type": "slide"
    }
   },
   "source": [
    "<h1>8-puzzle state space</h1>\n",
    "<figure>\n",
    "    <img src=\"images/05_8puzzle.png\" />\n",
    "</figure>\n",
    "<ul>\n",
    "    <li>This state space has $9!=362,800$ states</li>\n",
    "</ul>"
   ]
  },
  {
   "cell_type": "markdown",
   "metadata": {
    "slideshow": {
     "slide_type": "slide"
    }
   },
   "source": [
    "<h1>The water jugs problem</h1>\n",
    "<ul>\n",
    "    <li>A 4-gallon jug and 3-gallon jug with no measuring markers, and a tap</li>\n",
    "    <li>Must get exactly 2 gallons into the 4-gallon jug</li>\n",
    "    <li>Representation of states\n",
    "        <ul>\n",
    "            <li>Pair of integers, $\\Tuple{x, y}$</li>\n",
    "            <li>$x$ is the amount of water in the 4-gallon jug, $x \\in \\Set{0,1,2,3,4}$</li>\n",
    "            <li>$y$ is the amount of water in the 3-gallon jug, $y \\in \\Set{0,1,2,3}$</li>\n",
    "        </ul>\n",
    "    </li>\n",
    "    <li>Start state: $\\Tuple{0,0}$</li>\n",
    "    <li>Goal state: $\\Tuple{2,n}$</li>\n",
    "</ul>"
   ]
  },
  {
   "cell_type": "markdown",
   "metadata": {
    "slideshow": {
     "slide_type": "slide"
    }
   },
   "source": [
    "<h1>The water jugs operators</h1>\n",
    "<ol>\n",
    "    <li>If $x < 4$ then $\\Tuple{4, y}$</li>\n",
    "    <li>If $y < 3$ then $\\Tuple{x, 3}$</li>\n",
    "    <li>If $x > 0$ then $\\Tuple{0, y}$</li>\n",
    "    <li>If $y > 0$ then $\\Tuple{x, 0}$</li>\n",
    "    <li>If $x+y \\geq 4$ then $\\Tuple{4, y-(4-x)}$</li>\n",
    "    <li>If $x+y \\geq 3$ then $\\Tuple{x-(3-y),3}$</li>\n",
    "    <li>If $x+y \\leq 4 \\land y > 0$ then $\\Tuple{x+y, 0}$</li>\n",
    "    <li>If $x+y \\leq 3 \\land x > 0$ then $\\Tuple{0, x+y}$</li>\n",
    "</ol>"
   ]
  },
  {
   "cell_type": "markdown",
   "metadata": {
    "slideshow": {
     "slide_type": "slide"
    }
   },
   "source": [
    "<h1>The water jugs state space</h1>\n",
    "<figure>\n",
    "    <img src=\"images/05_jugs.png\" />\n",
    "</figure>"
   ]
  },
  {
   "cell_type": "markdown",
   "metadata": {
    "slideshow": {
     "slide_type": "slide"
    }
   },
   "source": [
    "<h1>Applications of state space search</h1>\n",
    "<ul>\n",
    "    <li>Route planning</li>\n",
    "    <li>Pathfinding in games</li>\n",
    "    <li>Cargo loading</li>\n",
    "    <li>Automatic assembly</li>\n",
    "    <li>&hellip;</li>\n",
    "</ul>"
   ]
  },
  {
   "cell_type": "code",
   "execution_count": null,
   "metadata": {
    "collapsed": true
   },
   "outputs": [],
   "source": []
  }
 ],
 "metadata": {
  "celltoolbar": "Slideshow",
  "kernelspec": {
   "display_name": "Python 3",
   "language": "python",
   "name": "python3"
  },
  "language_info": {
   "codemirror_mode": {
    "name": "ipython",
    "version": 3
   },
   "file_extension": ".py",
   "mimetype": "text/x-python",
   "name": "python",
   "nbconvert_exporter": "python",
   "pygments_lexer": "ipython3",
   "version": "3.5.1"
  }
 },
 "nbformat": 4,
 "nbformat_minor": 0
}
