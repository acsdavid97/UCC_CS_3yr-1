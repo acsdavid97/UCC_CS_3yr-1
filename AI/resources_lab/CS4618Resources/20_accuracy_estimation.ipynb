{
 "cells": [
  {
   "cell_type": "markdown",
   "metadata": {
    "slideshow": {
     "slide_type": "slide"
    }
   },
   "source": [
    "<h1>CS4618: Artificial Intelligence I</h1>\n",
    "<h1>Accuracy Estimation</h1>\n",
    "<h2>\n",
    "    Derek Bridge<br>\n",
    "    School of Computer Science and Information Technology<br>\n",
    "    University College Cork\n",
    "</h2>"
   ]
  },
  {
   "cell_type": "markdown",
   "metadata": {
    "slideshow": {
     "slide_type": "skip"
    }
   },
   "source": [
    "<h1>Initialization</h1>\n",
    "$\\newcommand{\\Set}[1]{\\{#1\\}}$ \n",
    "$\\newcommand{\\Tuple}[1]{\\langle#1\\rangle}$ \n",
    "$\\newcommand{\\v}[1]{\\pmb{#1}}$ \n",
    "$\\newcommand{\\cv}[1]{\\begin{bmatrix}#1\\end{bmatrix}}$ \n",
    "$\\newcommand{\\rv}[1]{[#1]}$ \n",
    "$\\DeclareMathOperator{\\argmax}{arg\\,max}$ \n",
    "$\\DeclareMathOperator{\\argmin}{arg\\,min}$ \n",
    "$\\DeclareMathOperator{\\dist}{dist}$\n",
    "$\\DeclareMathOperator{\\abs}{abs}$"
   ]
  },
  {
   "cell_type": "code",
   "execution_count": 1,
   "metadata": {
    "slideshow": {
     "slide_type": "skip"
    }
   },
   "outputs": [],
   "source": [
    "%reload_ext autoreload\n",
    "%autoreload 2\n",
    "%matplotlib inline"
   ]
  },
  {
   "cell_type": "code",
   "execution_count": 2,
   "metadata": {
    "slideshow": {
     "slide_type": "skip"
    }
   },
   "outputs": [],
   "source": [
    "import pandas as pd\n",
    "import numpy as np\n",
    "import matplotlib.pyplot as plt"
   ]
  },
  {
   "cell_type": "code",
   "execution_count": 3,
   "metadata": {},
   "outputs": [],
   "source": [
    "from sklearn.linear_model import LogisticRegression\n",
    "\n",
    "from sklearn.pipeline import Pipeline\n",
    "from sklearn.base import BaseEstimator, TransformerMixin\n",
    "\n",
    "from sklearn.preprocessing import StandardScaler\n",
    "from sklearn.preprocessing import LabelEncoder\n",
    "\n",
    "from sklearn.model_selection import ShuffleSplit\n",
    "from sklearn.model_selection import KFold\n",
    "from sklearn.model_selection import StratifiedShuffleSplit\n",
    "from sklearn.model_selection import StratifiedKFold\n",
    "from sklearn.model_selection import cross_val_score\n",
    "from sklearn.model_selection import cross_val_predict\n",
    "\n",
    "from sklearn.metrics import confusion_matrix\n",
    "\n",
    "from sklearn.dummy import DummyClassifier\n",
    "\n",
    "# Class, for use in pipelines, to select certain columns from a DataFrame and convert to a numpy array\n",
    "# From A. Geron: Hands-On Machine Learning with Scikit-Learn & TensorFlow, O'Reilly, 2017\n",
    "# Modified by Derek Bridge to allow for casting in the same ways as pandas.DataFrame.astype\n",
    "class DataFrameSelector(BaseEstimator, TransformerMixin):\n",
    "    def __init__(self, attribute_names, dtype=None):\n",
    "        self.attribute_names = attribute_names\n",
    "        self.dtype = dtype\n",
    "    def fit(self, X, y=None):\n",
    "        return self\n",
    "    def transform(self, X):\n",
    "        X_selected = X[self.attribute_names]\n",
    "        if self.dtype:\n",
    "            return X_selected.astype(self.dtype).values\n",
    "        return X_selected.values"
   ]
  },
  {
   "cell_type": "markdown",
   "metadata": {
    "slideshow": {
     "slide_type": "slide"
    }
   },
   "source": [
    "<h1>The CS1109 Dataset</h1>"
   ]
  },
  {
   "cell_type": "code",
   "execution_count": 4,
   "metadata": {
    "collapsed": true
   },
   "outputs": [],
   "source": [
    "df = pd.read_csv(\"datasets/dataset_cs1109.csv\")\n",
    "\n",
    "df = df.take(np.random.permutation(len(df)))\n",
    "\n",
    "y = df[\"outcome\"].values"
   ]
  },
  {
   "cell_type": "code",
   "execution_count": 5,
   "metadata": {
    "collapsed": true
   },
   "outputs": [],
   "source": [
    "# The features we want to select\n",
    "features = [\"lect\", \"lab\", \"cao\"]\n",
    "\n",
    "# Create the pipeline\n",
    "pipeline = Pipeline([\n",
    "        (\"selector\", DataFrameSelector(features, \"float64\")),\n",
    "        (\"scaler\", StandardScaler()),\n",
    "        (\"estimator\", LogisticRegression())\n",
    "    ])"
   ]
  },
  {
   "cell_type": "markdown",
   "metadata": {
    "slideshow": {
     "slide_type": "slide"
    }
   },
   "source": [
    "<h1>Evaluation Methods for Classification</h1>\n",
    "<ul>\n",
    "    <li>Holdout (and many other methods) rely on <em>randomly</em>\n",
    "        partitioning the dataset into a training set and a test set\n",
    "        <ul>\n",
    "            <li>We've discussed before that the split may be 'lucky' or 'unlucky', hence resampling methods\n",
    "                such as $k$-Fold Cross-Validation\n",
    "            </li>\n",
    "        </ul>\n",
    "    <li>In the case of classification, for example, the split might not reflect\n",
    "        the distribution of examples within the classes:\n",
    "        <ul>\n",
    "            <li>Examples of one class might be under-represented in the training set or test set</li>\n",
    "            <li>Examples of one class might even be completely absent from the training set or test set</li>\n",
    "        </ul>\n",
    "    </li>\n",
    "    <li><b>Stratification</b> is the solution to this: \n",
    "        <ul>\n",
    "            <li>In stratification, the proportion of examples of each class in the overall dataset is respected \n",
    "                in the partitioning into training and test sets\n",
    "            </li>\n",
    "            <li>Here's pseudocode for <b>stratified holdout</b>. For simplicity, the pseudocode only \n",
    "                covers the case of binary classification:\n",
    "                <ul style=\"background: lightgray\">\n",
    "                    <li>Divide the dataset into positive examples, $P$, and negative examples, $N$</li>\n",
    "                    <li>Randomly partition $P$ into $\\mathit{Train}_P$ and $\\mathit{Test}_P$</li>\n",
    "                    <li>Randomly partition $N$ into $\\mathit{Train}_N$ and $\\mathit{Test}_N$</li>\n",
    "                    <li>$\\mathit{Train} \\gets \\mathit{Train}_P \\cup \\mathit{Train}_N$</li>\n",
    "                    <li>$\\mathit{Test} \\gets \\mathit{Test}_P \\cup \\mathit{Test}_N$</li>\n",
    "                </ul>\n",
    "            </li>\n",
    "        </ul>\n",
    "    </li>\n",
    "    <li>Although this fixes the distribution with respect to the classes, you may still get 'lucky' or 'unlucky' \n",
    "        in other ways, so you will still want to do the above multiple times, e.g. <b>Stratified \n",
    "        $k$-Fold Cross-Validation</b>\n",
    "    </li>\n",
    "</ul>"
   ]
  },
  {
   "cell_type": "markdown",
   "metadata": {
    "slideshow": {
     "slide_type": "slide"
    }
   },
   "source": [
    "<h1>Stratification in scikit-learn</h1>"
   ]
  },
  {
   "cell_type": "code",
   "execution_count": 6,
   "metadata": {},
   "outputs": [
    {
     "data": {
      "text/plain": [
       "0.7142857142857143"
      ]
     },
     "execution_count": 6,
     "metadata": {},
     "output_type": "execute_result"
    }
   ],
   "source": [
    "# Stratified holdout\n",
    "\n",
    "ss = StratifiedShuffleSplit(n_splits=1, train_size=0.8)\n",
    "\n",
    "np.mean(cross_val_score(pipeline, df, y, scoring=\"accuracy\", cv=ss))"
   ]
  },
  {
   "cell_type": "code",
   "execution_count": 7,
   "metadata": {},
   "outputs": [
    {
     "data": {
      "text/plain": [
       "0.88571428571428568"
      ]
     },
     "execution_count": 7,
     "metadata": {},
     "output_type": "execute_result"
    }
   ],
   "source": [
    "# Compare the following, which doesn't use stratification, to the above, which does\n",
    "\n",
    "ss = ShuffleSplit(n_splits=1, train_size=0.8)\n",
    "\n",
    "np.mean(cross_val_score(pipeline, df, y, scoring=\"accuracy\", cv=ss))"
   ]
  },
  {
   "cell_type": "code",
   "execution_count": 8,
   "metadata": {},
   "outputs": [
    {
     "data": {
      "text/plain": [
       "0.79567099567099575"
      ]
     },
     "execution_count": 8,
     "metadata": {},
     "output_type": "execute_result"
    }
   ],
   "source": [
    "# Stratified k-fold cross-validation\n",
    "\n",
    "kf = StratifiedKFold(n_splits = 10)\n",
    "np.mean(cross_val_score(pipeline, df, y, scoring=\"accuracy\", cv=kf))"
   ]
  },
  {
   "cell_type": "code",
   "execution_count": 9,
   "metadata": {},
   "outputs": [
    {
     "data": {
      "text/plain": [
       "0.78689075630252092"
      ]
     },
     "execution_count": 9,
     "metadata": {},
     "output_type": "execute_result"
    }
   ],
   "source": [
    "# Again compare when we don't use stratification\n",
    "\n",
    "kf = KFold(n_splits = 10)\n",
    "np.mean(cross_val_score(pipeline, df, y, scoring=\"accuracy\", cv=kf))"
   ]
  },
  {
   "cell_type": "code",
   "execution_count": 10,
   "metadata": {},
   "outputs": [
    {
     "data": {
      "text/plain": [
       "0.79567099567099575"
      ]
     },
     "execution_count": 10,
     "metadata": {},
     "output_type": "execute_result"
    }
   ],
   "source": [
    "# If you use the shorthand on a classifier, you'll get stratification \n",
    "\n",
    "np.mean(cross_val_score(pipeline, df, y, scoring=\"accuracy\", cv=10))"
   ]
  },
  {
   "cell_type": "markdown",
   "metadata": {},
   "source": [
    "<h1>Performance Measurement for Classification</h1>\n",
    "<ul>\n",
    "    <li>We saw before that the performance measure we use to evaluate a predictor might be different\n",
    "        from the loss function we used when training it\n",
    "        <ul>\n",
    "            <li>E.g. for regression we might use MAE or RMSE to measure performance, but (half of) MSE as the loss function\n",
    "            </li>\n",
    "        </ul>\n",
    "        The same is true for classification but there is an even greater choice of performance measures\n",
    "    </li>  \n",
    "    <li>The obvious performance measure for a classifier is <b>accuracy</b> (used above): the ratio of the number of correct \n",
    "        predictions to number of predictions\n",
    "        made\n",
    "        <ul>\n",
    "            <li>If you like notation:\n",
    "                $$\\frac{1}{|T|}\\sum_{i = 1}^{|T|} I(\\hat{y}^{(i)} \\neq y^{(i)})$$\n",
    "                where $T$ is the set of examples on which you are testing the classifier and hence $|T|$ is \n",
    "                the number of examples, and $I(p)$ is the indicator function that outputs 1\n",
    "                if predicate $p$ is true and zero otherwise\n",
    "            </li>\n",
    "        </ul>\n",
    "    </li>\n",
    "</ul>"
   ]
  },
  {
   "cell_type": "markdown",
   "metadata": {},
   "source": [
    "<h1>The Confusion Matrix</h1>\n",
    "<ul>\n",
    "    <li>\n",
    "        The <b>confusion matrix</b> $CM$ for a classifier is a square $|C| \\times |C|$ matrix\n",
    "        <ul>\n",
    "            <li>In a confusion matrix, a cell $CM[i, j]$\n",
    "                contains the number of test examples of class $i$ that were classified as class $j$\n",
    "            </li>\n",
    "        </ul>\n",
    "    </li>\n",
    "    <li>\n",
    "        Here are examples of confusion matrices for a binary classifier and a multiclass classifier:\n",
    "        <div>\n",
    "            <table style=\"float: left\">\n",
    "                <tr>\n",
    "                    <th colspan=\"2\" rowspan=\"2\"></th><th colspan=\"2\">Predicted Class</th>\n",
    "                </tr>\n",
    "                <tr>\n",
    "                    <th>0</th><th>1</th>\n",
    "                </tr>\n",
    "                <tr>\n",
    "                    <th rowspan=\"2\">Actual Class</th><th>0</th><td>25</td><td>10</td>\n",
    "                </tr>\n",
    "                <tr>\n",
    "                    <th>1</th><td>20</td><td>45</td>\n",
    "                </tr>\n",
    "            </table>\n",
    "            <table>\n",
    "                <tr>\n",
    "                    <th colspan=\"2\" rowspan=\"2\"></th><th colspan=\"3\">Predicted Class</th>\n",
    "                </tr>\n",
    "                <tr>\n",
    "                    <th>0</th><th>1</th><th>2</th>\n",
    "                </tr>\n",
    "                <tr>\n",
    "                    <th rowspan=\"3\">Actual Class</th><th>0</th><td>10</td><td>0</td><td>15</td>\n",
    "                </tr>\n",
    "                <tr>\n",
    "                    <th>1</th><td>5</td><td>30</td><td>10</td>\n",
    "                </tr>\n",
    "                <tr>\n",
    "                    <th>2</th><td>5</td><td>5</td><td>20</td>\n",
    "                </tr>\n",
    "            </table>\n",
    "        </div>\n",
    "    </li>\n",
    "    <li>Let's assume a test set $T$\n",
    "        <ul>\n",
    "            <li>\n",
    "                The sum of all entries in $CM$ equals $|T|$\n",
    "            </li>\n",
    "            <li>\n",
    "                The sum of the entries in <em>row</em> $i$ is\n",
    "                the number of examples in $T$ that have class $i$\n",
    "            </li>\n",
    "            <li>\n",
    "                The sum of the entries in <em>column</em> $j$ is\n",
    "                the number of examples in $T$ that the classifier assigns to class $j$\n",
    "            </li>\n",
    "            <li>\n",
    "                Entries on the main diagonal $CM[i,i]$, are correctly classified, and so $\\sum_i CM[i,i]$ is\n",
    "                the total number of correctly classified examples.\n",
    "            </li>\n",
    "            <li>\n",
    "                Entries off the main diagonal, $CM[i, j], i\\neq j$, are incorrectly classified, and so \n",
    "                $\\sum_i\\sum_{j, j \\neq i} CM[i,j]$ is the total number of incorrectly classified examples.\n",
    "            </li>\n",
    "        </ul>\n",
    "    </li>\n",
    "    <li>So, in a word, what does this calculate?\n",
    "        $$\\frac{\\sum_i CM[i,i]}{|T|}$$\n",
    "    </li>\n",
    "</ul>"
   ]
  },
  {
   "cell_type": "markdown",
   "metadata": {
    "collapsed": true
   },
   "source": [
    "<h1>Confusion Matrices for Binary Classification</h1>\n",
    "<ul>\n",
    "    <li>In the case of <em>binary classification</em>, where we distinguish a positive class from a negative class,\n",
    "    there is some special terminology associated with the cells of the confusion matrix:\n",
    "        <table>\n",
    "            <tr>\n",
    "                <th colspan=\"2\" rowspan=\"2\"></th><th colspan=\"2\">Predicted Class</th>\n",
    "            </tr>\n",
    "            <tr>\n",
    "                <th>0</th><th>1</th>\n",
    "            </tr>\n",
    "            <tr>\n",
    "                <th rowspan=\"2\">Actual Class</th><th>0</th><td>True Negatives</td><td>False Positives</td>\n",
    "            </tr>\n",
    "            <tr>\n",
    "                <th>1</th><td>False Negatives</td><td>True Positives</td>\n",
    "            </tr>\n",
    "        </table>\n",
    "    </li>\n",
    "    <li>The True Negatives (TN) and True Positives (TP) are correct classifications</li>\n",
    "    <li>The False Negatives (FN) and False Positives (FP) are incorrect classifications</li>\n",
    "</ul>"
   ]
  },
  {
   "cell_type": "markdown",
   "metadata": {
    "slideshow": {
     "slide_type": "slide"
    }
   },
   "source": [
    "<h1>Confusion Matrices in scikit-learn</h1>"
   ]
  },
  {
   "cell_type": "code",
   "execution_count": 11,
   "metadata": {},
   "outputs": [
    {
     "data": {
      "text/plain": [
       "array([[182,  24],\n",
       "       [ 46,  90]])"
      ]
     },
     "execution_count": 11,
     "metadata": {},
     "output_type": "execute_result"
    }
   ],
   "source": [
    "y_predicted = cross_val_predict(pipeline, df, y, cv=10) # NB cross-val_predict, not cross_val_score\n",
    "confusion_matrix(y, y_predicted)"
   ]
  },
  {
   "cell_type": "markdown",
   "metadata": {},
   "source": [
    "<h1>The Limitations of Classification Accuracy</h1>\n",
    "<ul>\n",
    "    <li>Accuracy summarizes overall performance in a single figure, which is a good thing</li>\n",
    "    <li>But it has at least three problems:   \n",
    "        <ol>\n",
    "            <li>\n",
    "                Giving only a single figure hides information about how the classifier performs on the individual \n",
    "                classes\n",
    "                <ul>\n",
    "                    <li>This problem becomes more acute when the costs of different kinds of misclassification \n",
    "                        are not equal\n",
    "                    </li>\n",
    "                    <li>For example, in email classification, it is more serious to misclassify ham as spam\n",
    "                    </li>\n",
    "                    <li>Class exercise: Classifier A and classifier B have the same classification accuracy \n",
    "                        (0.6) but which classifier would you use?\n",
    "                        <table style=\"float: left\">\n",
    "                            <tr>\n",
    "                                <th colspan=\"2\" rowspan=\"2\">Classifier A</th><th colspan=\"2\">Predicted Class</th>\n",
    "                            </tr>\n",
    "                            <tr>\n",
    "                                <th>Benign</th><th>Malignant</th>\n",
    "                            </tr>\n",
    "                            <tr>\n",
    "                                <th rowspan=\"2\">Actual Class</th><th>Benign</th><td>400</td><td>100</td>\n",
    "                            </tr>\n",
    "                            <tr>\n",
    "                                <th>Malignant</th><td>300</td><td>200</td>\n",
    "                            </tr>\n",
    "                        </table>\n",
    "                        <table>\n",
    "                            <tr>\n",
    "                                <th colspan=\"2\" rowspan=\"2\">Classifier B</th><th colspan=\"2\">Predicted Class</th>\n",
    "                            </tr>\n",
    "                            <tr>\n",
    "                                <th>Benign</th><th>Malignant</th>\n",
    "                            </tr>\n",
    "                            <tr>\n",
    "                                <th rowspan=\"2\">Actual Class</th><th>Benign</th><td>200</td><td>300</td>\n",
    "                            </tr>\n",
    "                            <tr>\n",
    "                                <th>Malignant</th><td>100</td><td>400</td>\n",
    "                            </tr>\n",
    "                        </table>\n",
    "                    </li>\n",
    "                    <li>In principle, we could assign costs to the different kinds of mis-classification and define\n",
    "                        a cost-sensitive variant of classification accuracy, but, in practice, it's difficult, if\n",
    "                        not impossible, to come up with the costs; for example, how much worse is it to \n",
    "                        classify ham as spam than spam as ham?\n",
    "                    </li>\n",
    "                </ul>\n",
    "            </li>\n",
    "            <li>\n",
    "                Classification accuracy is also best when the distribution of classes in $T$ is reasonably\n",
    "                balanced\n",
    "                <ul>\n",
    "                    <li>\n",
    "                        If, on the other hand, some of the classes are more prevalent than others, then they \n",
    "                        tend to bias the measure, e.g. if you do well on the more prevalent classes, then you get \n",
    "                        a higher score overall\n",
    "                    </li>\n",
    "                </ul>\n",
    "            </li>\n",
    "            <li>Accuracy does not take into account correct classifications from mere chance\n",
    "                <ul>\n",
    "                    <li>There are performance measures that <em>correct for chance</em>\n",
    "                        (but we won't look at them!)\n",
    "                    </li>\n",
    "                </ul>\n",
    "            </li>\n",
    "        </ol>       \n",
    "    </li>\n",
    "</ul>"
   ]
  },
  {
   "cell_type": "markdown",
   "metadata": {
    "slideshow": {
     "slide_type": "slide"
    }
   },
   "source": [
    "<h1>Majority-Class Classifier</h1>\n",
    "<ul>\n",
    "    <li>\n",
    "        Consider $T$ that contains 950 positive examples and 50 negative examples\n",
    "    </li>\n",
    "    <li>An extremely effective classifier in terms of accuracy for this $T$ is the so-called \n",
    "       <b>majority-class classifier</b>,\n",
    "       <ul>\n",
    "           <li>It <em>always</em> predicts the majority class</li>\n",
    "       </ul>\n",
    "    <li>In this example, it predicts the positive class, and its accuracy is very high: 0.95</li>\n",
    "    <li>But it isn't really a good classifier: it has no ability to discriminate between\n",
    "        positive and negative examples\n",
    "    </li>\n",
    "    <li>Many people compare the accuracy of their classifier(s) against the \n",
    "        accuracy of the majority-class classifier to check that they are doing better\n",
    "        than this simple-minded baseline\n",
    "        <ul>\n",
    "            <li>It is one way of partly overcoming the second and third problems on the previous slide</li>\n",
    "        </ul>\n",
    "    </li>\n",
    "</ul>"
   ]
  },
  {
   "cell_type": "code",
   "execution_count": 12,
   "metadata": {
    "collapsed": true
   },
   "outputs": [],
   "source": [
    "# Create the classifier (pipeline not needed)\n",
    "pipeline = Pipeline([\n",
    "        (\"selector\", DataFrameSelector(features)),    \n",
    "        (\"estimator\", DummyClassifier(strategy = \"most_frequent\"))\n",
    "    ])"
   ]
  },
  {
   "cell_type": "code",
   "execution_count": 13,
   "metadata": {},
   "outputs": [
    {
     "data": {
      "text/plain": [
       "0.60242424242424253"
      ]
     },
     "execution_count": 13,
     "metadata": {},
     "output_type": "execute_result"
    }
   ],
   "source": [
    "np.mean(cross_val_score(pipeline, df, y, scoring=\"accuracy\", cv=10))"
   ]
  },
  {
   "cell_type": "markdown",
   "metadata": {
    "slideshow": {
     "slide_type": "slide"
    }
   },
   "source": [
    "<h1>Exercise</h1>\n",
    "<ul>\n",
    "    <li>The majority-class classifier is a 'baseline' that we can comparae against when evaluating a classifier</li>\n",
    "    <li>Propose a baseline that you can compare against when evaluating a regressor</li>\n",
    "    <li>Is it in scikit-learn?</li>\n",
    "</ul>"
   ]
  },
  {
   "cell_type": "markdown",
   "metadata": {
    "slideshow": {
     "slide_type": "slide"
    }
   },
   "source": [
    "<h1>Other Performance Measures for Classification</h1>\n",
    "<ul>\n",
    "    <li>If you do any work on classification beyond this module, you'd need to make yourself aware of all the\n",
    "        other performance measures that you could use:\n",
    "        <ul>\n",
    "            <li>E.g. precision recall, roc curves, &hellip;\n",
    "            </li>\n",
    "        </ul>\n",
    "    </li>\n",
    "    <li>Beware of 'fishing expeditions':\n",
    "        <ul>\n",
    "            <li>Choose a measure or two in advance of running any experiments &mdash; the measure(s) that you think\n",
    "                are best-aligned to your business problem\n",
    "            </li>\n",
    "            <li>When there are many measures, there is a temptation to calculate them all and then get excited when\n",
    "                the learner performs well on one of them\n",
    "            </li>\n",
    "        </ul>\n",
    "    </li>\n",
    "</ul>"
   ]
  },
  {
   "cell_type": "markdown",
   "metadata": {
    "slideshow": {
     "slide_type": "slide"
    }
   },
   "source": [
    "<h1>Example: the Iris Dataset</h1>\n",
    "<ul>\n",
    "    <li>The famous Iris dataset: \n",
    "        <a href=\"https://archive.ics.uci.edu/ml/datasets/iris\">https://archive.ics.uci.edu/ml/datasets/iris</a>\n",
    "    </li>\n",
    "    <li>$m = 150$ examples: each one is a flower &mdash; in fact, an Iris</li>\n",
    "    <li>$n = 4$ features: sepal length, sepal width, petal length and petal width (all in centimetres)</li>\n",
    "    <li>Three classes (different kinds of Iris): <i>Iris setosa</i>, <i>Iris versicolor</i> and\n",
    "        <i>Iris virginica</i>\n",
    "        <img src=\"images/20_irises.png\" />\n",
    "    </li>\n",
    "    <li>Big warning: \n",
    "        <ul>\n",
    "            <li>The dataset is sorted: 50 setosa then 50 versicolor then 50 virginica</li>\n",
    "            <li>So shuffling is important</li>\n",
    "        </ul>\n",
    "     </li>\n",
    "</ul>"
   ]
  },
  {
   "cell_type": "code",
   "execution_count": 14,
   "metadata": {},
   "outputs": [],
   "source": [
    "df = pd.read_csv(\"datasets/dataset_iris.csv\")\n",
    "\n",
    "df = df.take(np.random.permutation(len(df)))"
   ]
  },
  {
   "cell_type": "code",
   "execution_count": 15,
   "metadata": {},
   "outputs": [
    {
     "data": {
      "text/plain": [
       "(150, 5)"
      ]
     },
     "execution_count": 15,
     "metadata": {},
     "output_type": "execute_result"
    }
   ],
   "source": [
    "df.shape"
   ]
  },
  {
   "cell_type": "code",
   "execution_count": 16,
   "metadata": {},
   "outputs": [
    {
     "data": {
      "text/plain": [
       "Index(['sepal_length', 'sepal_width', 'petal_length', 'petal_width', 'label'], dtype='object')"
      ]
     },
     "execution_count": 16,
     "metadata": {},
     "output_type": "execute_result"
    }
   ],
   "source": [
    "df.columns"
   ]
  },
  {
   "cell_type": "code",
   "execution_count": 17,
   "metadata": {},
   "outputs": [
    {
     "data": {
      "text/plain": [
       "sepal_length    float64\n",
       "sepal_width     float64\n",
       "petal_length    float64\n",
       "petal_width     float64\n",
       "label            object\n",
       "dtype: object"
      ]
     },
     "execution_count": 17,
     "metadata": {},
     "output_type": "execute_result"
    }
   ],
   "source": [
    "df.dtypes"
   ]
  },
  {
   "cell_type": "code",
   "execution_count": 18,
   "metadata": {},
   "outputs": [
    {
     "data": {
      "text/html": [
       "<div>\n",
       "<table border=\"1\" class=\"dataframe\">\n",
       "  <thead>\n",
       "    <tr style=\"text-align: right;\">\n",
       "      <th></th>\n",
       "      <th>sepal_length</th>\n",
       "      <th>sepal_width</th>\n",
       "      <th>petal_length</th>\n",
       "      <th>petal_width</th>\n",
       "      <th>label</th>\n",
       "    </tr>\n",
       "  </thead>\n",
       "  <tbody>\n",
       "    <tr>\n",
       "      <th>count</th>\n",
       "      <td>150.000000</td>\n",
       "      <td>150.000000</td>\n",
       "      <td>150.000000</td>\n",
       "      <td>150.000000</td>\n",
       "      <td>150</td>\n",
       "    </tr>\n",
       "    <tr>\n",
       "      <th>unique</th>\n",
       "      <td>NaN</td>\n",
       "      <td>NaN</td>\n",
       "      <td>NaN</td>\n",
       "      <td>NaN</td>\n",
       "      <td>3</td>\n",
       "    </tr>\n",
       "    <tr>\n",
       "      <th>top</th>\n",
       "      <td>NaN</td>\n",
       "      <td>NaN</td>\n",
       "      <td>NaN</td>\n",
       "      <td>NaN</td>\n",
       "      <td>Iris-virginica</td>\n",
       "    </tr>\n",
       "    <tr>\n",
       "      <th>freq</th>\n",
       "      <td>NaN</td>\n",
       "      <td>NaN</td>\n",
       "      <td>NaN</td>\n",
       "      <td>NaN</td>\n",
       "      <td>50</td>\n",
       "    </tr>\n",
       "    <tr>\n",
       "      <th>mean</th>\n",
       "      <td>5.843333</td>\n",
       "      <td>3.054000</td>\n",
       "      <td>3.758667</td>\n",
       "      <td>1.198667</td>\n",
       "      <td>NaN</td>\n",
       "    </tr>\n",
       "    <tr>\n",
       "      <th>std</th>\n",
       "      <td>0.828066</td>\n",
       "      <td>0.433594</td>\n",
       "      <td>1.764420</td>\n",
       "      <td>0.763161</td>\n",
       "      <td>NaN</td>\n",
       "    </tr>\n",
       "    <tr>\n",
       "      <th>min</th>\n",
       "      <td>4.300000</td>\n",
       "      <td>2.000000</td>\n",
       "      <td>1.000000</td>\n",
       "      <td>0.100000</td>\n",
       "      <td>NaN</td>\n",
       "    </tr>\n",
       "    <tr>\n",
       "      <th>25%</th>\n",
       "      <td>5.100000</td>\n",
       "      <td>2.800000</td>\n",
       "      <td>1.600000</td>\n",
       "      <td>0.300000</td>\n",
       "      <td>NaN</td>\n",
       "    </tr>\n",
       "    <tr>\n",
       "      <th>50%</th>\n",
       "      <td>5.800000</td>\n",
       "      <td>3.000000</td>\n",
       "      <td>4.350000</td>\n",
       "      <td>1.300000</td>\n",
       "      <td>NaN</td>\n",
       "    </tr>\n",
       "    <tr>\n",
       "      <th>75%</th>\n",
       "      <td>6.400000</td>\n",
       "      <td>3.300000</td>\n",
       "      <td>5.100000</td>\n",
       "      <td>1.800000</td>\n",
       "      <td>NaN</td>\n",
       "    </tr>\n",
       "    <tr>\n",
       "      <th>max</th>\n",
       "      <td>7.900000</td>\n",
       "      <td>4.400000</td>\n",
       "      <td>6.900000</td>\n",
       "      <td>2.500000</td>\n",
       "      <td>NaN</td>\n",
       "    </tr>\n",
       "  </tbody>\n",
       "</table>\n",
       "</div>"
      ],
      "text/plain": [
       "        sepal_length  sepal_width  petal_length  petal_width           label\n",
       "count     150.000000   150.000000    150.000000   150.000000             150\n",
       "unique           NaN          NaN           NaN          NaN               3\n",
       "top              NaN          NaN           NaN          NaN  Iris-virginica\n",
       "freq             NaN          NaN           NaN          NaN              50\n",
       "mean        5.843333     3.054000      3.758667     1.198667             NaN\n",
       "std         0.828066     0.433594      1.764420     0.763161             NaN\n",
       "min         4.300000     2.000000      1.000000     0.100000             NaN\n",
       "25%         5.100000     2.800000      1.600000     0.300000             NaN\n",
       "50%         5.800000     3.000000      4.350000     1.300000             NaN\n",
       "75%         6.400000     3.300000      5.100000     1.800000             NaN\n",
       "max         7.900000     4.400000      6.900000     2.500000             NaN"
      ]
     },
     "execution_count": 18,
     "metadata": {},
     "output_type": "execute_result"
    }
   ],
   "source": [
    "df.describe(include=\"all\")"
   ]
  },
  {
   "cell_type": "code",
   "execution_count": 19,
   "metadata": {},
   "outputs": [
    {
     "data": {
      "image/png": "[encoded data removed]",
      "text/plain": [
       "<matplotlib.figure.Figure at 0x1bf82ab3588>"
      ]
     },
     "metadata": {},
     "output_type": "display_data"
    }
   ],
   "source": [
    "plengths = df[\"petal_length\"]\n",
    "pwidths = df[\"petal_width\"]\n",
    "labels = df[\"label\"]\n",
    "\n",
    "fig = plt.figure(figsize=(10,5))\n",
    "plt.title(\"Petal width against petal length\")\n",
    "plt.scatter(plengths[labels==\"Iris-setosa\"], pwidths[labels==\"Iris-setosa\"], color = \"green\")\n",
    "plt.scatter(plengths[labels==\"Iris-versicolor\"], pwidths[labels==\"Iris-versicolor\"], color = \"red\")\n",
    "plt.scatter(plengths[labels==\"Iris-virginica\"], pwidths[labels==\"Iris-virginica\"], color = \"yellow\")\n",
    "plt.xlabel(\"Petal length (cm)\")\n",
    "plt.xlim(0, 8)\n",
    "plt.ylabel(\"Petal width (cm)\")\n",
    "plt.ylim(0, 3)\n",
    "plt.show()"
   ]
  },
  {
   "cell_type": "markdown",
   "metadata": {},
   "source": [
    "<ul>\n",
    "    <li>Any observation you want to make?</li>\n",
    "</ul>"
   ]
  },
  {
   "cell_type": "markdown",
   "metadata": {
    "slideshow": {
     "slide_type": "slide"
    }
   },
   "source": [
    "<ul>\n",
    "    <li>For the hell of it, we'll fit two multinomial logistic regression models: \n",
    "        <ul>\n",
    "            <li>One-versus-rest</li>\n",
    "            <li>Cross entropy</li>\n",
    "        </ul>\n",
    "        and use a majority-class classifier (although we don't need to. Why?)\n",
    "    </li>\n",
    "    <li>Note: scikit-learn wants the class labels to be integers\n",
    "        <ul>\n",
    "            <li>In the <i>CS1109</i> dataset, they were already 0 or 1</li>\n",
    "            <li>In the Iris dataset, we must convert from \"Iris-setosa\", \"Iris-versicolor\" and \"Iris-virginica\" to 0, 1, 2</li>\n",
    "            <li>Note: we do <strong>not</strong> usually one-hot encode class labels</li>\n",
    "            <li>We use <code>LabelEncoder</code></li>\n",
    "        </ul>\n",
    "    </li>\n",
    "</ul>"
   ]
  },
  {
   "cell_type": "code",
   "execution_count": 20,
   "metadata": {
    "collapsed": true
   },
   "outputs": [],
   "source": [
    "y = df[\"label\"].values\n",
    "\n",
    "encoder = LabelEncoder()\n",
    "\n",
    "y_encoded = encoder.fit_transform(y)"
   ]
  },
  {
   "cell_type": "code",
   "execution_count": 21,
   "metadata": {},
   "outputs": [],
   "source": [
    "# The features we want to select\n",
    "features = [\"sepal_length\", \"sepal_width\", \"petal_length\", \"petal_width\"]\n",
    "\n",
    "# Create the one-versus-rest pipeline\n",
    "ovr_pipeline = Pipeline([\n",
    "        (\"selector\", DataFrameSelector(features)),\n",
    "        (\"scaler\", StandardScaler()),\n",
    "        (\"estimator\", LogisticRegression())\n",
    "    ])\n",
    "\n",
    "# Create the cross-entropy pipeline\n",
    "cent_pipeline = Pipeline([\n",
    "        (\"selector\", DataFrameSelector(features)),\n",
    "        (\"scaler\", StandardScaler()),\n",
    "        (\"estimator\", LogisticRegression(multi_class=\"multinomial\", solver=\"newton-cg\"))\n",
    "    ])\n",
    "\n",
    "# Create the classifier\n",
    "maj_pipeline = Pipeline([\n",
    "        (\"selector\", DataFrameSelector(features)),    \n",
    "        (\"estimator\", DummyClassifier(strategy = \"most_frequent\"))\n",
    "    ])"
   ]
  },
  {
   "cell_type": "code",
   "execution_count": 22,
   "metadata": {},
   "outputs": [
    {
     "name": "stdout",
     "output_type": "stream",
     "text": [
      "One-versus-Rest:  0.893333333333\n",
      "Cross entropy:  0.953333333333\n",
      "Majority-class classifier:  0.333333333333\n"
     ]
    }
   ],
   "source": [
    "print(\"One-versus-Rest: \", np.mean(cross_val_score(ovr_pipeline, df, y_encoded, scoring=\"accuracy\", cv=10)))\n",
    "print(\"Cross entropy: \", np.mean(cross_val_score(cent_pipeline, df, y_encoded, scoring=\"accuracy\", cv=10)))\n",
    "print(\"Majority-class classifier: \", np.mean(cross_val_score(maj_pipeline, df, y_encoded, scoring=\"accuracy\", cv=10)))"
   ]
  }
 ],
 "metadata": {
  "celltoolbar": "Slideshow",
  "kernelspec": {
   "display_name": "Python 3",
   "language": "python",
   "name": "python3"
  },
  "language_info": {
   "codemirror_mode": {
    "name": "ipython",
    "version": 3
   },
   "file_extension": ".py",
   "mimetype": "text/x-python",
   "name": "python",
   "nbconvert_exporter": "python",
   "pygments_lexer": "ipython3",
   "version": "3.5.2"
  }
 },
 "nbformat": 4,
 "nbformat_minor": 1
}
