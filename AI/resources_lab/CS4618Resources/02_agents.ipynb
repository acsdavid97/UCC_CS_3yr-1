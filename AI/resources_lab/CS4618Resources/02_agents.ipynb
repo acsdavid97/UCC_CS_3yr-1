{
 "cells": [
  {
   "cell_type": "markdown",
   "metadata": {
    "slideshow": {
     "slide_type": "slide"
    }
   },
   "source": [
    "<h1>CS4618: Artificial Intelligence I</h1>\n",
    "<h1>Agents</h1>\n",
    "<h2>\n",
    "    Derek Bridge<br>\n",
    "    School of Computer Science and Information Technology<br>\n",
    "    University College Cork\n",
    "</h2>"
   ]
  },
  {
   "cell_type": "markdown",
   "metadata": {
    "slideshow": {
     "slide_type": "skip"
    }
   },
   "source": [
    "<h1>Initialization</h1>\n",
    "$\\newcommand{\\Set}[1]{\\{#1\\}}$ \n",
    "$\\newcommand{\\Tuple}[1]{\\langle#1\\rangle}$ \n",
    "$\\newcommand{\\v}[1]{\\pmb{#1}}$ \n",
    "$\\newcommand{\\cv}[1]{\\begin{bmatrix}#1\\end{bmatrix}}$ \n",
    "$\\newcommand{\\rv}[1]{[#1]}$ \n",
    "$\\DeclareMathOperator{\\argmax}{arg\\,max}$ \n",
    "$\\DeclareMathOperator{\\argmin}{arg\\,min}$ \n",
    "$\\DeclareMathOperator{\\dist}{dist}$"
   ]
  },
  {
   "cell_type": "code",
   "execution_count": 1,
   "metadata": {
    "collapsed": false,
    "slideshow": {
     "slide_type": "skip"
    }
   },
   "outputs": [],
   "source": [
    "%reload_ext autoreload\n",
    "%autoreload 2\n",
    "%matplotlib inline"
   ]
  },
  {
   "cell_type": "code",
   "execution_count": 2,
   "metadata": {
    "collapsed": false,
    "slideshow": {
     "slide_type": "skip"
    }
   },
   "outputs": [],
   "source": [
    "import pandas as pd\n",
    "import numpy as np\n",
    "import matplotlib.pyplot as plt"
   ]
  },
  {
   "cell_type": "markdown",
   "metadata": {
    "slideshow": {
     "slide_type": "slide"
    }
   },
   "source": [
    "<h1>Intelligence</h1>\n",
    "<ul>\n",
    "    <li>My far-from-perfect definition:\n",
    "        <p style=\"font-style: italic\">\n",
    "            A system's degree of intelligence is defined in terms of its capacity to act autonomously and rationally \n",
    "            when faced with disorder, uncertainty, imprecision and intractability.\n",
    "        </p>\n",
    "    </li>\n",
    "    <li>Key points:\n",
    "        <ul>\n",
    "            <li>Intelligence is not a binary concept; it's a matter of <b>degree</b></li>\n",
    "            <li><b>Autonomous</b>, e.g. not under remote control; e.g. skills acquired by learning rather than \n",
    "                instinct/pre-programming\n",
    "            </li>\n",
    "            <li><b>Rational</b>: acting so as to achieve your <b>goals</b>, given your <b>beliefs</b>\n",
    "            </li>\n",
    "            <li>Certain situations are more challenging than others: <b>disorder</b>, <b>uncertainty</b>,\n",
    "                <b>imprecision</b>, <b>intractability</b> (see also discussion of Environments, below)\n",
    "            </li>\n",
    "        </ul>\n",
    "    </li>\n",
    "</ul>"
   ]
  },
  {
   "cell_type": "markdown",
   "metadata": {
    "slideshow": {
     "slide_type": "slide"
    }
   },
   "source": [
    "<h1>Agents</h1>\n",
    "<ul>\n",
    "    <li>An <b>agent</b> is anything that can be viewed as <b>perceiving</b> its environment through <b>sensors</b>\n",
    "        and <b>acting</b> upon that environment through <b>effectors</b>\n",
    "    </li>\n",
    "</ul>\n",
    "<figure>\n",
    "    <img src=\"images\\02_agent.png\" />\n",
    "</figure>"
   ]
  },
  {
   "cell_type": "markdown",
   "metadata": {
    "slideshow": {
     "slide_type": "slide"
    }
   },
   "source": [
    "<h1>Robots</h1>\n",
    "<ul>\n",
    "    <li>Robots are <b>embodied</b> agents, situated in <b>physical</b> environments</li>\n",
    "</ul>\n",
    "<div style=\"display: flex\">\n",
    "    <img src=\"images\\02_roomba.jpg\" />\n",
    "    <img src=\"images\\02_amazon.jpg\" />\n",
    "    <img src=\"images\\02_robocup.jpg\" />\n",
    "    <img src=\"images\\02_car.jpg\" />\n",
    "    <img src=\"images\\02_rover.jpg\" />\n",
    "</div>"
   ]
  },
  {
   "cell_type": "markdown",
   "metadata": {
    "slideshow": {
     "slide_type": "slide"
    }
   },
   "source": [
    "<h1>Software agents</h1>\n",
    "<ul>\n",
    "    <li>Software agents (sometimes called softbots) are situated in <b>virtual</b> environments</li>\n",
    "</ul>\n",
    "<div style=\"display: flex\">\n",
    "    <img src=\"images\\02_gameai.jpg\" />\n",
    "    <img src=\"images\\02_spam.jpg\" />\n",
    "    <img src=\"images\\02_adsense.png\" />\n",
    "    <img src=\"images\\02_facebook.jpg\" />\n",
    "</div>"
   ]
  },
  {
   "cell_type": "markdown",
   "metadata": {
    "slideshow": {
     "slide_type": "slide"
    }
   },
   "source": [
    "<h1>Sense, Plan, Act</h1>\n",
    "<ul>\n",
    "    <li>Sense\n",
    "        <ul>\n",
    "            <li>Use sensors to find things out about the environment</li>\n",
    "        </ul>\n",
    "    </li>\n",
    "    <li>Plan\n",
    "        <ul>\n",
    "            <li>Decide on the next action(s)</li>\n",
    "        </ul>\n",
    "    </li>\n",
    "    <li>Act\n",
    "        <ul>\n",
    "            <li>Use effector(s) to carry out the chosen action(s)</li>\n",
    "        </ul>\n",
    "    </li>\n",
    "</ul>"
   ]
  },
  {
   "cell_type": "markdown",
   "metadata": {
    "slideshow": {
     "slide_type": "slide"
    }
   },
   "source": [
    "<h1>Action function</h1>\n",
    "<ul>\n",
    "    <li>The task of the <b>Plan</b> phase is to implement an <b>action function</b> that maps \n",
    "        <ul>\n",
    "            <li>from <b>percept sequences</b></li>\n",
    "            <li>to the <b>actions</b> the agents can perform</li>\n",
    "        </ul>\n",
    "    </li>\n",
    "    <li>In intelligent agents, this function exhibits high degrees of\n",
    "        <ul>\n",
    "            <li><b>autonomy</b> and</li>\n",
    "            <li><b>rationality</b></li>\n",
    "        </ul>\n",
    "    </li>\n",
    "</ul>"
   ]
  },
  {
   "cell_type": "markdown",
   "metadata": {
    "slideshow": {
     "slide_type": "slide"
    }
   },
   "source": [
    "<h1>Environments</h1>\n",
    "<ul>\n",
    "    <li>Fully observable vs. partially observable</li>\n",
    "    <li>Deterministic vs. stochastic</li>\n",
    "    <li>Single-step vs. sequential</li>\n",
    "    <li>Static vs. dynamic</li>\n",
    "    <li>Discrete vs. continuous</li>\n",
    "    <li>Single-agent vs. multi-agent</li>\n",
    "</ul>\n",
    "<uL>\n",
    "    <li>Exercise: classify the environments of a chess program, a spam filter, a robot vacuum cleaner, and an autonomous \n",
    "        car\n",
    "    </li>\n",
    "</ul>"
   ]
  },
  {
   "cell_type": "markdown",
   "metadata": {
    "slideshow": {
     "slide_type": "slide"
    }
   },
   "source": [
    "<h1>Agents</h1>\n",
    "<ul>\n",
    "    <li>Reactive agents</li>\n",
    "    <li>Deliberative agents</li>\n",
    "</ul>"
   ]
  },
  {
   "cell_type": "markdown",
   "metadata": {
    "slideshow": {
     "slide_type": "slide"
    }
   },
   "source": [
    "<h1>Table-Driven Agents</h1>\n",
    "<ul>\n",
    "    <li>At each point in time:\n",
    "        <ul>\n",
    "            <li>$\\v{s} = \\mathit{SENSE()};$</li>\n",
    "            <li>$a = \\mathit{LOOKUP}(\\v{s}, \\mathit{table});$</li>\n",
    "            <li>$\\mathit{EXECUTE}(a);$</li>\n",
    "        </ul>\n",
    "    </li>\n",
    "</ul>"
   ]
  },
  {
   "cell_type": "markdown",
   "metadata": {
    "slideshow": {
     "slide_type": "slide"
    }
   },
   "source": [
    "<h1>Class exercise: Table-Driven Wall-Following Agent</h1>\n",
    "<ol>\n",
    "    <li>Suppose the agent has 8 touch sensors, each returning 0 or 1\n",
    "        <table style=\"border-width: 0\">\n",
    "            <tr style=\"border-width: 0\">\n",
    "                <td style=\"border-width: 0\"><img src=\"images/02_wf_agent.png\" /></td>\n",
    "                <td style=\"border-width: 0\">Sensors return 11000001</td>\n",
    "           </tr>\n",
    "        </table>\n",
    "        How many table entries will there be?\n",
    "    </li>\n",
    "</ol>"
   ]
  },
  {
   "cell_type": "markdown",
   "metadata": {
    "slideshow": {
     "slide_type": "slide"
    }
   },
   "source": [
    "<h1>Class exercise</h1>\n",
    "<ol start=\"2\">\n",
    "    <li>In fact, only three sensors are needed:\n",
    "        <figure>\n",
    "            <img src=\"images/02_three_sensors.png\" />\n",
    "        </figure>\n",
    "        How many table entries will there be?\n",
    "    </li>\n",
    "</ol>"
   ]
  },
  {
   "cell_type": "markdown",
   "metadata": {
    "slideshow": {
     "slide_type": "slide"
    }
   },
   "source": [
    "<h1>Class exercise</h1>\n",
    "<ol start=\"3\">\n",
    "    <li>The actions are:\n",
    "        <ul>\n",
    "            <li>MOVE:\n",
    "                <ul>\n",
    "                    <li>this moves the agent one cell forward</li>\n",
    "                </ul>\n",
    "            </li>\n",
    "            <li>TURN(d, n) where d = LEFT or d = RIGHT and n = 0, 1, 2, etc.:\n",
    "                <ul>\n",
    "                    <li>this turns the agent to the left or right, $n$ lots of 45&deg;</li>\n",
    "                </ul>\n",
    "            </li>\n",
    "        </ul>\n",
    "        Fill in the table so that the agent walks the walls anticlockwise\n",
    "        <table>\n",
    "            <tr><th>Percept</th><th>Action</th></tr>\n",
    "            <tr><td>000</td><td></td></tr>\n",
    "            <tr><td>001</td><td></td></tr>\n",
    "            <tr><td>010</td><td></td></tr>\n",
    "            <tr><td>011</td><td></td></tr>\n",
    "            <tr><td>100</td><td></td></tr>\n",
    "            <tr><td>101</td><td></td></tr>\n",
    "            <tr><td>110</td><td></td></tr>\n",
    "            <tr><td>111</td><td></td></tr>\n",
    "        </table>\n",
    "    </li>\n",
    "</ol>"
   ]
  },
  {
   "cell_type": "markdown",
   "metadata": {
    "slideshow": {
     "slide_type": "slide"
    }
   },
   "source": [
    "<h1>Discussion</h1>\n",
    "<ul>\n",
    "    <li>Is this agent autonomous?</li>\n",
    "    <li>When is the table-driven approach a <em>possible</em> approach?</li>\n",
    "    <li>When is it a <em>practicable</em> approach?</li>\n",
    "</ul>"
   ]
  }
 ],
 "metadata": {
  "celltoolbar": "Slideshow",
  "kernelspec": {
   "display_name": "Python 3",
   "language": "python",
   "name": "python3"
  },
  "language_info": {
   "codemirror_mode": {
    "name": "ipython",
    "version": 3
   },
   "file_extension": ".py",
   "mimetype": "text/x-python",
   "name": "python",
   "nbconvert_exporter": "python",
   "pygments_lexer": "ipython3",
   "version": "3.5.1"
  }
 },
 "nbformat": 4,
 "nbformat_minor": 0
}
